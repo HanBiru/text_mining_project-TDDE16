{
 "cells": [
  {
   "cell_type": "markdown",
   "metadata": {},
   "source": [
    "**This is the first draft of my project!**"
   ]
  },
  {
   "cell_type": "markdown",
   "metadata": {},
   "source": [
    "DATASETS: \"Top Spotify songs from 2010-2019 - BY YEAR\" and \"Spotify - All Time Top 2000s Mega Dataset\"\n",
    "\n",
    "URLS: https://www.kaggle.com/datasets/leonardopena/top-spotify-songs-from-20102019-by-year?resource=download and https://www.kaggle.com/datasets/iamsumat/spotify-top-2000s-mega-dataset?select=Spotify-2000.csv\n",
    "\n",
    "TASK: Improving Song Genre Classification with Text Classification.\n",
    "\n",
    "STEP 1: Build baseline with song audio features\n",
    "\n",
    "STEP 2: Build baseline with song lyrics\n",
    "\n",
    "STEP 3: Combine models\n",
    "\n",
    "STEP 4: Finetune and improve scores of 1 to 3.\n",
    "\n",
    "Hypothesis: Lyrics does contain important information not shown in the audio itself that can improve audio classifiers.\n",
    "(This is most likely already shown in some research but the process of this project seemed very intriguing to me and does contain many steps of problem solving!\n",
    ")"
   ]
  },
  {
   "cell_type": "code",
   "execution_count": 53,
   "metadata": {},
   "outputs": [],
   "source": [
    "import pandas as pd\n",
    "import numpy as np"
   ]
  },
  {
   "cell_type": "markdown",
   "metadata": {},
   "source": [
    "Data Preaparation"
   ]
  },
  {
   "cell_type": "code",
   "execution_count": 54,
   "metadata": {},
   "outputs": [],
   "source": [
    "df_B42000 = pd.read_csv(\"./DATASETS/Spotify-2000.csv\")\n",
    "df_10_to_19 = pd.read_csv(\"./DATASETS/top10s.csv\")\n",
    "df_B42000['Length (Duration)'] = df_B42000['Length (Duration)'].apply(lambda x: int(x.replace(',',''))) #numbers over 1000 in this column got handled as strings.\n",
    "df_B42000['Length (Duration)'] = df_B42000['Length (Duration)'].astype(float) #numvers got handled as ints so the describe function did not work for this column.\n"
   ]
  },
  {
   "cell_type": "code",
   "execution_count": 55,
   "metadata": {},
   "outputs": [
    {
     "data": {
      "text/html": [
       "<div>\n",
       "<style scoped>\n",
       "    .dataframe tbody tr th:only-of-type {\n",
       "        vertical-align: middle;\n",
       "    }\n",
       "\n",
       "    .dataframe tbody tr th {\n",
       "        vertical-align: top;\n",
       "    }\n",
       "\n",
       "    .dataframe thead th {\n",
       "        text-align: right;\n",
       "    }\n",
       "</style>\n",
       "<table border=\"1\" class=\"dataframe\">\n",
       "  <thead>\n",
       "    <tr style=\"text-align: right;\">\n",
       "      <th></th>\n",
       "      <th>Index</th>\n",
       "      <th>Year</th>\n",
       "      <th>Beats Per Minute (BPM)</th>\n",
       "      <th>Energy</th>\n",
       "      <th>Danceability</th>\n",
       "      <th>Loudness (dB)</th>\n",
       "      <th>Liveness</th>\n",
       "      <th>Valence</th>\n",
       "      <th>Length (Duration)</th>\n",
       "      <th>Acousticness</th>\n",
       "      <th>Speechiness</th>\n",
       "      <th>Popularity</th>\n",
       "    </tr>\n",
       "  </thead>\n",
       "  <tbody>\n",
       "    <tr>\n",
       "      <th>count</th>\n",
       "      <td>1994.000000</td>\n",
       "      <td>1994.000000</td>\n",
       "      <td>1994.000000</td>\n",
       "      <td>1994.000000</td>\n",
       "      <td>1994.000000</td>\n",
       "      <td>1994.000000</td>\n",
       "      <td>1994.000000</td>\n",
       "      <td>1994.000000</td>\n",
       "      <td>1994.000000</td>\n",
       "      <td>1994.000000</td>\n",
       "      <td>1994.000000</td>\n",
       "      <td>1994.00000</td>\n",
       "    </tr>\n",
       "    <tr>\n",
       "      <th>mean</th>\n",
       "      <td>997.500000</td>\n",
       "      <td>1992.992979</td>\n",
       "      <td>120.215647</td>\n",
       "      <td>59.679539</td>\n",
       "      <td>53.238215</td>\n",
       "      <td>-9.008526</td>\n",
       "      <td>19.012036</td>\n",
       "      <td>49.408726</td>\n",
       "      <td>262.443330</td>\n",
       "      <td>28.858074</td>\n",
       "      <td>4.994985</td>\n",
       "      <td>59.52658</td>\n",
       "    </tr>\n",
       "    <tr>\n",
       "      <th>std</th>\n",
       "      <td>575.762538</td>\n",
       "      <td>16.116048</td>\n",
       "      <td>28.028096</td>\n",
       "      <td>22.154322</td>\n",
       "      <td>15.351507</td>\n",
       "      <td>3.647876</td>\n",
       "      <td>16.727378</td>\n",
       "      <td>24.858212</td>\n",
       "      <td>93.604387</td>\n",
       "      <td>29.011986</td>\n",
       "      <td>4.401566</td>\n",
       "      <td>14.35160</td>\n",
       "    </tr>\n",
       "    <tr>\n",
       "      <th>min</th>\n",
       "      <td>1.000000</td>\n",
       "      <td>1956.000000</td>\n",
       "      <td>37.000000</td>\n",
       "      <td>3.000000</td>\n",
       "      <td>10.000000</td>\n",
       "      <td>-27.000000</td>\n",
       "      <td>2.000000</td>\n",
       "      <td>3.000000</td>\n",
       "      <td>93.000000</td>\n",
       "      <td>0.000000</td>\n",
       "      <td>2.000000</td>\n",
       "      <td>11.00000</td>\n",
       "    </tr>\n",
       "    <tr>\n",
       "      <th>25%</th>\n",
       "      <td>499.250000</td>\n",
       "      <td>1979.000000</td>\n",
       "      <td>99.000000</td>\n",
       "      <td>42.000000</td>\n",
       "      <td>43.000000</td>\n",
       "      <td>-11.000000</td>\n",
       "      <td>9.000000</td>\n",
       "      <td>29.000000</td>\n",
       "      <td>212.000000</td>\n",
       "      <td>3.000000</td>\n",
       "      <td>3.000000</td>\n",
       "      <td>49.25000</td>\n",
       "    </tr>\n",
       "    <tr>\n",
       "      <th>50%</th>\n",
       "      <td>997.500000</td>\n",
       "      <td>1993.000000</td>\n",
       "      <td>119.000000</td>\n",
       "      <td>61.000000</td>\n",
       "      <td>53.000000</td>\n",
       "      <td>-8.000000</td>\n",
       "      <td>12.000000</td>\n",
       "      <td>47.000000</td>\n",
       "      <td>245.000000</td>\n",
       "      <td>18.000000</td>\n",
       "      <td>4.000000</td>\n",
       "      <td>62.00000</td>\n",
       "    </tr>\n",
       "    <tr>\n",
       "      <th>75%</th>\n",
       "      <td>1495.750000</td>\n",
       "      <td>2007.000000</td>\n",
       "      <td>136.000000</td>\n",
       "      <td>78.000000</td>\n",
       "      <td>64.000000</td>\n",
       "      <td>-6.000000</td>\n",
       "      <td>23.000000</td>\n",
       "      <td>69.750000</td>\n",
       "      <td>289.000000</td>\n",
       "      <td>50.000000</td>\n",
       "      <td>5.000000</td>\n",
       "      <td>71.00000</td>\n",
       "    </tr>\n",
       "    <tr>\n",
       "      <th>max</th>\n",
       "      <td>1994.000000</td>\n",
       "      <td>2019.000000</td>\n",
       "      <td>206.000000</td>\n",
       "      <td>100.000000</td>\n",
       "      <td>96.000000</td>\n",
       "      <td>-2.000000</td>\n",
       "      <td>99.000000</td>\n",
       "      <td>99.000000</td>\n",
       "      <td>1412.000000</td>\n",
       "      <td>99.000000</td>\n",
       "      <td>55.000000</td>\n",
       "      <td>100.00000</td>\n",
       "    </tr>\n",
       "  </tbody>\n",
       "</table>\n",
       "</div>"
      ],
      "text/plain": [
       "             Index         Year  Beats Per Minute (BPM)       Energy  \\\n",
       "count  1994.000000  1994.000000             1994.000000  1994.000000   \n",
       "mean    997.500000  1992.992979              120.215647    59.679539   \n",
       "std     575.762538    16.116048               28.028096    22.154322   \n",
       "min       1.000000  1956.000000               37.000000     3.000000   \n",
       "25%     499.250000  1979.000000               99.000000    42.000000   \n",
       "50%     997.500000  1993.000000              119.000000    61.000000   \n",
       "75%    1495.750000  2007.000000              136.000000    78.000000   \n",
       "max    1994.000000  2019.000000              206.000000   100.000000   \n",
       "\n",
       "       Danceability  Loudness (dB)     Liveness      Valence  \\\n",
       "count   1994.000000    1994.000000  1994.000000  1994.000000   \n",
       "mean      53.238215      -9.008526    19.012036    49.408726   \n",
       "std       15.351507       3.647876    16.727378    24.858212   \n",
       "min       10.000000     -27.000000     2.000000     3.000000   \n",
       "25%       43.000000     -11.000000     9.000000    29.000000   \n",
       "50%       53.000000      -8.000000    12.000000    47.000000   \n",
       "75%       64.000000      -6.000000    23.000000    69.750000   \n",
       "max       96.000000      -2.000000    99.000000    99.000000   \n",
       "\n",
       "       Length (Duration)  Acousticness  Speechiness  Popularity  \n",
       "count        1994.000000   1994.000000  1994.000000  1994.00000  \n",
       "mean          262.443330     28.858074     4.994985    59.52658  \n",
       "std            93.604387     29.011986     4.401566    14.35160  \n",
       "min            93.000000      0.000000     2.000000    11.00000  \n",
       "25%           212.000000      3.000000     3.000000    49.25000  \n",
       "50%           245.000000     18.000000     4.000000    62.00000  \n",
       "75%           289.000000     50.000000     5.000000    71.00000  \n",
       "max          1412.000000     99.000000    55.000000   100.00000  "
      ]
     },
     "execution_count": 55,
     "metadata": {},
     "output_type": "execute_result"
    }
   ],
   "source": [
    "df_B42000.describe()"
   ]
  },
  {
   "cell_type": "code",
   "execution_count": 56,
   "metadata": {},
   "outputs": [
    {
     "data": {
      "text/html": [
       "<div>\n",
       "<style scoped>\n",
       "    .dataframe tbody tr th:only-of-type {\n",
       "        vertical-align: middle;\n",
       "    }\n",
       "\n",
       "    .dataframe tbody tr th {\n",
       "        vertical-align: top;\n",
       "    }\n",
       "\n",
       "    .dataframe thead th {\n",
       "        text-align: right;\n",
       "    }\n",
       "</style>\n",
       "<table border=\"1\" class=\"dataframe\">\n",
       "  <thead>\n",
       "    <tr style=\"text-align: right;\">\n",
       "      <th></th>\n",
       "      <th>Unnamed: 0</th>\n",
       "      <th>year</th>\n",
       "      <th>bpm</th>\n",
       "      <th>nrgy</th>\n",
       "      <th>dnce</th>\n",
       "      <th>dB</th>\n",
       "      <th>live</th>\n",
       "      <th>val</th>\n",
       "      <th>dur</th>\n",
       "      <th>acous</th>\n",
       "      <th>spch</th>\n",
       "      <th>pop</th>\n",
       "    </tr>\n",
       "  </thead>\n",
       "  <tbody>\n",
       "    <tr>\n",
       "      <th>count</th>\n",
       "      <td>603.000000</td>\n",
       "      <td>603.000000</td>\n",
       "      <td>603.000000</td>\n",
       "      <td>603.000000</td>\n",
       "      <td>603.000000</td>\n",
       "      <td>603.000000</td>\n",
       "      <td>603.000000</td>\n",
       "      <td>603.000000</td>\n",
       "      <td>603.000000</td>\n",
       "      <td>603.000000</td>\n",
       "      <td>603.000000</td>\n",
       "      <td>603.000000</td>\n",
       "    </tr>\n",
       "    <tr>\n",
       "      <th>mean</th>\n",
       "      <td>302.000000</td>\n",
       "      <td>2014.592040</td>\n",
       "      <td>118.545605</td>\n",
       "      <td>70.504146</td>\n",
       "      <td>64.379768</td>\n",
       "      <td>-5.578773</td>\n",
       "      <td>17.774461</td>\n",
       "      <td>52.225539</td>\n",
       "      <td>224.674959</td>\n",
       "      <td>14.326700</td>\n",
       "      <td>8.358209</td>\n",
       "      <td>66.520730</td>\n",
       "    </tr>\n",
       "    <tr>\n",
       "      <th>std</th>\n",
       "      <td>174.215384</td>\n",
       "      <td>2.607057</td>\n",
       "      <td>24.795358</td>\n",
       "      <td>16.310664</td>\n",
       "      <td>13.378718</td>\n",
       "      <td>2.798020</td>\n",
       "      <td>13.102543</td>\n",
       "      <td>22.513020</td>\n",
       "      <td>34.130059</td>\n",
       "      <td>20.766165</td>\n",
       "      <td>7.483162</td>\n",
       "      <td>14.517746</td>\n",
       "    </tr>\n",
       "    <tr>\n",
       "      <th>min</th>\n",
       "      <td>1.000000</td>\n",
       "      <td>2010.000000</td>\n",
       "      <td>0.000000</td>\n",
       "      <td>0.000000</td>\n",
       "      <td>0.000000</td>\n",
       "      <td>-60.000000</td>\n",
       "      <td>0.000000</td>\n",
       "      <td>0.000000</td>\n",
       "      <td>134.000000</td>\n",
       "      <td>0.000000</td>\n",
       "      <td>0.000000</td>\n",
       "      <td>0.000000</td>\n",
       "    </tr>\n",
       "    <tr>\n",
       "      <th>25%</th>\n",
       "      <td>151.500000</td>\n",
       "      <td>2013.000000</td>\n",
       "      <td>100.000000</td>\n",
       "      <td>61.000000</td>\n",
       "      <td>57.000000</td>\n",
       "      <td>-6.000000</td>\n",
       "      <td>9.000000</td>\n",
       "      <td>35.000000</td>\n",
       "      <td>202.000000</td>\n",
       "      <td>2.000000</td>\n",
       "      <td>4.000000</td>\n",
       "      <td>60.000000</td>\n",
       "    </tr>\n",
       "    <tr>\n",
       "      <th>50%</th>\n",
       "      <td>302.000000</td>\n",
       "      <td>2015.000000</td>\n",
       "      <td>120.000000</td>\n",
       "      <td>74.000000</td>\n",
       "      <td>66.000000</td>\n",
       "      <td>-5.000000</td>\n",
       "      <td>12.000000</td>\n",
       "      <td>52.000000</td>\n",
       "      <td>221.000000</td>\n",
       "      <td>6.000000</td>\n",
       "      <td>5.000000</td>\n",
       "      <td>69.000000</td>\n",
       "    </tr>\n",
       "    <tr>\n",
       "      <th>75%</th>\n",
       "      <td>452.500000</td>\n",
       "      <td>2017.000000</td>\n",
       "      <td>129.000000</td>\n",
       "      <td>82.000000</td>\n",
       "      <td>73.000000</td>\n",
       "      <td>-4.000000</td>\n",
       "      <td>24.000000</td>\n",
       "      <td>69.000000</td>\n",
       "      <td>239.500000</td>\n",
       "      <td>17.000000</td>\n",
       "      <td>9.000000</td>\n",
       "      <td>76.000000</td>\n",
       "    </tr>\n",
       "    <tr>\n",
       "      <th>max</th>\n",
       "      <td>603.000000</td>\n",
       "      <td>2019.000000</td>\n",
       "      <td>206.000000</td>\n",
       "      <td>98.000000</td>\n",
       "      <td>97.000000</td>\n",
       "      <td>-2.000000</td>\n",
       "      <td>74.000000</td>\n",
       "      <td>98.000000</td>\n",
       "      <td>424.000000</td>\n",
       "      <td>99.000000</td>\n",
       "      <td>48.000000</td>\n",
       "      <td>99.000000</td>\n",
       "    </tr>\n",
       "  </tbody>\n",
       "</table>\n",
       "</div>"
      ],
      "text/plain": [
       "       Unnamed: 0         year         bpm        nrgy        dnce  \\\n",
       "count  603.000000   603.000000  603.000000  603.000000  603.000000   \n",
       "mean   302.000000  2014.592040  118.545605   70.504146   64.379768   \n",
       "std    174.215384     2.607057   24.795358   16.310664   13.378718   \n",
       "min      1.000000  2010.000000    0.000000    0.000000    0.000000   \n",
       "25%    151.500000  2013.000000  100.000000   61.000000   57.000000   \n",
       "50%    302.000000  2015.000000  120.000000   74.000000   66.000000   \n",
       "75%    452.500000  2017.000000  129.000000   82.000000   73.000000   \n",
       "max    603.000000  2019.000000  206.000000   98.000000   97.000000   \n",
       "\n",
       "               dB        live         val         dur       acous        spch  \\\n",
       "count  603.000000  603.000000  603.000000  603.000000  603.000000  603.000000   \n",
       "mean    -5.578773   17.774461   52.225539  224.674959   14.326700    8.358209   \n",
       "std      2.798020   13.102543   22.513020   34.130059   20.766165    7.483162   \n",
       "min    -60.000000    0.000000    0.000000  134.000000    0.000000    0.000000   \n",
       "25%     -6.000000    9.000000   35.000000  202.000000    2.000000    4.000000   \n",
       "50%     -5.000000   12.000000   52.000000  221.000000    6.000000    5.000000   \n",
       "75%     -4.000000   24.000000   69.000000  239.500000   17.000000    9.000000   \n",
       "max     -2.000000   74.000000   98.000000  424.000000   99.000000   48.000000   \n",
       "\n",
       "              pop  \n",
       "count  603.000000  \n",
       "mean    66.520730  \n",
       "std     14.517746  \n",
       "min      0.000000  \n",
       "25%     60.000000  \n",
       "50%     69.000000  \n",
       "75%     76.000000  \n",
       "max     99.000000  "
      ]
     },
     "execution_count": 56,
     "metadata": {},
     "output_type": "execute_result"
    }
   ],
   "source": [
    "df_10_to_19.describe()"
   ]
  },
  {
   "cell_type": "markdown",
   "metadata": {},
   "source": [
    "Since the two datasets both are Kaggle datasets from Spotify, they use the same metrics and the values in the columns seem to follow similiar distributions it does not seem to be any problems to concatenate the datasets to one. "
   ]
  },
  {
   "cell_type": "code",
   "execution_count": 57,
   "metadata": {},
   "outputs": [
    {
     "data": {
      "text/html": [
       "<div>\n",
       "<style scoped>\n",
       "    .dataframe tbody tr th:only-of-type {\n",
       "        vertical-align: middle;\n",
       "    }\n",
       "\n",
       "    .dataframe tbody tr th {\n",
       "        vertical-align: top;\n",
       "    }\n",
       "\n",
       "    .dataframe thead th {\n",
       "        text-align: right;\n",
       "    }\n",
       "</style>\n",
       "<table border=\"1\" class=\"dataframe\">\n",
       "  <thead>\n",
       "    <tr style=\"text-align: right;\">\n",
       "      <th></th>\n",
       "      <th>Index</th>\n",
       "      <th>Title</th>\n",
       "      <th>Artist</th>\n",
       "      <th>Top Genre</th>\n",
       "      <th>Year</th>\n",
       "      <th>Beats Per Minute (BPM)</th>\n",
       "      <th>Energy</th>\n",
       "      <th>Danceability</th>\n",
       "      <th>Loudness (dB)</th>\n",
       "      <th>Liveness</th>\n",
       "      <th>Valence</th>\n",
       "      <th>Length (Duration)</th>\n",
       "      <th>Acousticness</th>\n",
       "      <th>Speechiness</th>\n",
       "      <th>Popularity</th>\n",
       "    </tr>\n",
       "  </thead>\n",
       "  <tbody>\n",
       "    <tr>\n",
       "      <th>0</th>\n",
       "      <td>1</td>\n",
       "      <td>Hey, Soul Sister</td>\n",
       "      <td>Train</td>\n",
       "      <td>neo mellow</td>\n",
       "      <td>2010</td>\n",
       "      <td>97</td>\n",
       "      <td>89</td>\n",
       "      <td>67</td>\n",
       "      <td>-4</td>\n",
       "      <td>8</td>\n",
       "      <td>80</td>\n",
       "      <td>217.0</td>\n",
       "      <td>19</td>\n",
       "      <td>4</td>\n",
       "      <td>83</td>\n",
       "    </tr>\n",
       "    <tr>\n",
       "      <th>1</th>\n",
       "      <td>2</td>\n",
       "      <td>Love The Way You Lie</td>\n",
       "      <td>Eminem</td>\n",
       "      <td>detroit hip hop</td>\n",
       "      <td>2010</td>\n",
       "      <td>87</td>\n",
       "      <td>93</td>\n",
       "      <td>75</td>\n",
       "      <td>-5</td>\n",
       "      <td>52</td>\n",
       "      <td>64</td>\n",
       "      <td>263.0</td>\n",
       "      <td>24</td>\n",
       "      <td>23</td>\n",
       "      <td>82</td>\n",
       "    </tr>\n",
       "    <tr>\n",
       "      <th>2</th>\n",
       "      <td>3</td>\n",
       "      <td>TiK ToK</td>\n",
       "      <td>Kesha</td>\n",
       "      <td>dance pop</td>\n",
       "      <td>2010</td>\n",
       "      <td>120</td>\n",
       "      <td>84</td>\n",
       "      <td>76</td>\n",
       "      <td>-3</td>\n",
       "      <td>29</td>\n",
       "      <td>71</td>\n",
       "      <td>200.0</td>\n",
       "      <td>10</td>\n",
       "      <td>14</td>\n",
       "      <td>80</td>\n",
       "    </tr>\n",
       "    <tr>\n",
       "      <th>3</th>\n",
       "      <td>4</td>\n",
       "      <td>Bad Romance</td>\n",
       "      <td>Lady Gaga</td>\n",
       "      <td>dance pop</td>\n",
       "      <td>2010</td>\n",
       "      <td>119</td>\n",
       "      <td>92</td>\n",
       "      <td>70</td>\n",
       "      <td>-4</td>\n",
       "      <td>8</td>\n",
       "      <td>71</td>\n",
       "      <td>295.0</td>\n",
       "      <td>0</td>\n",
       "      <td>4</td>\n",
       "      <td>79</td>\n",
       "    </tr>\n",
       "    <tr>\n",
       "      <th>4</th>\n",
       "      <td>5</td>\n",
       "      <td>Just the Way You Are</td>\n",
       "      <td>Bruno Mars</td>\n",
       "      <td>pop</td>\n",
       "      <td>2010</td>\n",
       "      <td>109</td>\n",
       "      <td>84</td>\n",
       "      <td>64</td>\n",
       "      <td>-5</td>\n",
       "      <td>9</td>\n",
       "      <td>43</td>\n",
       "      <td>221.0</td>\n",
       "      <td>2</td>\n",
       "      <td>4</td>\n",
       "      <td>78</td>\n",
       "    </tr>\n",
       "  </tbody>\n",
       "</table>\n",
       "</div>"
      ],
      "text/plain": [
       "   Index                 Title      Artist        Top Genre  Year  \\\n",
       "0      1      Hey, Soul Sister       Train       neo mellow  2010   \n",
       "1      2  Love The Way You Lie      Eminem  detroit hip hop  2010   \n",
       "2      3               TiK ToK       Kesha        dance pop  2010   \n",
       "3      4           Bad Romance   Lady Gaga        dance pop  2010   \n",
       "4      5  Just the Way You Are  Bruno Mars              pop  2010   \n",
       "\n",
       "   Beats Per Minute (BPM)  Energy  Danceability  Loudness (dB)  Liveness  \\\n",
       "0                      97      89            67             -4         8   \n",
       "1                      87      93            75             -5        52   \n",
       "2                     120      84            76             -3        29   \n",
       "3                     119      92            70             -4         8   \n",
       "4                     109      84            64             -5         9   \n",
       "\n",
       "   Valence  Length (Duration)  Acousticness  Speechiness  Popularity  \n",
       "0       80              217.0            19            4          83  \n",
       "1       64              263.0            24           23          82  \n",
       "2       71              200.0            10           14          80  \n",
       "3       71              295.0             0            4          79  \n",
       "4       43              221.0             2            4          78  "
      ]
     },
     "execution_count": 57,
     "metadata": {},
     "output_type": "execute_result"
    }
   ],
   "source": [
    "df_10_to_19.columns = df_B42000.columns #syncing column names\n",
    "df = df_10_to_19.append(df_B42000, ignore_index=True)\n",
    "df.head()"
   ]
  },
  {
   "cell_type": "markdown",
   "metadata": {},
   "source": [
    "Since the task is to classify the Genre of the song we can remove some columns. We keep the Title, Artist for future use, but we can remove the columns Year and Popularity since they are not audio features. The Speechiness column is a gray zone but you could consider words per minute as an audio feature so we keep it as an input for now.  "
   ]
  },
  {
   "cell_type": "code",
   "execution_count": 58,
   "metadata": {},
   "outputs": [
    {
     "data": {
      "text/html": [
       "<div>\n",
       "<style scoped>\n",
       "    .dataframe tbody tr th:only-of-type {\n",
       "        vertical-align: middle;\n",
       "    }\n",
       "\n",
       "    .dataframe tbody tr th {\n",
       "        vertical-align: top;\n",
       "    }\n",
       "\n",
       "    .dataframe thead th {\n",
       "        text-align: right;\n",
       "    }\n",
       "</style>\n",
       "<table border=\"1\" class=\"dataframe\">\n",
       "  <thead>\n",
       "    <tr style=\"text-align: right;\">\n",
       "      <th></th>\n",
       "      <th>Title</th>\n",
       "      <th>Artist</th>\n",
       "      <th>Top Genre</th>\n",
       "      <th>Beats Per Minute (BPM)</th>\n",
       "      <th>Energy</th>\n",
       "      <th>Danceability</th>\n",
       "      <th>Loudness (dB)</th>\n",
       "      <th>Liveness</th>\n",
       "      <th>Valence</th>\n",
       "      <th>Length (Duration)</th>\n",
       "      <th>Acousticness</th>\n",
       "      <th>Speechiness</th>\n",
       "    </tr>\n",
       "  </thead>\n",
       "  <tbody>\n",
       "    <tr>\n",
       "      <th>0</th>\n",
       "      <td>Hey, Soul Sister</td>\n",
       "      <td>Train</td>\n",
       "      <td>neo mellow</td>\n",
       "      <td>97</td>\n",
       "      <td>89</td>\n",
       "      <td>67</td>\n",
       "      <td>-4</td>\n",
       "      <td>8</td>\n",
       "      <td>80</td>\n",
       "      <td>217.0</td>\n",
       "      <td>19</td>\n",
       "      <td>4</td>\n",
       "    </tr>\n",
       "    <tr>\n",
       "      <th>1</th>\n",
       "      <td>Love The Way You Lie</td>\n",
       "      <td>Eminem</td>\n",
       "      <td>detroit hip hop</td>\n",
       "      <td>87</td>\n",
       "      <td>93</td>\n",
       "      <td>75</td>\n",
       "      <td>-5</td>\n",
       "      <td>52</td>\n",
       "      <td>64</td>\n",
       "      <td>263.0</td>\n",
       "      <td>24</td>\n",
       "      <td>23</td>\n",
       "    </tr>\n",
       "    <tr>\n",
       "      <th>2</th>\n",
       "      <td>TiK ToK</td>\n",
       "      <td>Kesha</td>\n",
       "      <td>dance pop</td>\n",
       "      <td>120</td>\n",
       "      <td>84</td>\n",
       "      <td>76</td>\n",
       "      <td>-3</td>\n",
       "      <td>29</td>\n",
       "      <td>71</td>\n",
       "      <td>200.0</td>\n",
       "      <td>10</td>\n",
       "      <td>14</td>\n",
       "    </tr>\n",
       "    <tr>\n",
       "      <th>3</th>\n",
       "      <td>Bad Romance</td>\n",
       "      <td>Lady Gaga</td>\n",
       "      <td>dance pop</td>\n",
       "      <td>119</td>\n",
       "      <td>92</td>\n",
       "      <td>70</td>\n",
       "      <td>-4</td>\n",
       "      <td>8</td>\n",
       "      <td>71</td>\n",
       "      <td>295.0</td>\n",
       "      <td>0</td>\n",
       "      <td>4</td>\n",
       "    </tr>\n",
       "    <tr>\n",
       "      <th>4</th>\n",
       "      <td>Just the Way You Are</td>\n",
       "      <td>Bruno Mars</td>\n",
       "      <td>pop</td>\n",
       "      <td>109</td>\n",
       "      <td>84</td>\n",
       "      <td>64</td>\n",
       "      <td>-5</td>\n",
       "      <td>9</td>\n",
       "      <td>43</td>\n",
       "      <td>221.0</td>\n",
       "      <td>2</td>\n",
       "      <td>4</td>\n",
       "    </tr>\n",
       "  </tbody>\n",
       "</table>\n",
       "</div>"
      ],
      "text/plain": [
       "                  Title      Artist        Top Genre  Beats Per Minute (BPM)  \\\n",
       "0      Hey, Soul Sister       Train       neo mellow                      97   \n",
       "1  Love The Way You Lie      Eminem  detroit hip hop                      87   \n",
       "2               TiK ToK       Kesha        dance pop                     120   \n",
       "3           Bad Romance   Lady Gaga        dance pop                     119   \n",
       "4  Just the Way You Are  Bruno Mars              pop                     109   \n",
       "\n",
       "   Energy  Danceability  Loudness (dB)  Liveness  Valence  Length (Duration)  \\\n",
       "0      89            67             -4         8       80              217.0   \n",
       "1      93            75             -5        52       64              263.0   \n",
       "2      84            76             -3        29       71              200.0   \n",
       "3      92            70             -4         8       71              295.0   \n",
       "4      84            64             -5         9       43              221.0   \n",
       "\n",
       "   Acousticness  Speechiness  \n",
       "0            19            4  \n",
       "1            24           23  \n",
       "2            10           14  \n",
       "3             0            4  \n",
       "4             2            4  "
      ]
     },
     "execution_count": 58,
     "metadata": {},
     "output_type": "execute_result"
    }
   ],
   "source": [
    "df_complete = df.drop(df.columns[[0,4,14]], axis=1)\n",
    "df_complete.head()"
   ]
  },
  {
   "cell_type": "markdown",
   "metadata": {},
   "source": [
    "We may need to reduce some genres since popular songs does most likely not have uniformly distributed genres. We make the asumption that every label that ends with pop or rock for example is a subgenre of the latest term in the genre label. Therefore all small classes of genres will be classed as their supposed broader class. (We may have to go back if our classifier does not seem to work as intended.)"
   ]
  },
  {
   "cell_type": "code",
   "execution_count": 59,
   "metadata": {},
   "outputs": [
    {
     "data": {
      "text/plain": [
       "album rock          413\n",
       "dance pop           410\n",
       "adult standards     123\n",
       "pop                 107\n",
       "dutch pop            88\n",
       "                   ... \n",
       "stomp and holler      1\n",
       "pop punk              1\n",
       "canadian latin        1\n",
       "chicago rap           1\n",
       "hard rock             1\n",
       "Name: Top Genre, Length: 167, dtype: int64"
      ]
     },
     "execution_count": 59,
     "metadata": {},
     "output_type": "execute_result"
    }
   ],
   "source": [
    "df_complete['Top Genre'].value_counts()"
   ]
  },
  {
   "cell_type": "code",
   "execution_count": 60,
   "metadata": {},
   "outputs": [
    {
     "name": "stdout",
     "output_type": "stream",
     "text": [
      "['mellow', 'hip hop', 'pop', 'pop', 'pop', 'pop', 'pop', 'hip hop', 'pop', 'pop', 'pop', 'pop', 'room', 'soul', 'rap', 'pop', 'wave', 'band', 'pop', 'rock', 'electro', 'complextro', 'hip hop', 'pop', 'indie', 'folk-pop', 'metropopolis', 'house', 'hip hop', 'electropop', 'dance', 'hollywood', 'r&b', 'singer-songwriter', 'house', 'edm', 'pop', 'hip hop', 'pop', 'latin', 'latin', 'trap', 'edm', 'house', 'downtempo', 'brostep', 'country', 'pop', 'room', 'r&b', 'standards', 'rock', 'hip hop', 'metal', 'rock', 'rock', 'rock', 'rock', 'indie', 'rock', 'cabaret', 'pop', 'rock', 'pop', 'americana', 'dance', 'pop', 'afropop', 'rock', 'disco', 'rock', 'rock', 'britpop', 'limburg', 'country', 'alternative', 'folk', 'celtic', 'chanson', 'hip hop', 'rock', 'rock', 'rock', 'fusion', 'invasion', 'metal', 'pop', 'hip hop', 'metal', 'rock', 'jazz', 'prog', 'pop', 'trance', 'singer-songwriter', 'gold', 'pop', 'rock', 'eurodance', 'blues', 'folk', 'beat', 'pop', 'metal', 'pop', 'funk', 'hardcore', 'pop', 'schlager', 'gabba', 'pop', 'singer-songwriter', 'rock', 'nederpop', 'folk', 'pop', 'electronica', 'holler', 'psych', 'laboratorio', 'jazz', 'rock-and-roll', 'rock', 'soundtrack', 'indie', 'ambient', 'soul', 'streektaal', 'pop', 'anthem-folk', 'pop', 'ccm', 'austropop', 'americana', 'soul', 'soul', 'pop', 'pop', 'europop', 'rock', 'reggae', 'j-core', 'funk', 'folk', 'punk', 'basshall', 'rock', 'rock', 'country', 'punk', 'pop', 'rock', 'christelijk', 'levenslied', 'cyberpunk', 'rap', 'house', 'rock', 'rock', 'rock', 'rock', 'jazz', 'rock', 'pop', 'punk', 'motown', 'bebop']\n"
     ]
    },
    {
     "data": {
      "text/plain": [
       "rock           857\n",
       "pop            802\n",
       "standards      123\n",
       "metal           93\n",
       "indie           78\n",
       "              ... \n",
       "ccm              1\n",
       "j-core           1\n",
       "streektaal       1\n",
       "holler           1\n",
       "anthem-folk      1\n",
       "Name: Top Genre, Length: 73, dtype: int64"
      ]
     },
     "execution_count": 60,
     "metadata": {},
     "output_type": "execute_result"
    }
   ],
   "source": [
    "few_genres = df_complete['Top Genre'].unique()\n",
    "df_few_genres = df_complete \n",
    "genre_list = []\n",
    "for genre in few_genres:\n",
    "    lst = genre.split()\n",
    "    mask = df_complete['Top Genre'] == genre\n",
    "    if lst[-1] == 'hop':\n",
    "        genre_list.append(lst[-2] +' '+ lst[-1])\n",
    "        df_few_genres.loc[mask, 'Top Genre'] = lst[-2] +' '+ lst[-1]\n",
    "    else:\n",
    "        genre_list.append(lst[-1])\n",
    "        df_few_genres.loc[mask, 'Top Genre'] = lst[-1]\n",
    "\n",
    "print(genre_list)\n",
    "df_few_genres['Top Genre'].value_counts()"
   ]
  },
  {
   "cell_type": "code",
   "execution_count": 61,
   "metadata": {},
   "outputs": [
    {
     "name": "stdout",
     "output_type": "stream",
     "text": [
      "416 ['mellow', 'room', 'rap', 'band', 'band', 'room', 'band', 'room', 'electro', 'complextro', 'band', 'band', 'electro', 'band', 'band', 'band', 'mellow', 'room', 'folk-pop', 'metropopolis', 'house', 'band', 'electropop', 'complextro', 'mellow', 'mellow', 'dance', 'mellow', 'mellow', 'mellow', 'hollywood', 'r&b', 'singer-songwriter', 'r&b', 'house', 'band', 'dance', 'house', 'complextro', 'r&b', 'room', 'edm', 'dance', 'room', 'band', 'band', 'r&b', 'electropop', 'room', 'r&b', 'electropop', 'electropop', 'electropop', 'house', 'r&b', 'dance', 'mellow', 'complextro', 'mellow', 'folk-pop', 'latin', 'latin', 'electropop', 'r&b', 'trap', 'r&b', 'complextro', 'edm', 'electropop', 'latin', 'dance', 'room', 'electropop', 'band', 'edm', 'r&b', 'house', 'complextro', 'edm', 'downtempo', 'room', 'dance', 'edm', 'brostep', 'electropop', 'country', 'edm', 'latin', 'downtempo', 'electropop', 'brostep', 'room', 'room', 'edm', 'band', 'band', 'r&b', 'electropop', 'room', 'electropop', 'trap', 'latin', 'electropop', 'americana', 'dance', 'afropop', 'disco', 'room', 'mellow', 'britpop', 'band', 'limburg', 'country', 'alternative', 'britpop', 'folk', 'celtic', 'chanson', 'britpop', 'celtic', 'band', 'limburg', 'limburg', 'mellow', 'electro', 'dance', 'mellow', 'dance', 'downtempo', 'fusion', 'mellow', 'disco', 'mellow', 'mellow', 'jazz', 'prog', 'dance', 'chanson', 'britpop', 'trance', 'mellow', 'prog', 'mellow', 'singer-songwriter', 'gold', 'americana', 'singer-songwriter', 'limburg', 'americana', 'mellow', 'disco', 'mellow', 'gold', 'dance', 'country', 'eurodance', 'blues', 'limburg', 'gold', 'folk', 'beat', 'dance', 'limburg', 'dance', 'beat', 'mellow', 'dance', 'country', 'limburg', 'limburg', 'electro', 'dance', 'electro', 'funk', 'hardcore', 'schlager', 'country', 'gabba', 'gabba', 'room', 'country', 'britpop', 'electro', 'chanson', 'singer-songwriter', 'mellow', 'nederpop', 'country', 'folk', 'folk-pop', 'electropop', 'room', 'room', 'edm', 'mellow', 'folk-pop', 'metropopolis', 'metropopolis', 'electro', 'room', 'room', 'electronica', 'band', 'band', 'dance', 'metropopolis', 'singer-songwriter', 'chanson', 'dance', 'americana', 'holler', 'eurodance', 'funk', 'mellow', 'edm', 'dance', 'psych', 'psych', 'downtempo', 'americana', 'folk-pop', 'country', 'laboratorio', 'beat', 'prog', 'jazz', 'rock-and-roll', 'dance', 'gold', 'folk', 'soundtrack', 'disco', 'prog', 'americana', 'ambient', 'mellow', 'streektaal', 'mellow', 'limburg', 'dance', 'electropop', 'edm', 'britpop', 'metropopolis', 'anthem-folk', 'disco', 'folk-pop', 'mellow', 'ccm', 'house', 'room', 'band', 'americana', 'austropop', 'americana', 'americana', 'americana', 'americana', 'dance', 'electropop', 'latin', 'schlager', 'country', 'folk', 'folk', 'blues', 'blues', 'folk', 'country', 'europop', 'reggae', 'europop', 'j-core', 'europop', 'funk', 'europop', 'europop', 'europop', 'folk', 'blues', 'europop', 'reggae', 'europop', 'disco', 'europop', 'reggae', 'europop', 'blues', 'punk', 'disco', 'punk', 'reggae', 'reggae', 'disco', 'disco', 'europop', 'europop', 'europop', 'europop', 'disco', 'europop', 'disco', 'basshall', 'europop', 'reggae', 'europop', 'blues', 'europop', 'reggae', 'blues', 'europop', 'fusion', 'gold', 'europop', 'europop', 'funk', 'gold', 'celtic', 'reggae', 'funk', 'folk', 'funk', 'disco', 'funk', 'funk', 'austropop', 'funk', 'fusion', 'electro', 'gold', 'funk', 'funk', 'celtic', 'folk', 'funk', 'chanson', 'country', 'funk', 'folk', 'folk', 'disco', 'folk', 'folk', 'schlager', 'celtic', 'europop', 'punk', 'folk', 'gold', 'disco', 'fusion', 'gold', 'gold', 'christelijk', 'folk', 'europop', 'levenslied', 'limburg', 'folk', 'funk', 'disco', 'cyberpunk', 'rap', 'beat', 'nederpop', 'europop', 'house', 'disco', 'europop', 'disco', 'disco', 'europop', 'beat', 'britpop', 'britpop', 'britpop', 'britpop', 'britpop', 'funk', 'funk', 'funk', 'chanson', 'beat', 'chanson', 'eurodance', 'band', 'chanson', 'jazz', 'beat', 'beat', 'beat', 'electro', 'beat', 'christelijk', 'americana', 'americana', 'christelijk', 'beat', 'latin', 'europop', 'gold', 'downtempo', 'downtempo', 'funk', 'punk', 'dance', 'country', 'country', 'chanson', 'motown', 'folk', 'folk', 'blues', 'folk', 'prog', 'bebop']\n"
     ]
    }
   ],
   "source": [
    "unique_genres = df_few_genres['Top Genre']\n",
    "checklist = [] \n",
    "THRESHHOLD = 30\n",
    "\n",
    "#check genres with fewer datapoints than THRESHHOLD\n",
    "for genre in unique_genres:\n",
    "    if df_few_genres['Top Genre'].value_counts()[genre] < THRESHHOLD:\n",
    "        checklist += [genre]\n",
    "print(len(checklist), checklist)"
   ]
  },
  {
   "cell_type": "code",
   "execution_count": 62,
   "metadata": {},
   "outputs": [
    {
     "name": "stdout",
     "output_type": "stream",
     "text": [
      "2597\n",
      "2181\n"
     ]
    },
    {
     "data": {
      "text/plain": [
       "rock         857\n",
       "pop          802\n",
       "standards    123\n",
       "metal         93\n",
       "indie         78\n",
       "soul          56\n",
       "cabaret       51\n",
       "hip hop       43\n",
       "wave          42\n",
       "invasion      36\n",
       "Name: Top Genre, dtype: int64"
      ]
     },
     "execution_count": 62,
     "metadata": {},
     "output_type": "execute_result"
    }
   ],
   "source": [
    "print(len(df_few_genres))\n",
    "df_few_genres = df_few_genres[~df_few_genres['Top Genre'].isin(checklist)]\n",
    "print(len(df_few_genres))\n",
    "df_few_genres['Top Genre'].value_counts()"
   ]
  },
  {
   "cell_type": "code",
   "execution_count": 63,
   "metadata": {},
   "outputs": [
    {
     "data": {
      "text/html": [
       "<div>\n",
       "<style scoped>\n",
       "    .dataframe tbody tr th:only-of-type {\n",
       "        vertical-align: middle;\n",
       "    }\n",
       "\n",
       "    .dataframe tbody tr th {\n",
       "        vertical-align: top;\n",
       "    }\n",
       "\n",
       "    .dataframe thead th {\n",
       "        text-align: right;\n",
       "    }\n",
       "</style>\n",
       "<table border=\"1\" class=\"dataframe\">\n",
       "  <thead>\n",
       "    <tr style=\"text-align: right;\">\n",
       "      <th></th>\n",
       "      <th>Title</th>\n",
       "      <th>Artist</th>\n",
       "      <th>Top Genre</th>\n",
       "      <th>Beats Per Minute (BPM)</th>\n",
       "      <th>Energy</th>\n",
       "      <th>Danceability</th>\n",
       "      <th>Loudness (dB)</th>\n",
       "      <th>Liveness</th>\n",
       "      <th>Valence</th>\n",
       "      <th>Length (Duration)</th>\n",
       "      <th>Acousticness</th>\n",
       "      <th>Speechiness</th>\n",
       "    </tr>\n",
       "  </thead>\n",
       "  <tbody>\n",
       "    <tr>\n",
       "      <th>1</th>\n",
       "      <td>Love The Way You Lie</td>\n",
       "      <td>Eminem</td>\n",
       "      <td>hip hop</td>\n",
       "      <td>87</td>\n",
       "      <td>93</td>\n",
       "      <td>75</td>\n",
       "      <td>-5</td>\n",
       "      <td>52</td>\n",
       "      <td>64</td>\n",
       "      <td>263.0</td>\n",
       "      <td>24</td>\n",
       "      <td>23</td>\n",
       "    </tr>\n",
       "    <tr>\n",
       "      <th>2</th>\n",
       "      <td>TiK ToK</td>\n",
       "      <td>Kesha</td>\n",
       "      <td>pop</td>\n",
       "      <td>120</td>\n",
       "      <td>84</td>\n",
       "      <td>76</td>\n",
       "      <td>-3</td>\n",
       "      <td>29</td>\n",
       "      <td>71</td>\n",
       "      <td>200.0</td>\n",
       "      <td>10</td>\n",
       "      <td>14</td>\n",
       "    </tr>\n",
       "    <tr>\n",
       "      <th>3</th>\n",
       "      <td>Bad Romance</td>\n",
       "      <td>Lady Gaga</td>\n",
       "      <td>pop</td>\n",
       "      <td>119</td>\n",
       "      <td>92</td>\n",
       "      <td>70</td>\n",
       "      <td>-4</td>\n",
       "      <td>8</td>\n",
       "      <td>71</td>\n",
       "      <td>295.0</td>\n",
       "      <td>0</td>\n",
       "      <td>4</td>\n",
       "    </tr>\n",
       "    <tr>\n",
       "      <th>4</th>\n",
       "      <td>Just the Way You Are</td>\n",
       "      <td>Bruno Mars</td>\n",
       "      <td>pop</td>\n",
       "      <td>109</td>\n",
       "      <td>84</td>\n",
       "      <td>64</td>\n",
       "      <td>-5</td>\n",
       "      <td>9</td>\n",
       "      <td>43</td>\n",
       "      <td>221.0</td>\n",
       "      <td>2</td>\n",
       "      <td>4</td>\n",
       "    </tr>\n",
       "    <tr>\n",
       "      <th>5</th>\n",
       "      <td>Baby</td>\n",
       "      <td>Justin Bieber</td>\n",
       "      <td>pop</td>\n",
       "      <td>65</td>\n",
       "      <td>86</td>\n",
       "      <td>73</td>\n",
       "      <td>-5</td>\n",
       "      <td>11</td>\n",
       "      <td>54</td>\n",
       "      <td>214.0</td>\n",
       "      <td>4</td>\n",
       "      <td>14</td>\n",
       "    </tr>\n",
       "  </tbody>\n",
       "</table>\n",
       "</div>"
      ],
      "text/plain": [
       "                  Title         Artist Top Genre  Beats Per Minute (BPM)  \\\n",
       "1  Love The Way You Lie         Eminem   hip hop                      87   \n",
       "2               TiK ToK          Kesha       pop                     120   \n",
       "3           Bad Romance      Lady Gaga       pop                     119   \n",
       "4  Just the Way You Are     Bruno Mars       pop                     109   \n",
       "5                  Baby  Justin Bieber       pop                      65   \n",
       "\n",
       "   Energy  Danceability  Loudness (dB)  Liveness  Valence  Length (Duration)  \\\n",
       "1      93            75             -5        52       64              263.0   \n",
       "2      84            76             -3        29       71              200.0   \n",
       "3      92            70             -4         8       71              295.0   \n",
       "4      84            64             -5         9       43              221.0   \n",
       "5      86            73             -5        11       54              214.0   \n",
       "\n",
       "   Acousticness  Speechiness  \n",
       "1            24           23  \n",
       "2            10           14  \n",
       "3             0            4  \n",
       "4             2            4  \n",
       "5             4           14  "
      ]
     },
     "execution_count": 63,
     "metadata": {},
     "output_type": "execute_result"
    }
   ],
   "source": [
    "df_few_genres.head()"
   ]
  },
  {
   "cell_type": "markdown",
   "metadata": {},
   "source": [
    "Finally we have a dataset with a managable amount of target labels. We can still observe that the dataset is highly unbalanced and may have to do something about it later on."
   ]
  },
  {
   "cell_type": "markdown",
   "metadata": {},
   "source": [
    "**Building a baseline for audio features**\n"
   ]
  },
  {
   "cell_type": "code",
   "execution_count": 64,
   "metadata": {},
   "outputs": [
    {
     "name": "stdout",
     "output_type": "stream",
     "text": [
      "              precision    recall  f1-score   support\n",
      "\n",
      "     cabaret       0.00      0.00      0.00         9\n",
      "     hip hop       0.12      0.10      0.11        10\n",
      "       indie       0.00      0.00      0.00        15\n",
      "    invasion       0.14      0.14      0.14         7\n",
      "       metal       0.38      0.26      0.31        19\n",
      "         pop       0.70      0.67      0.68       176\n",
      "        rock       0.53      0.72      0.61       158\n",
      "        soul       0.43      0.33      0.38         9\n",
      "   standards       0.30      0.12      0.18        24\n",
      "        wave       0.40      0.20      0.27        10\n",
      "\n",
      "    accuracy                           0.57       437\n",
      "   macro avg       0.30      0.26      0.27       437\n",
      "weighted avg       0.53      0.57      0.54       437\n",
      "\n"
     ]
    },
    {
     "name": "stderr",
     "output_type": "stream",
     "text": [
      "/home/hanbiru/anaconda3/lib/python3.8/site-packages/sklearn/neural_network/_multilayer_perceptron.py:614: ConvergenceWarning: Stochastic Optimizer: Maximum iterations (1000) reached and the optimization hasn't converged yet.\n",
      "  warnings.warn(\n"
     ]
    }
   ],
   "source": [
    "from sklearn.model_selection import StratifiedKFold, train_test_split, cross_val_score\n",
    "from sklearn.preprocessing import StandardScaler\n",
    "from sklearn.neural_network import MLPClassifier\n",
    "from sklearn.metrics import classification_report\n",
    "\n",
    "# Load the data\n",
    "df = df_few_genres\n",
    "\n",
    "# Split the data into features and labels\n",
    "X = df.drop(df.columns[[0,1,2]], axis=1)\n",
    "y = df['Top Genre']\n",
    "\n",
    "\n",
    "# Split the data into training and test sets\n",
    "X_train, X_test, y_train, y_test = train_test_split(X, y, test_size=0.2)\n",
    "\n",
    "# Scale the features\n",
    "scaler = StandardScaler()\n",
    "X_train = scaler.fit_transform(X_train)\n",
    "X_test = scaler.transform(X_test)\n",
    "\n",
    "# Define the MLP model\n",
    "model = MLPClassifier(max_iter=1000, random_state=42)\n",
    "\n",
    "# Train the model\n",
    "model.fit(X_train, y_train)\n",
    "y_pred = model.predict(X_test)\n",
    "\n",
    "# Calculate the classification report for this fold\n",
    "report = classification_report(y_test, y_pred)\n",
    "print(report)\n"
   ]
  },
  {
   "cell_type": "code",
   "execution_count": 65,
   "metadata": {},
   "outputs": [],
   "source": [
    "# some models\n",
    "from sklearn.linear_model import LogisticRegression\n",
    "from sklearn.svm import SVC\n",
    "from sklearn.naive_bayes import GaussianNB\n",
    "from sklearn.linear_model import SGDClassifier\n",
    "from sklearn.multiclass import OneVsOneClassifier\n",
    "from sklearn.dummy import DummyClassifier\n",
    "\n",
    "models = { 'Dummy': DummyClassifier(),\n",
    "                    'Naive Bayes': GaussianNB(),\n",
    "                    #'SGD': OneVsOneClassifier(SGDClassifier()),\n",
    "                    #'Logistic Regression': LogisticRegression(multi_class = 'ovr')#,\n",
    "                    #'SVC': SVC(random_state=42)#,\n",
    "                    #'MLP': MLPClassifier(random_state=42),\n",
    "                    }\n",
    "kfold = StratifiedKFold(n_splits=5, random_state=42, shuffle=True)\n"
   ]
  },
  {
   "cell_type": "code",
   "execution_count": 66,
   "metadata": {},
   "outputs": [
    {
     "name": "stdout",
     "output_type": "stream",
     "text": [
      "Dummy: 0.400804 (0.001338)\n",
      "Naive Bayes: 0.455864 (0.020377)\n"
     ]
    }
   ],
   "source": [
    "results =[]\n",
    "for name in models:\n",
    "    model = models[name]\n",
    "    cv_score = cross_val_score(model, X_train, y_train, cv = kfold, scoring = 'accuracy')\n",
    "    results.append(cv_score)\n",
    "    print('%s: %f (%f)' % (name,cv_score.mean(), cv_score.std()))"
   ]
  },
  {
   "cell_type": "markdown",
   "metadata": {},
   "source": [
    "The results above seem to be okay but we can clearly see that the scores for the smaller classes are horrific. We could continue with this dataset or mine some more data for the smaller classes, but I choose to look for more datasets and found a new one with much more data points that are quite balanced between the classes.\n",
    "DATASET: https://www.kaggle.com/datasets/zaheenhamidani/ultimate-spotify-tracks-db"
   ]
  },
  {
   "cell_type": "code",
   "execution_count": 67,
   "metadata": {},
   "outputs": [
    {
     "data": {
      "text/html": [
       "<div>\n",
       "<style scoped>\n",
       "    .dataframe tbody tr th:only-of-type {\n",
       "        vertical-align: middle;\n",
       "    }\n",
       "\n",
       "    .dataframe tbody tr th {\n",
       "        vertical-align: top;\n",
       "    }\n",
       "\n",
       "    .dataframe thead th {\n",
       "        text-align: right;\n",
       "    }\n",
       "</style>\n",
       "<table border=\"1\" class=\"dataframe\">\n",
       "  <thead>\n",
       "    <tr style=\"text-align: right;\">\n",
       "      <th></th>\n",
       "      <th>genre</th>\n",
       "      <th>artist_name</th>\n",
       "      <th>track_name</th>\n",
       "      <th>track_id</th>\n",
       "      <th>popularity</th>\n",
       "      <th>acousticness</th>\n",
       "      <th>danceability</th>\n",
       "      <th>duration_ms</th>\n",
       "      <th>energy</th>\n",
       "      <th>instrumentalness</th>\n",
       "      <th>key</th>\n",
       "      <th>liveness</th>\n",
       "      <th>loudness</th>\n",
       "      <th>mode</th>\n",
       "      <th>speechiness</th>\n",
       "      <th>tempo</th>\n",
       "      <th>time_signature</th>\n",
       "      <th>valence</th>\n",
       "    </tr>\n",
       "  </thead>\n",
       "  <tbody>\n",
       "    <tr>\n",
       "      <th>0</th>\n",
       "      <td>Movie</td>\n",
       "      <td>Henri Salvador</td>\n",
       "      <td>C'est beau de faire un Show</td>\n",
       "      <td>0BRjO6ga9RKCKjfDqeFgWV</td>\n",
       "      <td>0</td>\n",
       "      <td>0.611</td>\n",
       "      <td>0.389</td>\n",
       "      <td>99373</td>\n",
       "      <td>0.910</td>\n",
       "      <td>0.000</td>\n",
       "      <td>C#</td>\n",
       "      <td>0.3460</td>\n",
       "      <td>-1.828</td>\n",
       "      <td>Major</td>\n",
       "      <td>0.0525</td>\n",
       "      <td>166.969</td>\n",
       "      <td>4/4</td>\n",
       "      <td>0.814</td>\n",
       "    </tr>\n",
       "    <tr>\n",
       "      <th>1</th>\n",
       "      <td>Movie</td>\n",
       "      <td>Martin &amp; les fées</td>\n",
       "      <td>Perdu d'avance (par Gad Elmaleh)</td>\n",
       "      <td>0BjC1NfoEOOusryehmNudP</td>\n",
       "      <td>1</td>\n",
       "      <td>0.246</td>\n",
       "      <td>0.590</td>\n",
       "      <td>137373</td>\n",
       "      <td>0.737</td>\n",
       "      <td>0.000</td>\n",
       "      <td>F#</td>\n",
       "      <td>0.1510</td>\n",
       "      <td>-5.559</td>\n",
       "      <td>Minor</td>\n",
       "      <td>0.0868</td>\n",
       "      <td>174.003</td>\n",
       "      <td>4/4</td>\n",
       "      <td>0.816</td>\n",
       "    </tr>\n",
       "    <tr>\n",
       "      <th>2</th>\n",
       "      <td>Movie</td>\n",
       "      <td>Joseph Williams</td>\n",
       "      <td>Don't Let Me Be Lonely Tonight</td>\n",
       "      <td>0CoSDzoNIKCRs124s9uTVy</td>\n",
       "      <td>3</td>\n",
       "      <td>0.952</td>\n",
       "      <td>0.663</td>\n",
       "      <td>170267</td>\n",
       "      <td>0.131</td>\n",
       "      <td>0.000</td>\n",
       "      <td>C</td>\n",
       "      <td>0.1030</td>\n",
       "      <td>-13.879</td>\n",
       "      <td>Minor</td>\n",
       "      <td>0.0362</td>\n",
       "      <td>99.488</td>\n",
       "      <td>5/4</td>\n",
       "      <td>0.368</td>\n",
       "    </tr>\n",
       "    <tr>\n",
       "      <th>3</th>\n",
       "      <td>Movie</td>\n",
       "      <td>Henri Salvador</td>\n",
       "      <td>Dis-moi Monsieur Gordon Cooper</td>\n",
       "      <td>0Gc6TVm52BwZD07Ki6tIvf</td>\n",
       "      <td>0</td>\n",
       "      <td>0.703</td>\n",
       "      <td>0.240</td>\n",
       "      <td>152427</td>\n",
       "      <td>0.326</td>\n",
       "      <td>0.000</td>\n",
       "      <td>C#</td>\n",
       "      <td>0.0985</td>\n",
       "      <td>-12.178</td>\n",
       "      <td>Major</td>\n",
       "      <td>0.0395</td>\n",
       "      <td>171.758</td>\n",
       "      <td>4/4</td>\n",
       "      <td>0.227</td>\n",
       "    </tr>\n",
       "    <tr>\n",
       "      <th>4</th>\n",
       "      <td>Movie</td>\n",
       "      <td>Fabien Nataf</td>\n",
       "      <td>Ouverture</td>\n",
       "      <td>0IuslXpMROHdEPvSl1fTQK</td>\n",
       "      <td>4</td>\n",
       "      <td>0.950</td>\n",
       "      <td>0.331</td>\n",
       "      <td>82625</td>\n",
       "      <td>0.225</td>\n",
       "      <td>0.123</td>\n",
       "      <td>F</td>\n",
       "      <td>0.2020</td>\n",
       "      <td>-21.150</td>\n",
       "      <td>Major</td>\n",
       "      <td>0.0456</td>\n",
       "      <td>140.576</td>\n",
       "      <td>4/4</td>\n",
       "      <td>0.390</td>\n",
       "    </tr>\n",
       "  </tbody>\n",
       "</table>\n",
       "</div>"
      ],
      "text/plain": [
       "   genre        artist_name                        track_name  \\\n",
       "0  Movie     Henri Salvador       C'est beau de faire un Show   \n",
       "1  Movie  Martin & les fées  Perdu d'avance (par Gad Elmaleh)   \n",
       "2  Movie    Joseph Williams    Don't Let Me Be Lonely Tonight   \n",
       "3  Movie     Henri Salvador    Dis-moi Monsieur Gordon Cooper   \n",
       "4  Movie       Fabien Nataf                         Ouverture   \n",
       "\n",
       "                 track_id  popularity  acousticness  danceability  \\\n",
       "0  0BRjO6ga9RKCKjfDqeFgWV           0         0.611         0.389   \n",
       "1  0BjC1NfoEOOusryehmNudP           1         0.246         0.590   \n",
       "2  0CoSDzoNIKCRs124s9uTVy           3         0.952         0.663   \n",
       "3  0Gc6TVm52BwZD07Ki6tIvf           0         0.703         0.240   \n",
       "4  0IuslXpMROHdEPvSl1fTQK           4         0.950         0.331   \n",
       "\n",
       "   duration_ms  energy  instrumentalness key  liveness  loudness   mode  \\\n",
       "0        99373   0.910             0.000  C#    0.3460    -1.828  Major   \n",
       "1       137373   0.737             0.000  F#    0.1510    -5.559  Minor   \n",
       "2       170267   0.131             0.000   C    0.1030   -13.879  Minor   \n",
       "3       152427   0.326             0.000  C#    0.0985   -12.178  Major   \n",
       "4        82625   0.225             0.123   F    0.2020   -21.150  Major   \n",
       "\n",
       "   speechiness    tempo time_signature  valence  \n",
       "0       0.0525  166.969            4/4    0.814  \n",
       "1       0.0868  174.003            4/4    0.816  \n",
       "2       0.0362   99.488            5/4    0.368  \n",
       "3       0.0395  171.758            4/4    0.227  \n",
       "4       0.0456  140.576            4/4    0.390  "
      ]
     },
     "execution_count": 67,
     "metadata": {},
     "output_type": "execute_result"
    }
   ],
   "source": [
    "df_Spotify_Features = pd.read_csv(\"./DATASETS/SpotifyFeatures.csv\")\n",
    "df_Spotify_Features.head()"
   ]
  },
  {
   "cell_type": "code",
   "execution_count": 68,
   "metadata": {},
   "outputs": [
    {
     "data": {
      "text/plain": [
       "Comedy              9681\n",
       "Soundtrack          9646\n",
       "Indie               9543\n",
       "Jazz                9441\n",
       "Pop                 9386\n",
       "Electronic          9377\n",
       "Children’s Music    9353\n",
       "Folk                9299\n",
       "Hip-Hop             9295\n",
       "Rock                9272\n",
       "Alternative         9263\n",
       "Classical           9256\n",
       "Rap                 9232\n",
       "World               9096\n",
       "Soul                9089\n",
       "Blues               9023\n",
       "R&B                 8992\n",
       "Anime               8936\n",
       "Reggaeton           8927\n",
       "Ska                 8874\n",
       "Reggae              8771\n",
       "Dance               8701\n",
       "Country             8664\n",
       "Opera               8280\n",
       "Movie               7806\n",
       "Children's Music    5403\n",
       "A Capella            119\n",
       "Name: genre, dtype: int64"
      ]
     },
     "execution_count": 68,
     "metadata": {},
     "output_type": "execute_result"
    }
   ],
   "source": [
    "df_Spotify_Features.genre.value_counts()"
   ]
  },
  {
   "cell_type": "markdown",
   "metadata": {},
   "source": [
    "We can see that some of the classes are not of our interest so we remove the classes  \"Soundtrack\" and \"Movie\" since they may include a lot of different genres and the lyrics are most likely random. \"A Capella\" is very interersting as a class, but does not include a lot of data points so we abbriviate this class for now. \"Anime\" and \"World\" are classes in grayzones that may include various music genres so we keep them for now, but keep an extra eye of their scores! Lastly we have two \"Children's Music\" so we have to explore them further. "
   ]
  },
  {
   "cell_type": "code",
   "execution_count": 69,
   "metadata": {},
   "outputs": [
    {
     "data": {
      "text/plain": [
       "27"
      ]
     },
     "execution_count": 69,
     "metadata": {},
     "output_type": "execute_result"
    }
   ],
   "source": [
    "len(df_Spotify_Features.genre.unique())"
   ]
  },
  {
   "cell_type": "code",
   "execution_count": 70,
   "metadata": {},
   "outputs": [
    {
     "data": {
      "text/plain": [
       "count                      14756\n",
       "unique                     14756\n",
       "top       4sYcmuZfnI1dOXDYLMirXO\n",
       "freq                           1\n",
       "Name: track_id, dtype: object"
      ]
     },
     "execution_count": 70,
     "metadata": {},
     "output_type": "execute_result"
    }
   ],
   "source": [
    "df_Spotify_Features_Children = df_Spotify_Features[df_Spotify_Features.genre.isin(['Children’s Music', \"Children's Music\"])]\n",
    "df_Spotify_Features_Children['track_id'].describe()"
   ]
  },
  {
   "cell_type": "markdown",
   "metadata": {},
   "source": [
    "For some reason we have too many Children's Music items and since there are none duplicates we remove around 5000 datapoints to even out the dataset. "
   ]
  },
  {
   "cell_type": "code",
   "execution_count": 71,
   "metadata": {},
   "outputs": [
    {
     "data": {
      "text/plain": [
       "Comedy              9681\n",
       "Indie               9543\n",
       "Jazz                9441\n",
       "Pop                 9386\n",
       "Electronic          9377\n",
       "Children’s Music    9353\n",
       "Folk                9299\n",
       "Hip-Hop             9295\n",
       "Rock                9272\n",
       "Alternative         9263\n",
       "Classical           9256\n",
       "Rap                 9232\n",
       "World               9096\n",
       "Soul                9089\n",
       "Blues               9023\n",
       "R&B                 8992\n",
       "Anime               8936\n",
       "Reggaeton           8927\n",
       "Ska                 8874\n",
       "Reggae              8771\n",
       "Dance               8701\n",
       "Country             8664\n",
       "Opera               8280\n",
       "Name: genre, dtype: int64"
      ]
     },
     "execution_count": 71,
     "metadata": {},
     "output_type": "execute_result"
    }
   ],
   "source": [
    "df_Spotify_Features = df_Spotify_Features[~df_Spotify_Features['genre'].isin( ['Children\\'s Music', 'A Capella', 'Soundtrack', 'Movie'])]\n",
    "df_Spotify_Features.genre.value_counts()"
   ]
  },
  {
   "cell_type": "markdown",
   "metadata": {},
   "source": [
    "Now we need to explore some of the columns!"
   ]
  },
  {
   "cell_type": "code",
   "execution_count": 72,
   "metadata": {},
   "outputs": [
    {
     "data": {
      "text/plain": [
       "genre                object\n",
       "artist_name          object\n",
       "track_name           object\n",
       "track_id             object\n",
       "popularity            int64\n",
       "acousticness        float64\n",
       "danceability        float64\n",
       "duration_ms           int64\n",
       "energy              float64\n",
       "instrumentalness    float64\n",
       "key                  object\n",
       "liveness            float64\n",
       "loudness            float64\n",
       "mode                 object\n",
       "speechiness         float64\n",
       "tempo               float64\n",
       "time_signature       object\n",
       "valence             float64\n",
       "dtype: object"
      ]
     },
     "execution_count": 72,
     "metadata": {},
     "output_type": "execute_result"
    }
   ],
   "source": [
    "df_Spotify_Features.dtypes"
   ]
  },
  {
   "cell_type": "code",
   "execution_count": 73,
   "metadata": {},
   "outputs": [
    {
     "data": {
      "text/plain": [
       "key  mode   time_signature\n",
       "C    Major  4/4               16840\n",
       "G    Major  4/4               15702\n",
       "D    Major  4/4               14425\n",
       "C#   Major  4/4               13369\n",
       "A    Major  4/4               11276\n",
       "                              ...  \n",
       "C#   Major  0/4                   1\n",
       "F    Major  0/4                   1\n",
       "G#   Major  0/4                   1\n",
       "C    Minor  0/4                   1\n",
       "D    Major  0/4                   1\n",
       "Length: 102, dtype: int64"
      ]
     },
     "execution_count": 73,
     "metadata": {},
     "output_type": "execute_result"
    }
   ],
   "source": [
    "df_Spotify_Features[['key', 'mode', 'time_signature']].value_counts()"
   ]
  },
  {
   "cell_type": "markdown",
   "metadata": {},
   "source": [
    "We can map theese columns to evenly spread numbers since they include some kind of information about the audio. I will also remove the \"Popularity\" column since it is not an audio feature."
   ]
  },
  {
   "cell_type": "code",
   "execution_count": 74,
   "metadata": {},
   "outputs": [
    {
     "name": "stdout",
     "output_type": "stream",
     "text": [
      "['D', 'C', 'F', 'B', 'E', 'G', 'G#', 'A#', 'C#', 'A', 'F#', 'D#']\n",
      "['Minor', 'Major']\n",
      "['4/4', '3/4', '5/4', '1/4', '0/4']\n",
      "genre                object\n",
      "artist_name          object\n",
      "track_name           object\n",
      "track_id             object\n",
      "acousticness        float64\n",
      "danceability        float64\n",
      "duration_ms           int64\n",
      "energy              float64\n",
      "instrumentalness    float64\n",
      "key                 float64\n",
      "liveness            float64\n",
      "loudness            float64\n",
      "mode                float64\n",
      "speechiness         float64\n",
      "tempo               float64\n",
      "time_signature      float64\n",
      "valence             float64\n",
      "dtype: object\n"
     ]
    },
    {
     "data": {
      "text/html": [
       "<div>\n",
       "<style scoped>\n",
       "    .dataframe tbody tr th:only-of-type {\n",
       "        vertical-align: middle;\n",
       "    }\n",
       "\n",
       "    .dataframe tbody tr th {\n",
       "        vertical-align: top;\n",
       "    }\n",
       "\n",
       "    .dataframe thead th {\n",
       "        text-align: right;\n",
       "    }\n",
       "</style>\n",
       "<table border=\"1\" class=\"dataframe\">\n",
       "  <thead>\n",
       "    <tr style=\"text-align: right;\">\n",
       "      <th></th>\n",
       "      <th>genre</th>\n",
       "      <th>artist_name</th>\n",
       "      <th>track_name</th>\n",
       "      <th>track_id</th>\n",
       "      <th>acousticness</th>\n",
       "      <th>danceability</th>\n",
       "      <th>duration_ms</th>\n",
       "      <th>energy</th>\n",
       "      <th>instrumentalness</th>\n",
       "      <th>key</th>\n",
       "      <th>liveness</th>\n",
       "      <th>loudness</th>\n",
       "      <th>mode</th>\n",
       "      <th>speechiness</th>\n",
       "      <th>tempo</th>\n",
       "      <th>time_signature</th>\n",
       "      <th>valence</th>\n",
       "    </tr>\n",
       "  </thead>\n",
       "  <tbody>\n",
       "    <tr>\n",
       "      <th>135</th>\n",
       "      <td>R&amp;B</td>\n",
       "      <td>Mary J. Blige</td>\n",
       "      <td>Be Without You - Kendu Mix</td>\n",
       "      <td>2YegxR5As7BeQuVp2U6pek</td>\n",
       "      <td>0.0830</td>\n",
       "      <td>0.724</td>\n",
       "      <td>246333</td>\n",
       "      <td>0.689</td>\n",
       "      <td>0.000000</td>\n",
       "      <td>0.000000</td>\n",
       "      <td>0.3040</td>\n",
       "      <td>-5.922</td>\n",
       "      <td>0.0</td>\n",
       "      <td>0.1350</td>\n",
       "      <td>146.496</td>\n",
       "      <td>0.0</td>\n",
       "      <td>0.6930</td>\n",
       "    </tr>\n",
       "    <tr>\n",
       "      <th>136</th>\n",
       "      <td>R&amp;B</td>\n",
       "      <td>Rihanna</td>\n",
       "      <td>Desperado</td>\n",
       "      <td>6KFaHC9G178beAp7P0Vi5S</td>\n",
       "      <td>0.3230</td>\n",
       "      <td>0.685</td>\n",
       "      <td>186467</td>\n",
       "      <td>0.610</td>\n",
       "      <td>0.000000</td>\n",
       "      <td>0.083333</td>\n",
       "      <td>0.1020</td>\n",
       "      <td>-5.221</td>\n",
       "      <td>0.0</td>\n",
       "      <td>0.0439</td>\n",
       "      <td>94.384</td>\n",
       "      <td>0.2</td>\n",
       "      <td>0.3230</td>\n",
       "    </tr>\n",
       "    <tr>\n",
       "      <th>137</th>\n",
       "      <td>R&amp;B</td>\n",
       "      <td>Yung Bleu</td>\n",
       "      <td>Ice On My Baby (feat. Kevin Gates) - Remix</td>\n",
       "      <td>6muW8cSjJ3rusKJ0vH5olw</td>\n",
       "      <td>0.0675</td>\n",
       "      <td>0.762</td>\n",
       "      <td>199520</td>\n",
       "      <td>0.520</td>\n",
       "      <td>0.000004</td>\n",
       "      <td>0.166667</td>\n",
       "      <td>0.1140</td>\n",
       "      <td>-5.237</td>\n",
       "      <td>0.0</td>\n",
       "      <td>0.0959</td>\n",
       "      <td>75.047</td>\n",
       "      <td>0.0</td>\n",
       "      <td>0.0862</td>\n",
       "    </tr>\n",
       "    <tr>\n",
       "      <th>138</th>\n",
       "      <td>R&amp;B</td>\n",
       "      <td>Surfaces</td>\n",
       "      <td>Heaven Falls / Fall on Me</td>\n",
       "      <td>7yHqOZfsXYlicyoMt62yC6</td>\n",
       "      <td>0.3600</td>\n",
       "      <td>0.563</td>\n",
       "      <td>240597</td>\n",
       "      <td>0.366</td>\n",
       "      <td>0.002430</td>\n",
       "      <td>0.250000</td>\n",
       "      <td>0.0955</td>\n",
       "      <td>-6.896</td>\n",
       "      <td>0.0</td>\n",
       "      <td>0.1210</td>\n",
       "      <td>85.352</td>\n",
       "      <td>0.0</td>\n",
       "      <td>0.7680</td>\n",
       "    </tr>\n",
       "    <tr>\n",
       "      <th>139</th>\n",
       "      <td>R&amp;B</td>\n",
       "      <td>Olivia O'Brien</td>\n",
       "      <td>Love Myself</td>\n",
       "      <td>4XzgjxGKqULifVf7mnDIQK</td>\n",
       "      <td>0.5960</td>\n",
       "      <td>0.653</td>\n",
       "      <td>213947</td>\n",
       "      <td>0.621</td>\n",
       "      <td>0.000000</td>\n",
       "      <td>0.250000</td>\n",
       "      <td>0.0811</td>\n",
       "      <td>-5.721</td>\n",
       "      <td>0.0</td>\n",
       "      <td>0.0409</td>\n",
       "      <td>100.006</td>\n",
       "      <td>0.0</td>\n",
       "      <td>0.4660</td>\n",
       "    </tr>\n",
       "  </tbody>\n",
       "</table>\n",
       "</div>"
      ],
      "text/plain": [
       "    genre     artist_name                                  track_name  \\\n",
       "135   R&B   Mary J. Blige                  Be Without You - Kendu Mix   \n",
       "136   R&B         Rihanna                                   Desperado   \n",
       "137   R&B       Yung Bleu  Ice On My Baby (feat. Kevin Gates) - Remix   \n",
       "138   R&B        Surfaces                   Heaven Falls / Fall on Me   \n",
       "139   R&B  Olivia O'Brien                                 Love Myself   \n",
       "\n",
       "                   track_id  acousticness  danceability  duration_ms  energy  \\\n",
       "135  2YegxR5As7BeQuVp2U6pek        0.0830         0.724       246333   0.689   \n",
       "136  6KFaHC9G178beAp7P0Vi5S        0.3230         0.685       186467   0.610   \n",
       "137  6muW8cSjJ3rusKJ0vH5olw        0.0675         0.762       199520   0.520   \n",
       "138  7yHqOZfsXYlicyoMt62yC6        0.3600         0.563       240597   0.366   \n",
       "139  4XzgjxGKqULifVf7mnDIQK        0.5960         0.653       213947   0.621   \n",
       "\n",
       "     instrumentalness       key  liveness  loudness  mode  speechiness  \\\n",
       "135          0.000000  0.000000    0.3040    -5.922   0.0       0.1350   \n",
       "136          0.000000  0.083333    0.1020    -5.221   0.0       0.0439   \n",
       "137          0.000004  0.166667    0.1140    -5.237   0.0       0.0959   \n",
       "138          0.002430  0.250000    0.0955    -6.896   0.0       0.1210   \n",
       "139          0.000000  0.250000    0.0811    -5.721   0.0       0.0409   \n",
       "\n",
       "       tempo  time_signature  valence  \n",
       "135  146.496             0.0   0.6930  \n",
       "136   94.384             0.2   0.3230  \n",
       "137   75.047             0.0   0.0862  \n",
       "138   85.352             0.0   0.7680  \n",
       "139  100.006             0.0   0.4660  "
      ]
     },
     "execution_count": 74,
     "metadata": {},
     "output_type": "execute_result"
    }
   ],
   "source": [
    "df_final = df_Spotify_Features.copy()\n",
    "del df_final['popularity']\n",
    "\n",
    "for col in ['key', 'mode', 'time_signature']:\n",
    "    unique_values = list(df_final[col].unique())\n",
    "    print(unique_values)\n",
    "    df_final[col] = df_final[col].map(lambda x: unique_values.index(x) / len(unique_values))\n",
    "\n",
    "print(df_final.dtypes)\n",
    "print\n",
    "df_final.head()"
   ]
  },
  {
   "cell_type": "code",
   "execution_count": 75,
   "metadata": {},
   "outputs": [],
   "source": [
    "# Load the data\n",
    "df = df_final\n",
    "\n",
    "# Split the data into features and labels\n",
    "X = df.drop(df.columns[[0,1,2,3]], axis=1)\n",
    "y = df['genre']\n",
    "\n",
    "\n",
    "# Split the data into training and test sets\n",
    "X_train, X_test, y_train, y_test = train_test_split(X, y, test_size=0.2)\n",
    "\n",
    "# Scale the features\n",
    "scaler = StandardScaler()\n",
    "X_train = scaler.fit_transform(X_train)\n",
    "X_test = scaler.transform(X_test)"
   ]
  },
  {
   "cell_type": "code",
   "execution_count": 76,
   "metadata": {},
   "outputs": [
    {
     "name": "stdout",
     "output_type": "stream",
     "text": [
      "Dummy: 0.046155 (0.000009)\n",
      "Naive Bayes: 0.126264 (0.000643)\n"
     ]
    }
   ],
   "source": [
    "results =[]\n",
    "for name in models:\n",
    "    model = models[name]\n",
    "    cv_score = cross_val_score(model, X, y, cv = kfold, scoring = 'accuracy')\n",
    "    results.append(cv_score)\n",
    "    print('%s: %f (%f)' % (name,cv_score.mean(), cv_score.std()))"
   ]
  },
  {
   "cell_type": "code",
   "execution_count": 77,
   "metadata": {},
   "outputs": [],
   "source": [
    "# # Define the MLP model\n",
    "# model = MLPClassifier(max_iter=1000, random_state=42)\n",
    "\n",
    "# # Train the model\n",
    "# model.fit(X_train, y_train)\n",
    "# y_pred = model.predict(X_test)\n",
    "\n",
    "# # Calculate the classification report for this fold\n",
    "# report = classification_report(y_test, y_pred)\n",
    "# print(report)"
   ]
  },
  {
   "cell_type": "markdown",
   "metadata": {},
   "source": [
    "We can conclude that the models are much better than the dummy, but since we have alot of classes the models most likely have a hard time distinguishing the classes that are quite similar. On the other hand classes such as classical and comedy have high scores for the opposite reason. Since the purpose is not to build a good model but rather how the context of song lyrics can improve music genre classification I want to exclude some classes so that we can focus on some of the classes to gain some quilitative insights. Also since I have to mine the song lyrics I want to lower the amount of API-calls for now. The genres I will exclude are Anime, Classsical, Opera, Electronic, Comedy, World, Ska, Indie."
   ]
  },
  {
   "cell_type": "code",
   "execution_count": 78,
   "metadata": {},
   "outputs": [
    {
     "data": {
      "text/plain": [
       "Jazz                9441\n",
       "Pop                 9386\n",
       "Children’s Music    9353\n",
       "Folk                9299\n",
       "Hip-Hop             9295\n",
       "Rock                9272\n",
       "Alternative         9263\n",
       "Rap                 9232\n",
       "Soul                9089\n",
       "Blues               9023\n",
       "R&B                 8992\n",
       "Reggaeton           8927\n",
       "Reggae              8771\n",
       "Dance               8701\n",
       "Country             8664\n",
       "Name: genre, dtype: int64"
      ]
     },
     "execution_count": 78,
     "metadata": {},
     "output_type": "execute_result"
    }
   ],
   "source": [
    "df_final_final = df_final[~df_final['genre'].isin( ['Anime', 'Classical', 'Opera', 'Electronic', 'Comedy', 'World', 'Ska', 'Indie'])]\n",
    "df_final_final.genre.value_counts()"
   ]
  },
  {
   "cell_type": "code",
   "execution_count": 79,
   "metadata": {},
   "outputs": [],
   "source": [
    "# # Load the data\n",
    "# df = df_final_final\n",
    "\n",
    "# # Split the data into features and labels\n",
    "# X = df.drop(df.columns[[0,1,2,3]], axis=1)\n",
    "# y = df['genre']\n",
    "\n",
    "\n",
    "# # Split the data into training and test sets\n",
    "# X_train, X_test, y_train, y_test = train_test_split(X, y, test_size=0.2)\n",
    "\n",
    "# # Scale the features\n",
    "# scaler = StandardScaler()\n",
    "# X_train = scaler.fit_transform(X_train)\n",
    "# X_test = scaler.transform(X_test)\n",
    "\n",
    "# # Define the MLP model\n",
    "# model = MLPClassifier(max_iter=1000, random_state=42)\n",
    "\n",
    "# # Train the model\n",
    "# model.fit(X_train, y_train)\n",
    "# y_pred = model.predict(X_test)\n",
    "\n",
    "# # Calculate the classification report for this fold\n",
    "# report = classification_report(y_test, y_pred)\n",
    "# print(report)"
   ]
  },
  {
   "cell_type": "code",
   "execution_count": 80,
   "metadata": {},
   "outputs": [
    {
     "name": "stdout",
     "output_type": "stream",
     "text": [
      "Dummy: 0.046155 (0.000009)\n",
      "Naive Bayes: 0.126264 (0.000643)\n"
     ]
    }
   ],
   "source": [
    "results =[]\n",
    "for name in models:\n",
    "    model = models[name]\n",
    "    cv_score = cross_val_score(model, X, y, cv = kfold, scoring = 'accuracy')\n",
    "    results.append(cv_score)\n",
    "    print('%s: %f (%f)' % (name,cv_score.mean(), cv_score.std()))"
   ]
  },
  {
   "cell_type": "markdown",
   "metadata": {},
   "source": [
    "From now on we can consider this new dataset the final dataset we want to work with unless we wont have any problems with the lyrics mining."
   ]
  },
  {
   "cell_type": "code",
   "execution_count": 81,
   "metadata": {},
   "outputs": [],
   "source": [
    "df_mining = df_final_final\n",
    "df_mining.to_csv('./DATASETS/df_mining.csv', index = False)"
   ]
  },
  {
   "cell_type": "markdown",
   "metadata": {},
   "source": [
    "Because of API request limits I will mine so many genres I have time with. Therefore I will divide the csv files into the song genres, so I can start and stop after completing a class (since the whole database can take a lot of time and i may have to start and stop while moving my laptop.)"
   ]
  },
  {
   "cell_type": "code",
   "execution_count": 82,
   "metadata": {},
   "outputs": [],
   "source": [
    "for genre in df_mining[\"genre\"].unique():\n",
    "    temp_df = df_mining.loc[df_mining.genre == genre]\n",
    "    temp_df.to_csv('./DATASETS/homemade/%s.csv' % (genre))\n"
   ]
  },
  {
   "cell_type": "markdown",
   "metadata": {},
   "source": [
    "After writing a simple script (lyrics_miner.py) to mine some lyrics I unfortunatly missunderstood how many requests that was free every month and wasted a lot of time. Thankfully I also realised that someone most likely already built a big dataset of lyrics just like the audio features data set and that I simply have to search for the matching pairs between datasets. (I can also mine some songs from Genius API whenever I feel like I want the lyrics to a certain song now! Woho!)"
   ]
  },
  {
   "cell_type": "code",
   "execution_count": 83,
   "metadata": {},
   "outputs": [
    {
     "data": {
      "text/plain": [
       "count     136708\n",
       "unique     10623\n",
       "top        Drake\n",
       "freq         477\n",
       "Name: artist_name, dtype: object"
      ]
     },
     "execution_count": 83,
     "metadata": {},
     "output_type": "execute_result"
    }
   ],
   "source": [
    "df_final_final['artist_name'].describe()"
   ]
  },
  {
   "cell_type": "code",
   "execution_count": 84,
   "metadata": {},
   "outputs": [
    {
     "data": {
      "text/html": [
       "<div>\n",
       "<style scoped>\n",
       "    .dataframe tbody tr th:only-of-type {\n",
       "        vertical-align: middle;\n",
       "    }\n",
       "\n",
       "    .dataframe tbody tr th {\n",
       "        vertical-align: top;\n",
       "    }\n",
       "\n",
       "    .dataframe thead th {\n",
       "        text-align: right;\n",
       "    }\n",
       "</style>\n",
       "<table border=\"1\" class=\"dataframe\">\n",
       "  <thead>\n",
       "    <tr style=\"text-align: right;\">\n",
       "      <th></th>\n",
       "      <th>artist_name</th>\n",
       "      <th>lyrics</th>\n",
       "      <th>track_name</th>\n",
       "    </tr>\n",
       "  </thead>\n",
       "  <tbody>\n",
       "    <tr>\n",
       "      <th>0</th>\n",
       "      <td>Elijah Blake</td>\n",
       "      <td>No, no\\r\\nI ain't ever trapped out the bando\\r...</td>\n",
       "      <td>Everyday</td>\n",
       "    </tr>\n",
       "    <tr>\n",
       "      <th>1</th>\n",
       "      <td>Elijah Blake</td>\n",
       "      <td>The drinks go down and smoke goes up, I feel m...</td>\n",
       "      <td>Live Till We Die</td>\n",
       "    </tr>\n",
       "    <tr>\n",
       "      <th>2</th>\n",
       "      <td>Elijah Blake</td>\n",
       "      <td>She don't live on planet Earth no more\\r\\nShe ...</td>\n",
       "      <td>The Otherside</td>\n",
       "    </tr>\n",
       "    <tr>\n",
       "      <th>3</th>\n",
       "      <td>Elijah Blake</td>\n",
       "      <td>Trippin' off that Grigio, mobbin', lights low\\...</td>\n",
       "      <td>Pinot</td>\n",
       "    </tr>\n",
       "    <tr>\n",
       "      <th>4</th>\n",
       "      <td>Elijah Blake</td>\n",
       "      <td>I see a midnight panther, so gallant and so br...</td>\n",
       "      <td>Shadows &amp; Diamonds</td>\n",
       "    </tr>\n",
       "  </tbody>\n",
       "</table>\n",
       "</div>"
      ],
      "text/plain": [
       "    artist_name                                             lyrics  \\\n",
       "0  Elijah Blake  No, no\\r\\nI ain't ever trapped out the bando\\r...   \n",
       "1  Elijah Blake  The drinks go down and smoke goes up, I feel m...   \n",
       "2  Elijah Blake  She don't live on planet Earth no more\\r\\nShe ...   \n",
       "3  Elijah Blake  Trippin' off that Grigio, mobbin', lights low\\...   \n",
       "4  Elijah Blake  I see a midnight panther, so gallant and so br...   \n",
       "\n",
       "           track_name  \n",
       "0            Everyday  \n",
       "1    Live Till We Die  \n",
       "2       The Otherside  \n",
       "3               Pinot  \n",
       "4  Shadows & Diamonds  "
      ]
     },
     "execution_count": 84,
     "metadata": {},
     "output_type": "execute_result"
    }
   ],
   "source": [
    "df_lyrics_150k = pd.read_csv('./DATASETS/labeled_lyrics_cleaned.csv')\n",
    "df_lyrics_150k = df_lyrics_150k.drop(df_lyrics_150k.columns[[0,4]], axis=1)\n",
    "df_lyrics_150k.columns = ['artist_name', 'lyrics', 'track_name']\n",
    "df_lyrics_150k.head()"
   ]
  },
  {
   "cell_type": "code",
   "execution_count": 85,
   "metadata": {},
   "outputs": [
    {
     "name": "stdout",
     "output_type": "stream",
     "text": [
      "There are matching rows in the original dataframes.\n"
     ]
    },
    {
     "data": {
      "text/html": [
       "<div>\n",
       "<style scoped>\n",
       "    .dataframe tbody tr th:only-of-type {\n",
       "        vertical-align: middle;\n",
       "    }\n",
       "\n",
       "    .dataframe tbody tr th {\n",
       "        vertical-align: top;\n",
       "    }\n",
       "\n",
       "    .dataframe thead th {\n",
       "        text-align: right;\n",
       "    }\n",
       "</style>\n",
       "<table border=\"1\" class=\"dataframe\">\n",
       "  <thead>\n",
       "    <tr style=\"text-align: right;\">\n",
       "      <th></th>\n",
       "      <th>genre</th>\n",
       "      <th>artist_name</th>\n",
       "      <th>track_name</th>\n",
       "      <th>track_id</th>\n",
       "      <th>acousticness</th>\n",
       "      <th>danceability</th>\n",
       "      <th>duration_ms</th>\n",
       "      <th>energy</th>\n",
       "      <th>instrumentalness</th>\n",
       "      <th>key</th>\n",
       "      <th>liveness</th>\n",
       "      <th>loudness</th>\n",
       "      <th>mode</th>\n",
       "      <th>speechiness</th>\n",
       "      <th>tempo</th>\n",
       "      <th>time_signature</th>\n",
       "      <th>valence</th>\n",
       "      <th>lyrics</th>\n",
       "    </tr>\n",
       "  </thead>\n",
       "  <tbody>\n",
       "    <tr>\n",
       "      <th>0</th>\n",
       "      <td>R&amp;B</td>\n",
       "      <td>Frank Ocean</td>\n",
       "      <td>Seigfried</td>\n",
       "      <td>1BViPjTT585XAhkUUrkts0</td>\n",
       "      <td>0.975</td>\n",
       "      <td>0.377</td>\n",
       "      <td>334570</td>\n",
       "      <td>0.255</td>\n",
       "      <td>0.000208</td>\n",
       "      <td>0.333333</td>\n",
       "      <td>0.102</td>\n",
       "      <td>-11.165</td>\n",
       "      <td>0.0</td>\n",
       "      <td>0.0387</td>\n",
       "      <td>125.004</td>\n",
       "      <td>0.4</td>\n",
       "      <td>0.370</td>\n",
       "      <td>The markings on your surface\\r\\nYour speckled ...</td>\n",
       "    </tr>\n",
       "    <tr>\n",
       "      <th>1</th>\n",
       "      <td>Alternative</td>\n",
       "      <td>Frank Ocean</td>\n",
       "      <td>Seigfried</td>\n",
       "      <td>1BViPjTT585XAhkUUrkts0</td>\n",
       "      <td>0.975</td>\n",
       "      <td>0.377</td>\n",
       "      <td>334570</td>\n",
       "      <td>0.255</td>\n",
       "      <td>0.000208</td>\n",
       "      <td>0.333333</td>\n",
       "      <td>0.102</td>\n",
       "      <td>-11.165</td>\n",
       "      <td>0.0</td>\n",
       "      <td>0.0387</td>\n",
       "      <td>125.004</td>\n",
       "      <td>0.4</td>\n",
       "      <td>0.370</td>\n",
       "      <td>The markings on your surface\\r\\nYour speckled ...</td>\n",
       "    </tr>\n",
       "    <tr>\n",
       "      <th>2</th>\n",
       "      <td>Hip-Hop</td>\n",
       "      <td>Frank Ocean</td>\n",
       "      <td>Seigfried</td>\n",
       "      <td>1BViPjTT585XAhkUUrkts0</td>\n",
       "      <td>0.975</td>\n",
       "      <td>0.377</td>\n",
       "      <td>334570</td>\n",
       "      <td>0.255</td>\n",
       "      <td>0.000208</td>\n",
       "      <td>0.333333</td>\n",
       "      <td>0.102</td>\n",
       "      <td>-11.165</td>\n",
       "      <td>0.0</td>\n",
       "      <td>0.0387</td>\n",
       "      <td>125.004</td>\n",
       "      <td>0.4</td>\n",
       "      <td>0.370</td>\n",
       "      <td>The markings on your surface\\r\\nYour speckled ...</td>\n",
       "    </tr>\n",
       "    <tr>\n",
       "      <th>3</th>\n",
       "      <td>Children’s Music</td>\n",
       "      <td>Frank Ocean</td>\n",
       "      <td>Seigfried</td>\n",
       "      <td>1BViPjTT585XAhkUUrkts0</td>\n",
       "      <td>0.975</td>\n",
       "      <td>0.377</td>\n",
       "      <td>334570</td>\n",
       "      <td>0.255</td>\n",
       "      <td>0.000208</td>\n",
       "      <td>0.333333</td>\n",
       "      <td>0.102</td>\n",
       "      <td>-11.165</td>\n",
       "      <td>0.0</td>\n",
       "      <td>0.0387</td>\n",
       "      <td>125.004</td>\n",
       "      <td>0.4</td>\n",
       "      <td>0.370</td>\n",
       "      <td>The markings on your surface\\r\\nYour speckled ...</td>\n",
       "    </tr>\n",
       "    <tr>\n",
       "      <th>4</th>\n",
       "      <td>Soul</td>\n",
       "      <td>Frank Ocean</td>\n",
       "      <td>Seigfried</td>\n",
       "      <td>1BViPjTT585XAhkUUrkts0</td>\n",
       "      <td>0.975</td>\n",
       "      <td>0.377</td>\n",
       "      <td>334570</td>\n",
       "      <td>0.255</td>\n",
       "      <td>0.000208</td>\n",
       "      <td>0.333333</td>\n",
       "      <td>0.102</td>\n",
       "      <td>-11.165</td>\n",
       "      <td>0.0</td>\n",
       "      <td>0.0387</td>\n",
       "      <td>125.004</td>\n",
       "      <td>0.4</td>\n",
       "      <td>0.370</td>\n",
       "      <td>The markings on your surface\\r\\nYour speckled ...</td>\n",
       "    </tr>\n",
       "    <tr>\n",
       "      <th>5</th>\n",
       "      <td>R&amp;B</td>\n",
       "      <td>Mariah Carey</td>\n",
       "      <td>Hero</td>\n",
       "      <td>4FCb4CUbFCMNRkI6lYc1zI</td>\n",
       "      <td>0.735</td>\n",
       "      <td>0.501</td>\n",
       "      <td>257733</td>\n",
       "      <td>0.378</td>\n",
       "      <td>0.000000</td>\n",
       "      <td>0.333333</td>\n",
       "      <td>0.119</td>\n",
       "      <td>-9.370</td>\n",
       "      <td>0.5</td>\n",
       "      <td>0.0290</td>\n",
       "      <td>119.987</td>\n",
       "      <td>0.0</td>\n",
       "      <td>0.178</td>\n",
       "      <td>There's a hero\\r\\nIf you look inside your hear...</td>\n",
       "    </tr>\n",
       "    <tr>\n",
       "      <th>6</th>\n",
       "      <td>Pop</td>\n",
       "      <td>Mariah Carey</td>\n",
       "      <td>Hero</td>\n",
       "      <td>4FCb4CUbFCMNRkI6lYc1zI</td>\n",
       "      <td>0.735</td>\n",
       "      <td>0.501</td>\n",
       "      <td>257733</td>\n",
       "      <td>0.378</td>\n",
       "      <td>0.000000</td>\n",
       "      <td>0.333333</td>\n",
       "      <td>0.119</td>\n",
       "      <td>-9.370</td>\n",
       "      <td>0.5</td>\n",
       "      <td>0.0290</td>\n",
       "      <td>119.987</td>\n",
       "      <td>0.0</td>\n",
       "      <td>0.178</td>\n",
       "      <td>There's a hero\\r\\nIf you look inside your hear...</td>\n",
       "    </tr>\n",
       "    <tr>\n",
       "      <th>7</th>\n",
       "      <td>R&amp;B</td>\n",
       "      <td>Big Sean</td>\n",
       "      <td>I Know</td>\n",
       "      <td>6rje9f1wRFJDO2iTORw0lH</td>\n",
       "      <td>0.288</td>\n",
       "      <td>0.741</td>\n",
       "      <td>319973</td>\n",
       "      <td>0.345</td>\n",
       "      <td>0.000000</td>\n",
       "      <td>0.666667</td>\n",
       "      <td>0.117</td>\n",
       "      <td>-11.310</td>\n",
       "      <td>0.5</td>\n",
       "      <td>0.0754</td>\n",
       "      <td>120.015</td>\n",
       "      <td>0.0</td>\n",
       "      <td>0.277</td>\n",
       "      <td>I know you've been goin' through some things, ...</td>\n",
       "    </tr>\n",
       "    <tr>\n",
       "      <th>8</th>\n",
       "      <td>Hip-Hop</td>\n",
       "      <td>Big Sean</td>\n",
       "      <td>I Know</td>\n",
       "      <td>6rje9f1wRFJDO2iTORw0lH</td>\n",
       "      <td>0.288</td>\n",
       "      <td>0.741</td>\n",
       "      <td>319973</td>\n",
       "      <td>0.345</td>\n",
       "      <td>0.000000</td>\n",
       "      <td>0.666667</td>\n",
       "      <td>0.117</td>\n",
       "      <td>-11.310</td>\n",
       "      <td>0.5</td>\n",
       "      <td>0.0754</td>\n",
       "      <td>120.015</td>\n",
       "      <td>0.0</td>\n",
       "      <td>0.277</td>\n",
       "      <td>I know you've been goin' through some things, ...</td>\n",
       "    </tr>\n",
       "    <tr>\n",
       "      <th>9</th>\n",
       "      <td>Pop</td>\n",
       "      <td>Big Sean</td>\n",
       "      <td>I Know</td>\n",
       "      <td>6rje9f1wRFJDO2iTORw0lH</td>\n",
       "      <td>0.288</td>\n",
       "      <td>0.741</td>\n",
       "      <td>319973</td>\n",
       "      <td>0.345</td>\n",
       "      <td>0.000000</td>\n",
       "      <td>0.666667</td>\n",
       "      <td>0.117</td>\n",
       "      <td>-11.310</td>\n",
       "      <td>0.5</td>\n",
       "      <td>0.0754</td>\n",
       "      <td>120.015</td>\n",
       "      <td>0.0</td>\n",
       "      <td>0.277</td>\n",
       "      <td>I know you've been goin' through some things, ...</td>\n",
       "    </tr>\n",
       "  </tbody>\n",
       "</table>\n",
       "</div>"
      ],
      "text/plain": [
       "              genre   artist_name track_name                track_id  \\\n",
       "0               R&B   Frank Ocean  Seigfried  1BViPjTT585XAhkUUrkts0   \n",
       "1       Alternative   Frank Ocean  Seigfried  1BViPjTT585XAhkUUrkts0   \n",
       "2           Hip-Hop   Frank Ocean  Seigfried  1BViPjTT585XAhkUUrkts0   \n",
       "3  Children’s Music   Frank Ocean  Seigfried  1BViPjTT585XAhkUUrkts0   \n",
       "4              Soul   Frank Ocean  Seigfried  1BViPjTT585XAhkUUrkts0   \n",
       "5               R&B  Mariah Carey       Hero  4FCb4CUbFCMNRkI6lYc1zI   \n",
       "6               Pop  Mariah Carey       Hero  4FCb4CUbFCMNRkI6lYc1zI   \n",
       "7               R&B      Big Sean     I Know  6rje9f1wRFJDO2iTORw0lH   \n",
       "8           Hip-Hop      Big Sean     I Know  6rje9f1wRFJDO2iTORw0lH   \n",
       "9               Pop      Big Sean     I Know  6rje9f1wRFJDO2iTORw0lH   \n",
       "\n",
       "   acousticness  danceability  duration_ms  energy  instrumentalness  \\\n",
       "0         0.975         0.377       334570   0.255          0.000208   \n",
       "1         0.975         0.377       334570   0.255          0.000208   \n",
       "2         0.975         0.377       334570   0.255          0.000208   \n",
       "3         0.975         0.377       334570   0.255          0.000208   \n",
       "4         0.975         0.377       334570   0.255          0.000208   \n",
       "5         0.735         0.501       257733   0.378          0.000000   \n",
       "6         0.735         0.501       257733   0.378          0.000000   \n",
       "7         0.288         0.741       319973   0.345          0.000000   \n",
       "8         0.288         0.741       319973   0.345          0.000000   \n",
       "9         0.288         0.741       319973   0.345          0.000000   \n",
       "\n",
       "        key  liveness  loudness  mode  speechiness    tempo  time_signature  \\\n",
       "0  0.333333     0.102   -11.165   0.0       0.0387  125.004             0.4   \n",
       "1  0.333333     0.102   -11.165   0.0       0.0387  125.004             0.4   \n",
       "2  0.333333     0.102   -11.165   0.0       0.0387  125.004             0.4   \n",
       "3  0.333333     0.102   -11.165   0.0       0.0387  125.004             0.4   \n",
       "4  0.333333     0.102   -11.165   0.0       0.0387  125.004             0.4   \n",
       "5  0.333333     0.119    -9.370   0.5       0.0290  119.987             0.0   \n",
       "6  0.333333     0.119    -9.370   0.5       0.0290  119.987             0.0   \n",
       "7  0.666667     0.117   -11.310   0.5       0.0754  120.015             0.0   \n",
       "8  0.666667     0.117   -11.310   0.5       0.0754  120.015             0.0   \n",
       "9  0.666667     0.117   -11.310   0.5       0.0754  120.015             0.0   \n",
       "\n",
       "   valence                                             lyrics  \n",
       "0    0.370  The markings on your surface\\r\\nYour speckled ...  \n",
       "1    0.370  The markings on your surface\\r\\nYour speckled ...  \n",
       "2    0.370  The markings on your surface\\r\\nYour speckled ...  \n",
       "3    0.370  The markings on your surface\\r\\nYour speckled ...  \n",
       "4    0.370  The markings on your surface\\r\\nYour speckled ...  \n",
       "5    0.178  There's a hero\\r\\nIf you look inside your hear...  \n",
       "6    0.178  There's a hero\\r\\nIf you look inside your hear...  \n",
       "7    0.277  I know you've been goin' through some things, ...  \n",
       "8    0.277  I know you've been goin' through some things, ...  \n",
       "9    0.277  I know you've been goin' through some things, ...  "
      ]
     },
     "execution_count": 85,
     "metadata": {},
     "output_type": "execute_result"
    }
   ],
   "source": [
    "# merge the two dataframes on the 'ID' and 'Name' columns\n",
    "merged_df = pd.merge(df_final_final, df_lyrics_150k, on=['artist_name', 'track_name'])\n",
    "\n",
    "# check if there are any matching rows\n",
    "if merged_df.shape[0] > 0:\n",
    "    print(\"There are matching rows in the original dataframes.\")\n",
    "else:\n",
    "    print(\"There are no matching rows in the original dataframes.\")\n",
    "\n",
    "merged_df.head(10)\n"
   ]
  },
  {
   "cell_type": "markdown",
   "metadata": {},
   "source": [
    "Seeing that we have songs with multiple labels we need to rethink our aprouch of the problem. I will therefore go back to the data preparation of the audio feature data set."
   ]
  },
  {
   "cell_type": "code",
   "execution_count": 86,
   "metadata": {},
   "outputs": [
    {
     "data": {
      "text/plain": [
       "artist_name  track_name                \n",
       "Frank Ocean  Swim Good                      True\n",
       "             Super Rich Kids                True\n",
       "             Nights                         True\n",
       "             Novacane                       True\n",
       "             Pilot Jones                    True\n",
       "                                           ...  \n",
       "J.J. Cale    Ride Me High                  False\n",
       "             Oh My My                      False\n",
       "             Nowhere To Run                False\n",
       "             My Baby Blues                 False\n",
       "정진우          I'll Find You (feat. June)    False\n",
       "Length: 92862, dtype: bool"
      ]
     },
     "execution_count": 86,
     "metadata": {},
     "output_type": "execute_result"
    }
   ],
   "source": [
    "temp = df_final_final[['artist_name','track_name']].value_counts() > 1\n",
    "temp"
   ]
  },
  {
   "cell_type": "code",
   "execution_count": 87,
   "metadata": {},
   "outputs": [
    {
     "data": {
      "text/plain": [
       "False    64987\n",
       "True     27875\n",
       "dtype: int64"
      ]
     },
     "execution_count": 87,
     "metadata": {},
     "output_type": "execute_result"
    }
   ],
   "source": [
    "temp.value_counts()"
   ]
  },
  {
   "cell_type": "markdown",
   "metadata": {},
   "source": [
    "As we can see there are a lot of songs still with only one class label so let us use those from now on. Though we need to go back some steps of the data preparation since we actually eliminated some of the music genres we want to take back some of thoose, since there is no way to check which label is the most dominant for a song. (from this dataset)\n",
    "One thing that could be done is to check which genres that have most overlaps to decide if the genre itself is not that distinguishable from the other genres. (and offcourse finding overlaps and maybe eliminate some genres with too much overlap!)"
   ]
  },
  {
   "cell_type": "code",
   "execution_count": 88,
   "metadata": {},
   "outputs": [
    {
     "data": {
      "text/plain": [
       "Comedy              9681\n",
       "Indie               9543\n",
       "Jazz                9441\n",
       "Pop                 9386\n",
       "Electronic          9377\n",
       "Children’s Music    9353\n",
       "Folk                9299\n",
       "Hip-Hop             9295\n",
       "Rock                9272\n",
       "Alternative         9263\n",
       "Classical           9256\n",
       "Rap                 9232\n",
       "World               9096\n",
       "Soul                9089\n",
       "Blues               9023\n",
       "R&B                 8992\n",
       "Anime               8936\n",
       "Reggaeton           8927\n",
       "Ska                 8874\n",
       "Reggae              8771\n",
       "Dance               8701\n",
       "Country             8664\n",
       "Opera               8280\n",
       "Name: genre, dtype: int64"
      ]
     },
     "execution_count": 88,
     "metadata": {},
     "output_type": "execute_result"
    }
   ],
   "source": [
    "df_renewed = df_final.copy()\n",
    "df_renewed.genre.value_counts()"
   ]
  },
  {
   "cell_type": "code",
   "execution_count": 89,
   "metadata": {},
   "outputs": [
    {
     "data": {
      "text/html": [
       "<div>\n",
       "<style scoped>\n",
       "    .dataframe tbody tr th:only-of-type {\n",
       "        vertical-align: middle;\n",
       "    }\n",
       "\n",
       "    .dataframe tbody tr th {\n",
       "        vertical-align: top;\n",
       "    }\n",
       "\n",
       "    .dataframe thead th {\n",
       "        text-align: right;\n",
       "    }\n",
       "</style>\n",
       "<table border=\"1\" class=\"dataframe\">\n",
       "  <thead>\n",
       "    <tr style=\"text-align: right;\">\n",
       "      <th></th>\n",
       "      <th>artist_name</th>\n",
       "      <th>track_name</th>\n",
       "      <th>genre</th>\n",
       "    </tr>\n",
       "  </thead>\n",
       "  <tbody>\n",
       "    <tr>\n",
       "      <th>6</th>\n",
       "      <td>!!!</td>\n",
       "      <td>Even When The Water's Cold</td>\n",
       "      <td>6</td>\n",
       "    </tr>\n",
       "    <tr>\n",
       "      <th>16</th>\n",
       "      <td>!!!</td>\n",
       "      <td>Lucy Mongoosey</td>\n",
       "      <td>2</td>\n",
       "    </tr>\n",
       "    <tr>\n",
       "      <th>36</th>\n",
       "      <td>\"Weird Al\" Yankovic</td>\n",
       "      <td>Amish Paradise (Parody of \"Gangsta's Paradise\"...</td>\n",
       "      <td>2</td>\n",
       "    </tr>\n",
       "    <tr>\n",
       "      <th>102</th>\n",
       "      <td>$uicideBoy$</td>\n",
       "      <td>$outh $ide $uicide</td>\n",
       "      <td>2</td>\n",
       "    </tr>\n",
       "    <tr>\n",
       "      <th>103</th>\n",
       "      <td>$uicideBoy$</td>\n",
       "      <td>10,000 Degrees</td>\n",
       "      <td>2</td>\n",
       "    </tr>\n",
       "  </tbody>\n",
       "</table>\n",
       "</div>"
      ],
      "text/plain": [
       "             artist_name                                         track_name  \\\n",
       "6                    !!!                         Even When The Water's Cold   \n",
       "16                   !!!                                     Lucy Mongoosey   \n",
       "36   \"Weird Al\" Yankovic  Amish Paradise (Parody of \"Gangsta's Paradise\"...   \n",
       "102          $uicideBoy$                                 $outh $ide $uicide   \n",
       "103          $uicideBoy$                                     10,000 Degrees   \n",
       "\n",
       "     genre  \n",
       "6        6  \n",
       "16       2  \n",
       "36       2  \n",
       "102      2  \n",
       "103      2  "
      ]
     },
     "execution_count": 89,
     "metadata": {},
     "output_type": "execute_result"
    }
   ],
   "source": [
    "temp = df_renewed[['artist_name','track_name','genre']].groupby(['artist_name', 'track_name']).count().reset_index()\n",
    "df_multiples = temp.loc[temp['genre'] > 1]\n",
    "df_uniques = temp.loc[temp['genre'] == 1]\n",
    "df_multiples.head()"
   ]
  },
  {
   "cell_type": "code",
   "execution_count": 90,
   "metadata": {},
   "outputs": [
    {
     "data": {
      "text/plain": [
       "array(['R&B', 'Alternative', 'Country', 'Dance', 'Electronic', 'Anime',\n",
       "       'Folk', 'Blues', 'Opera', 'Hip-Hop', 'Children’s Music', 'Rap',\n",
       "       'Indie', 'Classical', 'Pop', 'Reggae', 'Reggaeton', 'Jazz', 'Rock',\n",
       "       'Ska', 'Comedy', 'Soul', 'World'], dtype=object)"
      ]
     },
     "execution_count": 90,
     "metadata": {},
     "output_type": "execute_result"
    }
   ],
   "source": [
    "genres = df_renewed.genre.unique()\n",
    "genres"
   ]
  },
  {
   "cell_type": "code",
   "execution_count": 91,
   "metadata": {},
   "outputs": [
    {
     "data": {
      "text/plain": [
       "array([0, 0, 1, 0, 0, 0, 0, 0, 0, 0, 0, 0, 0, 0, 0, 0, 0, 1, 0, 0, 0, 0,\n",
       "       0])"
      ]
     },
     "execution_count": 91,
     "metadata": {},
     "output_type": "execute_result"
    }
   ],
   "source": [
    "test = np.array(['Country', 'Jazz'])\n",
    "test\n",
    "mask =   np.in1d(genres,test) * 1\n",
    "mask"
   ]
  },
  {
   "cell_type": "code",
   "execution_count": 121,
   "metadata": {},
   "outputs": [
    {
     "data": {
      "text/plain": [
       "{'R&B': array([6.279e+03, 1.349e+03, 0.000e+00, 2.178e+03, 9.000e+00, 0.000e+00,\n",
       "        1.390e+02, 0.000e+00, 0.000e+00, 1.252e+03, 1.679e+03, 1.373e+03,\n",
       "        1.262e+03, 0.000e+00, 1.506e+03, 0.000e+00, 1.000e+00, 1.580e+02,\n",
       "        6.200e+01, 0.000e+00, 0.000e+00, 2.427e+03, 0.000e+00]),\n",
       " 'Alternative': array([1.349e+03, 7.509e+03, 2.340e+02, 6.850e+02, 1.000e+02, 1.000e+00,\n",
       "        5.630e+02, 2.430e+02, 0.000e+00, 7.800e+02, 6.963e+03, 9.090e+02,\n",
       "        1.808e+03, 0.000e+00, 6.080e+02, 5.600e+01, 5.000e+00, 9.300e+01,\n",
       "        2.464e+03, 3.600e+01, 4.000e+00, 5.740e+02, 2.520e+02]),\n",
       " 'Country': array([0.000e+00, 2.340e+02, 2.143e+03, 1.080e+02, 0.000e+00, 0.000e+00,\n",
       "        7.010e+02, 1.680e+02, 0.000e+00, 2.600e+01, 2.320e+02, 1.740e+02,\n",
       "        1.360e+02, 0.000e+00, 3.360e+02, 0.000e+00, 0.000e+00, 3.400e+01,\n",
       "        1.209e+03, 0.000e+00, 1.000e+00, 1.300e+01, 0.000e+00]),\n",
       " 'Dance': array([2178.,  685.,  108., 5976.,  216.,    0.,  368.,   32.,    0.,\n",
       "         747.,  763., 1180., 1062.,    0., 3050.,    8.,   25.,   18.,\n",
       "         769.,    6.,    0.,  490.,    9.]),\n",
       " 'Electronic': array([   9.,  100.,    0.,  216., 1166.,    0.,   26.,    4.,    0.,\n",
       "          13.,   99.,    6.,   44.,    0.,   52.,    0.,    0.,  611.,\n",
       "          33.,    0.,    0.,   89.,  222.]),\n",
       " 'Anime': array([  0.,   1.,   0.,   0.,   0., 165.,   0.,   0.,   0.,   0.,   0.,\n",
       "          0.,   0., 129.,   6.,   0.,   0.,   0.,  17.,   0.,   0.,   0.,\n",
       "         45.]),\n",
       " 'Folk': array([1.390e+02, 5.630e+02, 7.010e+02, 3.680e+02, 2.600e+01, 0.000e+00,\n",
       "        4.962e+03, 4.390e+02, 0.000e+00, 5.000e+00, 6.660e+02, 1.000e+00,\n",
       "        2.961e+03, 1.000e+00, 7.090e+02, 3.000e+00, 0.000e+00, 6.400e+01,\n",
       "        1.787e+03, 3.900e+01, 0.000e+00, 2.530e+02, 2.200e+01]),\n",
       " 'Blues': array([0.000e+00, 2.430e+02, 1.680e+02, 3.200e+01, 4.000e+00, 0.000e+00,\n",
       "        4.390e+02, 1.896e+03, 0.000e+00, 1.000e+00, 2.580e+02, 0.000e+00,\n",
       "        1.570e+02, 3.200e+01, 1.900e+01, 0.000e+00, 0.000e+00, 3.940e+02,\n",
       "        6.470e+02, 0.000e+00, 0.000e+00, 6.750e+02, 4.300e+01]),\n",
       " 'Opera': array([  0.,   0.,   0.,   0.,   0.,   0.,   0.,   0., 391.,   0.,   0.,\n",
       "          0.,   0., 391.,   0.,   0.,   0.,   0.,   0.,   0.,   0.,   0.,\n",
       "          0.]),\n",
       " 'Hip-Hop': array([1.252e+03, 7.800e+02, 2.600e+01, 7.470e+02, 1.300e+01, 0.000e+00,\n",
       "        5.000e+00, 1.000e+00, 0.000e+00, 7.393e+03, 8.960e+02, 6.111e+03,\n",
       "        3.300e+02, 0.000e+00, 2.334e+03, 3.000e+00, 3.040e+02, 7.800e+01,\n",
       "        8.600e+01, 0.000e+00, 0.000e+00, 4.510e+02, 0.000e+00]),\n",
       " 'Children’s Music': array([1.679e+03, 6.963e+03, 2.320e+02, 7.630e+02, 9.900e+01, 0.000e+00,\n",
       "        6.660e+02, 2.580e+02, 0.000e+00, 8.960e+02, 8.792e+03, 9.950e+02,\n",
       "        2.604e+03, 2.000e+00, 8.030e+02, 4.100e+01, 6.000e+00, 9.900e+01,\n",
       "        3.246e+03, 3.900e+01, 4.000e+00, 7.590e+02, 3.140e+02]),\n",
       " 'Rap': array([1.373e+03, 9.090e+02, 1.740e+02, 1.180e+03, 6.000e+00, 0.000e+00,\n",
       "        1.000e+00, 0.000e+00, 0.000e+00, 6.111e+03, 9.950e+02, 8.250e+03,\n",
       "        5.160e+02, 0.000e+00, 3.322e+03, 1.000e+01, 1.800e+01, 3.200e+01,\n",
       "        4.780e+02, 0.000e+00, 0.000e+00, 2.180e+02, 0.000e+00]),\n",
       " 'Indie': array([1.262e+03, 1.808e+03, 1.360e+02, 1.062e+03, 4.400e+01, 0.000e+00,\n",
       "        2.961e+03, 1.570e+02, 0.000e+00, 3.300e+02, 2.604e+03, 5.160e+02,\n",
       "        7.572e+03, 0.000e+00, 1.390e+03, 3.200e+01, 0.000e+00, 7.100e+01,\n",
       "        2.277e+03, 3.000e+00, 0.000e+00, 1.024e+03, 3.700e+01]),\n",
       " 'Classical': array([  0.,   0.,   0.,   0.,   0., 129.,   1.,  32., 391.,   0.,   2.,\n",
       "          0.,   0., 814.,   3.,   0.,   0.,  62.,   5.,   0.,   0.,   2.,\n",
       "        226.]),\n",
       " 'Pop': array([1.506e+03, 6.080e+02, 3.360e+02, 3.050e+03, 5.200e+01, 6.000e+00,\n",
       "        7.090e+02, 1.900e+01, 0.000e+00, 2.334e+03, 8.030e+02, 3.322e+03,\n",
       "        1.390e+03, 3.000e+00, 8.062e+03, 8.000e+00, 1.300e+02, 1.700e+01,\n",
       "        1.698e+03, 4.000e+00, 0.000e+00, 3.220e+02, 3.000e+00]),\n",
       " 'Reggae': array([   0.,   56.,    0.,    8.,    0.,    0.,    3.,    0.,    0.,\n",
       "           3.,   41.,   10.,   32.,    0.,    8., 1087.,    0.,   62.,\n",
       "         185.,  768.,    0.,    3.,    7.]),\n",
       " 'Reggaeton': array([  1.,   5.,   0.,  25.,   0.,   0.,   0.,   0.,   0., 304.,   6.,\n",
       "         18.,   0.,   0., 130.,   0., 402.,   0.,   3.,   0.,   0.,   0.,\n",
       "          0.]),\n",
       " 'Jazz': array([ 158.,   93.,   34.,   18.,  611.,    0.,   64.,  394.,    0.,\n",
       "          78.,   99.,   32.,   71.,   62.,   17.,   62.,    0., 2292.,\n",
       "          20.,   29.,    0.,  830.,  236.]),\n",
       " 'Rock': array([6.200e+01, 2.464e+03, 1.209e+03, 7.690e+02, 3.300e+01, 1.700e+01,\n",
       "        1.787e+03, 6.470e+02, 0.000e+00, 8.600e+01, 3.246e+03, 4.780e+02,\n",
       "        2.277e+03, 5.000e+00, 1.698e+03, 1.850e+02, 3.000e+00, 2.000e+01,\n",
       "        7.409e+03, 3.400e+01, 4.000e+00, 1.800e+02, 1.290e+02]),\n",
       " 'Ska': array([  0.,  36.,   0.,   6.,   0.,   0.,  39.,   0.,   0.,   0.,  39.,\n",
       "          0.,   3.,   0.,   4., 768.,   0.,  29.,  34., 865.,   0.,   0.,\n",
       "          0.]),\n",
       " 'Comedy': array([0., 4., 1., 0., 0., 0., 0., 0., 0., 0., 4., 0., 0., 0., 0., 0., 0.,\n",
       "        0., 4., 0., 8., 0., 0.]),\n",
       " 'Soul': array([2.427e+03, 5.740e+02, 1.300e+01, 4.900e+02, 8.900e+01, 0.000e+00,\n",
       "        2.530e+02, 6.750e+02, 0.000e+00, 4.510e+02, 7.590e+02, 2.180e+02,\n",
       "        1.024e+03, 2.000e+00, 3.220e+02, 3.000e+00, 0.000e+00, 8.300e+02,\n",
       "        1.800e+02, 0.000e+00, 0.000e+00, 4.688e+03, 2.900e+01]),\n",
       " 'World': array([   0.,  252.,    0.,    9.,  222.,   45.,   22.,   43.,    0.,\n",
       "           0.,  314.,    0.,   37.,  226.,    3.,    7.,    0.,  236.,\n",
       "         129.,    0.,    0.,   29., 1112.])}"
      ]
     },
     "execution_count": 121,
     "metadata": {},
     "output_type": "execute_result"
    }
   ],
   "source": [
    "overlap_values = np.zeros(len(genres))\n",
    "#print(overlap_values)\n",
    "stats = {genre : overlap_values for genre in genres }\n",
    "\n",
    "for unique_artist_song_combo in df_multiples.itertuples():\n",
    "        \n",
    "    mini_df = df_renewed.loc[(df_renewed.artist_name == unique_artist_song_combo.artist_name) & (df_renewed.track_name == unique_artist_song_combo.track_name)]\n",
    "    mini_genre_list = mini_df.genre.unique()\n",
    "    overlap_values = np.in1d(genres, mini_genre_list) * 1\n",
    "    for mini_genre in mini_genre_list:\n",
    "        old_val = stats[mini_genre]\n",
    "        stats[mini_genre] = (overlap_values + old_val)\n",
    "        \n",
    "\n",
    "#mini_df.head()\n",
    "#print(mini_genre_list)\n",
    "stats"
   ]
  },
  {
   "cell_type": "code",
   "execution_count": 197,
   "metadata": {},
   "outputs": [
    {
     "data": {
      "image/png": "[encoded data removed]",
      "text/plain": [
       "<Figure size 432x288 with 1 Axes>"
      ]
     },
     "metadata": {
      "needs_background": "light"
     },
     "output_type": "display_data"
    },
    {
     "data": {
      "text/plain": [
       "<Figure size 432x288 with 0 Axes>"
      ]
     },
     "metadata": {},
     "output_type": "display_data"
    },
    {
     "data": {
      "image/png": "[encoded data removed]",
      "text/plain": [
       "<Figure size 432x288 with 1 Axes>"
      ]
     },
     "metadata": {
      "needs_background": "light"
     },
     "output_type": "display_data"
    },
    {
     "data": {
      "text/plain": [
       "<Figure size 432x288 with 0 Axes>"
      ]
     },
     "metadata": {},
     "output_type": "display_data"
    },
    {
     "data": {
      "image/png": "[encoded data removed]",
      "text/plain": [
       "<Figure size 432x288 with 1 Axes>"
      ]
     },
     "metadata": {
      "needs_background": "light"
     },
     "output_type": "display_data"
    },
    {
     "data": {
      "text/plain": [
       "<Figure size 432x288 with 0 Axes>"
      ]
     },
     "metadata": {},
     "output_type": "display_data"
    },
    {
     "data": {
      "image/png": "[encoded data removed]",
      "text/plain": [
       "<Figure size 432x288 with 1 Axes>"
      ]
     },
     "metadata": {
      "needs_background": "light"
     },
     "output_type": "display_data"
    },
    {
     "data": {
      "text/plain": [
       "<Figure size 432x288 with 0 Axes>"
      ]
     },
     "metadata": {},
     "output_type": "display_data"
    },
    {
     "data": {
      "image/png": "[encoded data removed]",
      "text/plain": [
       "<Figure size 432x288 with 1 Axes>"
      ]
     },
     "metadata": {
      "needs_background": "light"
     },
     "output_type": "display_data"
    },
    {
     "data": {
      "text/plain": [
       "<Figure size 432x288 with 0 Axes>"
      ]
     },
     "metadata": {},
     "output_type": "display_data"
    },
    {
     "data": {
      "image/png": "[encoded data removed]",
      "text/plain": [
       "<Figure size 432x288 with 1 Axes>"
      ]
     },
     "metadata": {
      "needs_background": "light"
     },
     "output_type": "display_data"
    },
    {
     "data": {
      "text/plain": [
       "<Figure size 432x288 with 0 Axes>"
      ]
     },
     "metadata": {},
     "output_type": "display_data"
    },
    {
     "data": {
      "image/png": "[encoded data removed]",
      "text/plain": [
       "<Figure size 432x288 with 1 Axes>"
      ]
     },
     "metadata": {
      "needs_background": "light"
     },
     "output_type": "display_data"
    },
    {
     "data": {
      "text/plain": [
       "<Figure size 432x288 with 0 Axes>"
      ]
     },
     "metadata": {},
     "output_type": "display_data"
    },
    {
     "data": {
      "image/png": "[encoded data removed]",
      "text/plain": [
       "<Figure size 432x288 with 1 Axes>"
      ]
     },
     "metadata": {
      "needs_background": "light"
     },
     "output_type": "display_data"
    },
    {
     "data": {
      "text/plain": [
       "<Figure size 432x288 with 0 Axes>"
      ]
     },
     "metadata": {},
     "output_type": "display_data"
    },
    {
     "data": {
      "image/png": "[encoded data removed]",
      "text/plain": [
       "<Figure size 432x288 with 1 Axes>"
      ]
     },
     "metadata": {
      "needs_background": "light"
     },
     "output_type": "display_data"
    },
    {
     "data": {
      "text/plain": [
       "<Figure size 432x288 with 0 Axes>"
      ]
     },
     "metadata": {},
     "output_type": "display_data"
    },
    {
     "data": {
      "image/png": "[encoded data removed]",
      "text/plain": [
       "<Figure size 432x288 with 1 Axes>"
      ]
     },
     "metadata": {
      "needs_background": "light"
     },
     "output_type": "display_data"
    },
    {
     "data": {
      "text/plain": [
       "<Figure size 432x288 with 0 Axes>"
      ]
     },
     "metadata": {},
     "output_type": "display_data"
    },
    {
     "data": {
      "image/png": "[encoded data removed]",
      "text/plain": [
       "<Figure size 432x288 with 1 Axes>"
      ]
     },
     "metadata": {
      "needs_background": "light"
     },
     "output_type": "display_data"
    },
    {
     "data": {
      "text/plain": [
       "<Figure size 432x288 with 0 Axes>"
      ]
     },
     "metadata": {},
     "output_type": "display_data"
    },
    {
     "data": {
      "image/png": "[encoded data removed]",
      "text/plain": [
       "<Figure size 432x288 with 1 Axes>"
      ]
     },
     "metadata": {
      "needs_background": "light"
     },
     "output_type": "display_data"
    },
    {
     "data": {
      "text/plain": [
       "<Figure size 432x288 with 0 Axes>"
      ]
     },
     "metadata": {},
     "output_type": "display_data"
    },
    {
     "data": {
      "image/png": "[encoded data removed]",
      "text/plain": [
       "<Figure size 432x288 with 1 Axes>"
      ]
     },
     "metadata": {
      "needs_background": "light"
     },
     "output_type": "display_data"
    },
    {
     "data": {
      "text/plain": [
       "<Figure size 432x288 with 0 Axes>"
      ]
     },
     "metadata": {},
     "output_type": "display_data"
    },
    {
     "data": {
      "image/png": "[encoded data removed]",
      "text/plain": [
       "<Figure size 432x288 with 1 Axes>"
      ]
     },
     "metadata": {
      "needs_background": "light"
     },
     "output_type": "display_data"
    },
    {
     "data": {
      "text/plain": [
       "<Figure size 432x288 with 0 Axes>"
      ]
     },
     "metadata": {},
     "output_type": "display_data"
    },
    {
     "data": {
      "image/png": "[encoded data removed]",
      "text/plain": [
       "<Figure size 432x288 with 1 Axes>"
      ]
     },
     "metadata": {
      "needs_background": "light"
     },
     "output_type": "display_data"
    },
    {
     "data": {
      "text/plain": [
       "<Figure size 432x288 with 0 Axes>"
      ]
     },
     "metadata": {},
     "output_type": "display_data"
    },
    {
     "data": {
      "image/png": "[encoded data removed]",
      "text/plain": [
       "<Figure size 432x288 with 1 Axes>"
      ]
     },
     "metadata": {
      "needs_background": "light"
     },
     "output_type": "display_data"
    },
    {
     "data": {
      "text/plain": [
       "<Figure size 432x288 with 0 Axes>"
      ]
     },
     "metadata": {},
     "output_type": "display_data"
    },
    {
     "data": {
      "image/png": "[encoded data removed]",
      "text/plain": [
       "<Figure size 432x288 with 1 Axes>"
      ]
     },
     "metadata": {
      "needs_background": "light"
     },
     "output_type": "display_data"
    },
    {
     "data": {
      "text/plain": [
       "<Figure size 432x288 with 0 Axes>"
      ]
     },
     "metadata": {},
     "output_type": "display_data"
    },
    {
     "data": {
      "image/png": "[encoded data removed]",
      "text/plain": [
       "<Figure size 432x288 with 1 Axes>"
      ]
     },
     "metadata": {
      "needs_background": "light"
     },
     "output_type": "display_data"
    },
    {
     "data": {
      "text/plain": [
       "<Figure size 432x288 with 0 Axes>"
      ]
     },
     "metadata": {},
     "output_type": "display_data"
    },
    {
     "data": {
      "image/png": "[encoded data removed]",
      "text/plain": [
       "<Figure size 432x288 with 1 Axes>"
      ]
     },
     "metadata": {
      "needs_background": "light"
     },
     "output_type": "display_data"
    },
    {
     "data": {
      "text/plain": [
       "<Figure size 432x288 with 0 Axes>"
      ]
     },
     "metadata": {},
     "output_type": "display_data"
    },
    {
     "data": {
      "image/png": "[encoded data removed]",
      "text/plain": [
       "<Figure size 432x288 with 1 Axes>"
      ]
     },
     "metadata": {
      "needs_background": "light"
     },
     "output_type": "display_data"
    },
    {
     "data": {
      "text/plain": [
       "<Figure size 432x288 with 0 Axes>"
      ]
     },
     "metadata": {},
     "output_type": "display_data"
    },
    {
     "data": {
      "image/png": "[encoded data removed]",
      "text/plain": [
       "<Figure size 432x288 with 1 Axes>"
      ]
     },
     "metadata": {
      "needs_background": "light"
     },
     "output_type": "display_data"
    },
    {
     "data": {
      "text/plain": [
       "<Figure size 432x288 with 0 Axes>"
      ]
     },
     "metadata": {},
     "output_type": "display_data"
    },
    {
     "data": {
      "image/png": "[encoded data removed]",
      "text/plain": [
       "<Figure size 432x288 with 1 Axes>"
      ]
     },
     "metadata": {
      "needs_background": "light"
     },
     "output_type": "display_data"
    },
    {
     "data": {
      "text/plain": [
       "<Figure size 432x288 with 0 Axes>"
      ]
     },
     "metadata": {},
     "output_type": "display_data"
    },
    {
     "data": {
      "image/png": "[encoded data removed]",
      "text/plain": [
       "<Figure size 432x288 with 1 Axes>"
      ]
     },
     "metadata": {
      "needs_background": "light"
     },
     "output_type": "display_data"
    },
    {
     "data": {
      "text/plain": [
       "<Figure size 432x288 with 0 Axes>"
      ]
     },
     "metadata": {},
     "output_type": "display_data"
    },
    {
     "data": {
      "text/plain": [
       "<Figure size 432x288 with 0 Axes>"
      ]
     },
     "metadata": {},
     "output_type": "display_data"
    }
   ],
   "source": [
    "import matplotlib.pyplot as plt\n",
    "from IPython.display import display\n",
    "\n",
    "for genre in genres:\n",
    "\n",
    "    # Plot the sizes as a bar plot\n",
    "    plt.bar(genres, stats[genre])\n",
    "\n",
    "    #plt.legend(genres, bbox_to_anchor=(1.05, 1), loc='upper left', borderaxespad=0.)\n",
    "    plt.legend([genre])\n",
    "\n",
    "    plt.xticks(rotation=90)\n",
    "    plt.show()\n",
    "    display(plt.gcf())\n",
    "    plt.clf()\n"
   ]
  },
  {
   "cell_type": "markdown",
   "metadata": {},
   "source": [
    "Key take aways:\n",
    "- Alternative and Children's Music has almost full overlap\n",
    "- Hip Hop and Rap has almost full overlap\n",
    "- Indie, Rock, Pop and R&B are often combined with a broad range of other genres"
   ]
  },
  {
   "cell_type": "code",
   "execution_count": 192,
   "metadata": {},
   "outputs": [],
   "source": [
    "one_gen_artists = df_uniques.artist_name.unique()\n",
    "one_gen_tracks = df_uniques.track_name.unique()"
   ]
  },
  {
   "cell_type": "code",
   "execution_count": 195,
   "metadata": {},
   "outputs": [
    {
     "data": {
      "text/html": [
       "<div>\n",
       "<style scoped>\n",
       "    .dataframe tbody tr th:only-of-type {\n",
       "        vertical-align: middle;\n",
       "    }\n",
       "\n",
       "    .dataframe tbody tr th {\n",
       "        vertical-align: top;\n",
       "    }\n",
       "\n",
       "    .dataframe thead th {\n",
       "        text-align: right;\n",
       "    }\n",
       "</style>\n",
       "<table border=\"1\" class=\"dataframe\">\n",
       "  <thead>\n",
       "    <tr style=\"text-align: right;\">\n",
       "      <th></th>\n",
       "      <th>genre</th>\n",
       "      <th>artist_name</th>\n",
       "      <th>track_name</th>\n",
       "      <th>track_id</th>\n",
       "      <th>acousticness</th>\n",
       "      <th>danceability</th>\n",
       "      <th>duration_ms</th>\n",
       "      <th>energy</th>\n",
       "      <th>instrumentalness</th>\n",
       "      <th>key</th>\n",
       "      <th>liveness</th>\n",
       "      <th>loudness</th>\n",
       "      <th>mode</th>\n",
       "      <th>speechiness</th>\n",
       "      <th>tempo</th>\n",
       "      <th>time_signature</th>\n",
       "      <th>valence</th>\n",
       "    </tr>\n",
       "  </thead>\n",
       "  <tbody>\n",
       "    <tr>\n",
       "      <th>136</th>\n",
       "      <td>R&amp;B</td>\n",
       "      <td>Rihanna</td>\n",
       "      <td>Desperado</td>\n",
       "      <td>6KFaHC9G178beAp7P0Vi5S</td>\n",
       "      <td>0.3230</td>\n",
       "      <td>0.685</td>\n",
       "      <td>186467</td>\n",
       "      <td>0.610</td>\n",
       "      <td>0.000000</td>\n",
       "      <td>0.083333</td>\n",
       "      <td>0.1020</td>\n",
       "      <td>-5.221</td>\n",
       "      <td>0.0</td>\n",
       "      <td>0.0439</td>\n",
       "      <td>94.384</td>\n",
       "      <td>0.2</td>\n",
       "      <td>0.323</td>\n",
       "    </tr>\n",
       "    <tr>\n",
       "      <th>140</th>\n",
       "      <td>R&amp;B</td>\n",
       "      <td>ELHAE</td>\n",
       "      <td>Needs</td>\n",
       "      <td>7KdRu0h7PQ0Ecfa37rUBzW</td>\n",
       "      <td>0.6610</td>\n",
       "      <td>0.510</td>\n",
       "      <td>205640</td>\n",
       "      <td>0.331</td>\n",
       "      <td>0.000000</td>\n",
       "      <td>0.250000</td>\n",
       "      <td>0.1230</td>\n",
       "      <td>-13.073</td>\n",
       "      <td>0.0</td>\n",
       "      <td>0.0895</td>\n",
       "      <td>124.657</td>\n",
       "      <td>0.0</td>\n",
       "      <td>0.225</td>\n",
       "    </tr>\n",
       "    <tr>\n",
       "      <th>145</th>\n",
       "      <td>R&amp;B</td>\n",
       "      <td>Mariah Carey</td>\n",
       "      <td>Hero</td>\n",
       "      <td>4FCb4CUbFCMNRkI6lYc1zI</td>\n",
       "      <td>0.7350</td>\n",
       "      <td>0.501</td>\n",
       "      <td>257733</td>\n",
       "      <td>0.378</td>\n",
       "      <td>0.000000</td>\n",
       "      <td>0.333333</td>\n",
       "      <td>0.1190</td>\n",
       "      <td>-9.370</td>\n",
       "      <td>0.5</td>\n",
       "      <td>0.0290</td>\n",
       "      <td>119.987</td>\n",
       "      <td>0.0</td>\n",
       "      <td>0.178</td>\n",
       "    </tr>\n",
       "    <tr>\n",
       "      <th>149</th>\n",
       "      <td>R&amp;B</td>\n",
       "      <td>Big Sean</td>\n",
       "      <td>I Know</td>\n",
       "      <td>6rje9f1wRFJDO2iTORw0lH</td>\n",
       "      <td>0.2880</td>\n",
       "      <td>0.741</td>\n",
       "      <td>319973</td>\n",
       "      <td>0.345</td>\n",
       "      <td>0.000000</td>\n",
       "      <td>0.666667</td>\n",
       "      <td>0.1170</td>\n",
       "      <td>-11.310</td>\n",
       "      <td>0.5</td>\n",
       "      <td>0.0754</td>\n",
       "      <td>120.015</td>\n",
       "      <td>0.0</td>\n",
       "      <td>0.277</td>\n",
       "    </tr>\n",
       "    <tr>\n",
       "      <th>157</th>\n",
       "      <td>R&amp;B</td>\n",
       "      <td>Tove Lo</td>\n",
       "      <td>Habits (Stay High)</td>\n",
       "      <td>14OxJlLdcHNpgsm4DRwDOB</td>\n",
       "      <td>0.0703</td>\n",
       "      <td>0.733</td>\n",
       "      <td>209160</td>\n",
       "      <td>0.650</td>\n",
       "      <td>0.000066</td>\n",
       "      <td>0.166667</td>\n",
       "      <td>0.0829</td>\n",
       "      <td>-3.539</td>\n",
       "      <td>0.5</td>\n",
       "      <td>0.0315</td>\n",
       "      <td>110.003</td>\n",
       "      <td>0.0</td>\n",
       "      <td>0.348</td>\n",
       "    </tr>\n",
       "    <tr>\n",
       "      <th>...</th>\n",
       "      <td>...</td>\n",
       "      <td>...</td>\n",
       "      <td>...</td>\n",
       "      <td>...</td>\n",
       "      <td>...</td>\n",
       "      <td>...</td>\n",
       "      <td>...</td>\n",
       "      <td>...</td>\n",
       "      <td>...</td>\n",
       "      <td>...</td>\n",
       "      <td>...</td>\n",
       "      <td>...</td>\n",
       "      <td>...</td>\n",
       "      <td>...</td>\n",
       "      <td>...</td>\n",
       "      <td>...</td>\n",
       "      <td>...</td>\n",
       "    </tr>\n",
       "    <tr>\n",
       "      <th>232714</th>\n",
       "      <td>Soul</td>\n",
       "      <td>H-Town</td>\n",
       "      <td>They Like It Slow</td>\n",
       "      <td>2XoAEpBuM4AtQIQYUEowRy</td>\n",
       "      <td>0.1130</td>\n",
       "      <td>0.611</td>\n",
       "      <td>279510</td>\n",
       "      <td>0.493</td>\n",
       "      <td>0.000000</td>\n",
       "      <td>0.666667</td>\n",
       "      <td>0.1050</td>\n",
       "      <td>-9.297</td>\n",
       "      <td>0.5</td>\n",
       "      <td>0.0354</td>\n",
       "      <td>115.920</td>\n",
       "      <td>0.0</td>\n",
       "      <td>0.443</td>\n",
       "    </tr>\n",
       "    <tr>\n",
       "      <th>232716</th>\n",
       "      <td>Soul</td>\n",
       "      <td>John Legend</td>\n",
       "      <td>Quickly (feat. Brandy)</td>\n",
       "      <td>1U0OMWvR89Cm20vCNar50f</td>\n",
       "      <td>0.2310</td>\n",
       "      <td>0.736</td>\n",
       "      <td>222667</td>\n",
       "      <td>0.701</td>\n",
       "      <td>0.000000</td>\n",
       "      <td>0.583333</td>\n",
       "      <td>0.2030</td>\n",
       "      <td>-4.345</td>\n",
       "      <td>0.0</td>\n",
       "      <td>0.1000</td>\n",
       "      <td>99.991</td>\n",
       "      <td>0.0</td>\n",
       "      <td>0.770</td>\n",
       "    </tr>\n",
       "    <tr>\n",
       "      <th>232717</th>\n",
       "      <td>Soul</td>\n",
       "      <td>Belly</td>\n",
       "      <td>P.O.P.</td>\n",
       "      <td>2gGqKJWfWbToha2YmDxnnj</td>\n",
       "      <td>0.1040</td>\n",
       "      <td>0.802</td>\n",
       "      <td>201173</td>\n",
       "      <td>0.516</td>\n",
       "      <td>0.000485</td>\n",
       "      <td>0.000000</td>\n",
       "      <td>0.1050</td>\n",
       "      <td>-9.014</td>\n",
       "      <td>0.5</td>\n",
       "      <td>0.2130</td>\n",
       "      <td>175.666</td>\n",
       "      <td>0.0</td>\n",
       "      <td>0.482</td>\n",
       "    </tr>\n",
       "    <tr>\n",
       "      <th>232721</th>\n",
       "      <td>Soul</td>\n",
       "      <td>Jr Thomas &amp; The Volcanos</td>\n",
       "      <td>Burning Fire</td>\n",
       "      <td>1qWZdkBl4UVPj9lK6HuuFM</td>\n",
       "      <td>0.0329</td>\n",
       "      <td>0.785</td>\n",
       "      <td>282447</td>\n",
       "      <td>0.683</td>\n",
       "      <td>0.000880</td>\n",
       "      <td>0.333333</td>\n",
       "      <td>0.2370</td>\n",
       "      <td>-6.944</td>\n",
       "      <td>0.0</td>\n",
       "      <td>0.0337</td>\n",
       "      <td>113.830</td>\n",
       "      <td>0.0</td>\n",
       "      <td>0.969</td>\n",
       "    </tr>\n",
       "    <tr>\n",
       "      <th>232724</th>\n",
       "      <td>Soul</td>\n",
       "      <td>Mint Condition</td>\n",
       "      <td>You Don't Have To Hurt No More</td>\n",
       "      <td>34XO9RwPMKjbvRry54QzWn</td>\n",
       "      <td>0.0973</td>\n",
       "      <td>0.758</td>\n",
       "      <td>323027</td>\n",
       "      <td>0.470</td>\n",
       "      <td>0.000049</td>\n",
       "      <td>0.500000</td>\n",
       "      <td>0.0836</td>\n",
       "      <td>-6.708</td>\n",
       "      <td>0.0</td>\n",
       "      <td>0.0287</td>\n",
       "      <td>113.897</td>\n",
       "      <td>0.0</td>\n",
       "      <td>0.479</td>\n",
       "    </tr>\n",
       "  </tbody>\n",
       "</table>\n",
       "<p>141986 rows × 17 columns</p>\n",
       "</div>"
      ],
      "text/plain": [
       "       genre               artist_name                      track_name  \\\n",
       "136      R&B                   Rihanna                       Desperado   \n",
       "140      R&B                     ELHAE                           Needs   \n",
       "145      R&B              Mariah Carey                            Hero   \n",
       "149      R&B                  Big Sean                          I Know   \n",
       "157      R&B                   Tove Lo              Habits (Stay High)   \n",
       "...      ...                       ...                             ...   \n",
       "232714  Soul                    H-Town               They Like It Slow   \n",
       "232716  Soul               John Legend          Quickly (feat. Brandy)   \n",
       "232717  Soul                     Belly                          P.O.P.   \n",
       "232721  Soul  Jr Thomas & The Volcanos                    Burning Fire   \n",
       "232724  Soul            Mint Condition  You Don't Have To Hurt No More   \n",
       "\n",
       "                      track_id  acousticness  danceability  duration_ms  \\\n",
       "136     6KFaHC9G178beAp7P0Vi5S        0.3230         0.685       186467   \n",
       "140     7KdRu0h7PQ0Ecfa37rUBzW        0.6610         0.510       205640   \n",
       "145     4FCb4CUbFCMNRkI6lYc1zI        0.7350         0.501       257733   \n",
       "149     6rje9f1wRFJDO2iTORw0lH        0.2880         0.741       319973   \n",
       "157     14OxJlLdcHNpgsm4DRwDOB        0.0703         0.733       209160   \n",
       "...                        ...           ...           ...          ...   \n",
       "232714  2XoAEpBuM4AtQIQYUEowRy        0.1130         0.611       279510   \n",
       "232716  1U0OMWvR89Cm20vCNar50f        0.2310         0.736       222667   \n",
       "232717  2gGqKJWfWbToha2YmDxnnj        0.1040         0.802       201173   \n",
       "232721  1qWZdkBl4UVPj9lK6HuuFM        0.0329         0.785       282447   \n",
       "232724  34XO9RwPMKjbvRry54QzWn        0.0973         0.758       323027   \n",
       "\n",
       "        energy  instrumentalness       key  liveness  loudness  mode  \\\n",
       "136      0.610          0.000000  0.083333    0.1020    -5.221   0.0   \n",
       "140      0.331          0.000000  0.250000    0.1230   -13.073   0.0   \n",
       "145      0.378          0.000000  0.333333    0.1190    -9.370   0.5   \n",
       "149      0.345          0.000000  0.666667    0.1170   -11.310   0.5   \n",
       "157      0.650          0.000066  0.166667    0.0829    -3.539   0.5   \n",
       "...        ...               ...       ...       ...       ...   ...   \n",
       "232714   0.493          0.000000  0.666667    0.1050    -9.297   0.5   \n",
       "232716   0.701          0.000000  0.583333    0.2030    -4.345   0.0   \n",
       "232717   0.516          0.000485  0.000000    0.1050    -9.014   0.5   \n",
       "232721   0.683          0.000880  0.333333    0.2370    -6.944   0.0   \n",
       "232724   0.470          0.000049  0.500000    0.0836    -6.708   0.0   \n",
       "\n",
       "        speechiness    tempo  time_signature  valence  \n",
       "136          0.0439   94.384             0.2    0.323  \n",
       "140          0.0895  124.657             0.0    0.225  \n",
       "145          0.0290  119.987             0.0    0.178  \n",
       "149          0.0754  120.015             0.0    0.277  \n",
       "157          0.0315  110.003             0.0    0.348  \n",
       "...             ...      ...             ...      ...  \n",
       "232714       0.0354  115.920             0.0    0.443  \n",
       "232716       0.1000   99.991             0.0    0.770  \n",
       "232717       0.2130  175.666             0.0    0.482  \n",
       "232721       0.0337  113.830             0.0    0.969  \n",
       "232724       0.0287  113.897             0.0    0.479  \n",
       "\n",
       "[141986 rows x 17 columns]"
      ]
     },
     "execution_count": 195,
     "metadata": {},
     "output_type": "execute_result"
    }
   ],
   "source": [
    "unique_songs_df = df_renewed.loc[(df_renewed.artist_name.isin(one_gen_artists)) & (df_renewed.track_name.isin(one_gen_tracks))] #realised this logic is flawed... I start a new notebook and start with the song lyrics I have\n",
    "unique_songs_df"
   ]
  },
  {
   "cell_type": "code",
   "execution_count": 196,
   "metadata": {},
   "outputs": [
    {
     "data": {
      "text/plain": [
       "Comedy              9673\n",
       "Anime               8782\n",
       "Reggaeton           8611\n",
       "Classical           8506\n",
       "Electronic          8427\n",
       "Ska                 8200\n",
       "World               8171\n",
       "Reggae              7940\n",
       "Opera               7918\n",
       "Jazz                7701\n",
       "Blues               7616\n",
       "Country             6977\n",
       "Soul                5735\n",
       "Folk                5520\n",
       "Dance               4402\n",
       "R&B                 4393\n",
       "Indie               3891\n",
       "Rock                3724\n",
       "Alternative         3650\n",
       "Pop                 3458\n",
       "Hip-Hop             3316\n",
       "Children’s Music    2704\n",
       "Rap                 2671\n",
       "Name: genre, dtype: int64"
      ]
     },
     "execution_count": 196,
     "metadata": {},
     "output_type": "execute_result"
    }
   ],
   "source": [
    "unique_songs_df.genre.value_counts()"
   ]
  },
  {
   "cell_type": "markdown",
   "metadata": {},
   "source": [
    "Analyzing the result above we can see that comedy, anime, that we wanted to remove can we remove safely. Also removing Classical does not have too much effect . (As we wanted since it is mostly likely instrumental). We see that some of the broader genres have much less unique labels. But after looking at the charts of the overlaps I will make the following changes. Delete Children's Music and Rap since they are broader than their counterparts. And delete Indie, Rock, Pop since they are the broadest umberella classes."
   ]
  },
  {
   "cell_type": "markdown",
   "metadata": {},
   "source": [
    "Realised that some of my logic for finding unique values is flawed. I also realised that a lot of the song texts are not in this dataset so I will start a new notebook from scratch but I will take with me some of the understanding and findings of this dataset."
   ]
  }
 ],
 "metadata": {
  "interpreter": {
   "hash": "b2576a6d18678760ed6536f546e22b496d0bed3c16ff3f1d390fa8bfc056e9f3"
  },
  "kernelspec": {
   "display_name": "Python 3.8.8 ('base')",
   "language": "python",
   "name": "python3"
  },
  "language_info": {
   "codemirror_mode": {
    "name": "ipython",
    "version": 3
   },
   "file_extension": ".py",
   "mimetype": "text/x-python",
   "name": "python",
   "nbconvert_exporter": "python",
   "pygments_lexer": "ipython3",
   "version": "3.8.8"
  },
  "orig_nbformat": 4
 },
 "nbformat": 4,
 "nbformat_minor": 2
}
