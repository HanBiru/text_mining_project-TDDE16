{
 "cells": [
  {
   "cell_type": "markdown",
   "metadata": {},
   "source": [
    "Imports and Loads"
   ]
  },
  {
   "cell_type": "code",
   "execution_count": 89,
   "metadata": {},
   "outputs": [],
   "source": [
    "import pandas as pd\n",
    "import numpy as np\n",
    "import matplotlib.pyplot as plt\n",
    "from IPython.display import display\n",
    "\n",
    "\n",
    "#lyrics datasets\n",
    "artists_data_df = pd.read_csv('DATASETS/artists-data.csv')\n",
    "lyrics_data_df = pd.read_csv('DATASETS/lyrics-data.csv')\n",
    "\n",
    "lyrics_raw_2 = pd.read_csv(\"DATASETS/labeled_lyrics_cleaned.csv\", index_col=[0])\n",
    "\n",
    "\n",
    "#audio features dataset\n",
    "audio_raw = pd.read_csv('DATASETS/SpotifyFeatures.csv')"
   ]
  },
  {
   "cell_type": "markdown",
   "metadata": {},
   "source": [
    "TODO-list:\n",
    "\n",
    "- Create dataframes with Artist+Song columns (S)\n",
    "- Check lyrics of both data sets and find in Spotify features dataset, joint data (S)\n",
    "- Analyze joint data instead (S)\n",
    "- Baseline audio (M)\n",
    "- Baseline text (L)"
   ]
  },
  {
   "cell_type": "markdown",
   "metadata": {},
   "source": [
    "### Data Preparation"
   ]
  },
  {
   "cell_type": "markdown",
   "metadata": {},
   "source": [
    "First we want to check for unique values and joint datapoints between the lyrics datasets and the audio features dataset."
   ]
  },
  {
   "cell_type": "markdown",
   "metadata": {},
   "source": [
    "I went back and implemented some lower casing as well.\n",
    "Since we have multiple datasets with some variations in the casing of all names I lower cased all artist_and_song columns (which increased the matches of datapoints between the datasets)."
   ]
  },
  {
   "cell_type": "code",
   "execution_count": 90,
   "metadata": {},
   "outputs": [
    {
     "data": {
      "text/html": [
       "<div>\n",
       "<style scoped>\n",
       "    .dataframe tbody tr th:only-of-type {\n",
       "        vertical-align: middle;\n",
       "    }\n",
       "\n",
       "    .dataframe tbody tr th {\n",
       "        vertical-align: top;\n",
       "    }\n",
       "\n",
       "    .dataframe thead th {\n",
       "        text-align: right;\n",
       "    }\n",
       "</style>\n",
       "<table border=\"1\" class=\"dataframe\">\n",
       "  <thead>\n",
       "    <tr style=\"text-align: right;\">\n",
       "      <th></th>\n",
       "      <th>genre</th>\n",
       "      <th>artist_name</th>\n",
       "      <th>track_name</th>\n",
       "      <th>track_id</th>\n",
       "      <th>popularity</th>\n",
       "      <th>acousticness</th>\n",
       "      <th>danceability</th>\n",
       "      <th>duration_ms</th>\n",
       "      <th>energy</th>\n",
       "      <th>instrumentalness</th>\n",
       "      <th>key</th>\n",
       "      <th>liveness</th>\n",
       "      <th>loudness</th>\n",
       "      <th>mode</th>\n",
       "      <th>speechiness</th>\n",
       "      <th>tempo</th>\n",
       "      <th>time_signature</th>\n",
       "      <th>valence</th>\n",
       "      <th>artist_and_song</th>\n",
       "    </tr>\n",
       "  </thead>\n",
       "  <tbody>\n",
       "    <tr>\n",
       "      <th>0</th>\n",
       "      <td>Movie</td>\n",
       "      <td>Henri Salvador</td>\n",
       "      <td>C'est beau de faire un Show</td>\n",
       "      <td>0BRjO6ga9RKCKjfDqeFgWV</td>\n",
       "      <td>0</td>\n",
       "      <td>0.611</td>\n",
       "      <td>0.389</td>\n",
       "      <td>99373</td>\n",
       "      <td>0.910</td>\n",
       "      <td>0.000</td>\n",
       "      <td>C#</td>\n",
       "      <td>0.3460</td>\n",
       "      <td>-1.828</td>\n",
       "      <td>Major</td>\n",
       "      <td>0.0525</td>\n",
       "      <td>166.969</td>\n",
       "      <td>4/4</td>\n",
       "      <td>0.814</td>\n",
       "      <td>henri salvador /// c'est beau de faire un show</td>\n",
       "    </tr>\n",
       "    <tr>\n",
       "      <th>1</th>\n",
       "      <td>Movie</td>\n",
       "      <td>Martin &amp; les fées</td>\n",
       "      <td>Perdu d'avance (par Gad Elmaleh)</td>\n",
       "      <td>0BjC1NfoEOOusryehmNudP</td>\n",
       "      <td>1</td>\n",
       "      <td>0.246</td>\n",
       "      <td>0.590</td>\n",
       "      <td>137373</td>\n",
       "      <td>0.737</td>\n",
       "      <td>0.000</td>\n",
       "      <td>F#</td>\n",
       "      <td>0.1510</td>\n",
       "      <td>-5.559</td>\n",
       "      <td>Minor</td>\n",
       "      <td>0.0868</td>\n",
       "      <td>174.003</td>\n",
       "      <td>4/4</td>\n",
       "      <td>0.816</td>\n",
       "      <td>martin &amp; les fées /// perdu d'avance (par gad ...</td>\n",
       "    </tr>\n",
       "    <tr>\n",
       "      <th>2</th>\n",
       "      <td>Movie</td>\n",
       "      <td>Joseph Williams</td>\n",
       "      <td>Don't Let Me Be Lonely Tonight</td>\n",
       "      <td>0CoSDzoNIKCRs124s9uTVy</td>\n",
       "      <td>3</td>\n",
       "      <td>0.952</td>\n",
       "      <td>0.663</td>\n",
       "      <td>170267</td>\n",
       "      <td>0.131</td>\n",
       "      <td>0.000</td>\n",
       "      <td>C</td>\n",
       "      <td>0.1030</td>\n",
       "      <td>-13.879</td>\n",
       "      <td>Minor</td>\n",
       "      <td>0.0362</td>\n",
       "      <td>99.488</td>\n",
       "      <td>5/4</td>\n",
       "      <td>0.368</td>\n",
       "      <td>joseph williams /// don't let me be lonely ton...</td>\n",
       "    </tr>\n",
       "    <tr>\n",
       "      <th>3</th>\n",
       "      <td>Movie</td>\n",
       "      <td>Henri Salvador</td>\n",
       "      <td>Dis-moi Monsieur Gordon Cooper</td>\n",
       "      <td>0Gc6TVm52BwZD07Ki6tIvf</td>\n",
       "      <td>0</td>\n",
       "      <td>0.703</td>\n",
       "      <td>0.240</td>\n",
       "      <td>152427</td>\n",
       "      <td>0.326</td>\n",
       "      <td>0.000</td>\n",
       "      <td>C#</td>\n",
       "      <td>0.0985</td>\n",
       "      <td>-12.178</td>\n",
       "      <td>Major</td>\n",
       "      <td>0.0395</td>\n",
       "      <td>171.758</td>\n",
       "      <td>4/4</td>\n",
       "      <td>0.227</td>\n",
       "      <td>henri salvador /// dis-moi monsieur gordon cooper</td>\n",
       "    </tr>\n",
       "    <tr>\n",
       "      <th>4</th>\n",
       "      <td>Movie</td>\n",
       "      <td>Fabien Nataf</td>\n",
       "      <td>Ouverture</td>\n",
       "      <td>0IuslXpMROHdEPvSl1fTQK</td>\n",
       "      <td>4</td>\n",
       "      <td>0.950</td>\n",
       "      <td>0.331</td>\n",
       "      <td>82625</td>\n",
       "      <td>0.225</td>\n",
       "      <td>0.123</td>\n",
       "      <td>F</td>\n",
       "      <td>0.2020</td>\n",
       "      <td>-21.150</td>\n",
       "      <td>Major</td>\n",
       "      <td>0.0456</td>\n",
       "      <td>140.576</td>\n",
       "      <td>4/4</td>\n",
       "      <td>0.390</td>\n",
       "      <td>fabien nataf /// ouverture</td>\n",
       "    </tr>\n",
       "  </tbody>\n",
       "</table>\n",
       "</div>"
      ],
      "text/plain": [
       "   genre        artist_name                        track_name  \\\n",
       "0  Movie     Henri Salvador       C'est beau de faire un Show   \n",
       "1  Movie  Martin & les fées  Perdu d'avance (par Gad Elmaleh)   \n",
       "2  Movie    Joseph Williams    Don't Let Me Be Lonely Tonight   \n",
       "3  Movie     Henri Salvador    Dis-moi Monsieur Gordon Cooper   \n",
       "4  Movie       Fabien Nataf                         Ouverture   \n",
       "\n",
       "                 track_id  popularity  acousticness  danceability  \\\n",
       "0  0BRjO6ga9RKCKjfDqeFgWV           0         0.611         0.389   \n",
       "1  0BjC1NfoEOOusryehmNudP           1         0.246         0.590   \n",
       "2  0CoSDzoNIKCRs124s9uTVy           3         0.952         0.663   \n",
       "3  0Gc6TVm52BwZD07Ki6tIvf           0         0.703         0.240   \n",
       "4  0IuslXpMROHdEPvSl1fTQK           4         0.950         0.331   \n",
       "\n",
       "   duration_ms  energy  instrumentalness key  liveness  loudness   mode  \\\n",
       "0        99373   0.910             0.000  C#    0.3460    -1.828  Major   \n",
       "1       137373   0.737             0.000  F#    0.1510    -5.559  Minor   \n",
       "2       170267   0.131             0.000   C    0.1030   -13.879  Minor   \n",
       "3       152427   0.326             0.000  C#    0.0985   -12.178  Major   \n",
       "4        82625   0.225             0.123   F    0.2020   -21.150  Major   \n",
       "\n",
       "   speechiness    tempo time_signature  valence  \\\n",
       "0       0.0525  166.969            4/4    0.814   \n",
       "1       0.0868  174.003            4/4    0.816   \n",
       "2       0.0362   99.488            5/4    0.368   \n",
       "3       0.0395  171.758            4/4    0.227   \n",
       "4       0.0456  140.576            4/4    0.390   \n",
       "\n",
       "                                     artist_and_song  \n",
       "0     henri salvador /// c'est beau de faire un show  \n",
       "1  martin & les fées /// perdu d'avance (par gad ...  \n",
       "2  joseph williams /// don't let me be lonely ton...  \n",
       "3  henri salvador /// dis-moi monsieur gordon cooper  \n",
       "4                         fabien nataf /// ouverture  "
      ]
     },
     "execution_count": 90,
     "metadata": {},
     "output_type": "execute_result"
    }
   ],
   "source": [
    "audio_raw['artist_and_song'] = audio_raw.artist_name + ' /// ' + audio_raw.track_name\n",
    "audio_raw['artist_and_song'] = audio_raw.artist_and_song.str.lower()\n",
    "audio_raw.head()"
   ]
  },
  {
   "cell_type": "code",
   "execution_count": 91,
   "metadata": {},
   "outputs": [
    {
     "data": {
      "text/html": [
       "<div>\n",
       "<style scoped>\n",
       "    .dataframe tbody tr th:only-of-type {\n",
       "        vertical-align: middle;\n",
       "    }\n",
       "\n",
       "    .dataframe tbody tr th {\n",
       "        vertical-align: top;\n",
       "    }\n",
       "\n",
       "    .dataframe thead th {\n",
       "        text-align: right;\n",
       "    }\n",
       "</style>\n",
       "<table border=\"1\" class=\"dataframe\">\n",
       "  <thead>\n",
       "    <tr style=\"text-align: right;\">\n",
       "      <th></th>\n",
       "      <th>ALink</th>\n",
       "      <th>SName</th>\n",
       "      <th>SLink</th>\n",
       "      <th>Lyric</th>\n",
       "      <th>language</th>\n",
       "    </tr>\n",
       "  </thead>\n",
       "  <tbody>\n",
       "    <tr>\n",
       "      <th>0</th>\n",
       "      <td>/ivete-sangalo/</td>\n",
       "      <td>Arerê</td>\n",
       "      <td>/ivete-sangalo/arere.html</td>\n",
       "      <td>Tudo o que eu quero nessa vida,\\nToda vida, é\\...</td>\n",
       "      <td>pt</td>\n",
       "    </tr>\n",
       "    <tr>\n",
       "      <th>1</th>\n",
       "      <td>/ivete-sangalo/</td>\n",
       "      <td>Se Eu Não Te Amasse Tanto Assim</td>\n",
       "      <td>/ivete-sangalo/se-eu-nao-te-amasse-tanto-assim...</td>\n",
       "      <td>Meu coração\\nSem direção\\nVoando só por voar\\n...</td>\n",
       "      <td>pt</td>\n",
       "    </tr>\n",
       "    <tr>\n",
       "      <th>2</th>\n",
       "      <td>/ivete-sangalo/</td>\n",
       "      <td>Céu da Boca</td>\n",
       "      <td>/ivete-sangalo/chupa-toda.html</td>\n",
       "      <td>É de babaixá!\\nÉ de balacubaca!\\nÉ de babaixá!...</td>\n",
       "      <td>pt</td>\n",
       "    </tr>\n",
       "    <tr>\n",
       "      <th>3</th>\n",
       "      <td>/ivete-sangalo/</td>\n",
       "      <td>Quando A Chuva Passar</td>\n",
       "      <td>/ivete-sangalo/quando-a-chuva-passar.html</td>\n",
       "      <td>Quando a chuva passar\\n\\nPra quê falar\\nSe voc...</td>\n",
       "      <td>pt</td>\n",
       "    </tr>\n",
       "    <tr>\n",
       "      <th>4</th>\n",
       "      <td>/ivete-sangalo/</td>\n",
       "      <td>Sorte Grande</td>\n",
       "      <td>/ivete-sangalo/sorte-grande.html</td>\n",
       "      <td>A minha sorte grande foi você cair do céu\\nMin...</td>\n",
       "      <td>pt</td>\n",
       "    </tr>\n",
       "  </tbody>\n",
       "</table>\n",
       "</div>"
      ],
      "text/plain": [
       "             ALink                            SName  \\\n",
       "0  /ivete-sangalo/                            Arerê   \n",
       "1  /ivete-sangalo/  Se Eu Não Te Amasse Tanto Assim   \n",
       "2  /ivete-sangalo/                      Céu da Boca   \n",
       "3  /ivete-sangalo/            Quando A Chuva Passar   \n",
       "4  /ivete-sangalo/                     Sorte Grande   \n",
       "\n",
       "                                               SLink  \\\n",
       "0                          /ivete-sangalo/arere.html   \n",
       "1  /ivete-sangalo/se-eu-nao-te-amasse-tanto-assim...   \n",
       "2                     /ivete-sangalo/chupa-toda.html   \n",
       "3          /ivete-sangalo/quando-a-chuva-passar.html   \n",
       "4                   /ivete-sangalo/sorte-grande.html   \n",
       "\n",
       "                                               Lyric language  \n",
       "0  Tudo o que eu quero nessa vida,\\nToda vida, é\\...       pt  \n",
       "1  Meu coração\\nSem direção\\nVoando só por voar\\n...       pt  \n",
       "2  É de babaixá!\\nÉ de balacubaca!\\nÉ de babaixá!...       pt  \n",
       "3  Quando a chuva passar\\n\\nPra quê falar\\nSe voc...       pt  \n",
       "4  A minha sorte grande foi você cair do céu\\nMin...       pt  "
      ]
     },
     "execution_count": 91,
     "metadata": {},
     "output_type": "execute_result"
    }
   ],
   "source": [
    "lyrics_data_df.head()"
   ]
  },
  {
   "cell_type": "code",
   "execution_count": 92,
   "metadata": {},
   "outputs": [
    {
     "data": {
      "text/html": [
       "<div>\n",
       "<style scoped>\n",
       "    .dataframe tbody tr th:only-of-type {\n",
       "        vertical-align: middle;\n",
       "    }\n",
       "\n",
       "    .dataframe tbody tr th {\n",
       "        vertical-align: top;\n",
       "    }\n",
       "\n",
       "    .dataframe thead th {\n",
       "        text-align: right;\n",
       "    }\n",
       "</style>\n",
       "<table border=\"1\" class=\"dataframe\">\n",
       "  <thead>\n",
       "    <tr style=\"text-align: right;\">\n",
       "      <th></th>\n",
       "      <th>Artist</th>\n",
       "      <th>Genres</th>\n",
       "      <th>Songs</th>\n",
       "      <th>Popularity</th>\n",
       "      <th>Link</th>\n",
       "    </tr>\n",
       "  </thead>\n",
       "  <tbody>\n",
       "    <tr>\n",
       "      <th>0</th>\n",
       "      <td>Ivete Sangalo</td>\n",
       "      <td>Pop; Axé; Romântico</td>\n",
       "      <td>313.0</td>\n",
       "      <td>4.4</td>\n",
       "      <td>/ivete-sangalo/</td>\n",
       "    </tr>\n",
       "    <tr>\n",
       "      <th>1</th>\n",
       "      <td>Chiclete com Banana</td>\n",
       "      <td>Axé</td>\n",
       "      <td>268.0</td>\n",
       "      <td>3.8</td>\n",
       "      <td>/chiclete-com-banana/</td>\n",
       "    </tr>\n",
       "    <tr>\n",
       "      <th>2</th>\n",
       "      <td>Banda Eva</td>\n",
       "      <td>Axé; Romântico; Reggae</td>\n",
       "      <td>215.0</td>\n",
       "      <td>2.3</td>\n",
       "      <td>/banda-eva/</td>\n",
       "    </tr>\n",
       "    <tr>\n",
       "      <th>3</th>\n",
       "      <td>É O Tchan</td>\n",
       "      <td>Axé</td>\n",
       "      <td>129.0</td>\n",
       "      <td>1.6</td>\n",
       "      <td>/e-o-tchan/</td>\n",
       "    </tr>\n",
       "    <tr>\n",
       "      <th>4</th>\n",
       "      <td>Claudia Leitte</td>\n",
       "      <td>Pop; Axé; Romântico</td>\n",
       "      <td>167.0</td>\n",
       "      <td>1.5</td>\n",
       "      <td>/claudia-leitte/</td>\n",
       "    </tr>\n",
       "  </tbody>\n",
       "</table>\n",
       "</div>"
      ],
      "text/plain": [
       "                Artist                  Genres  Songs  Popularity  \\\n",
       "0        Ivete Sangalo     Pop; Axé; Romântico  313.0         4.4   \n",
       "1  Chiclete com Banana                     Axé  268.0         3.8   \n",
       "2            Banda Eva  Axé; Romântico; Reggae  215.0         2.3   \n",
       "3            É O Tchan                     Axé  129.0         1.6   \n",
       "4       Claudia Leitte     Pop; Axé; Romântico  167.0         1.5   \n",
       "\n",
       "                    Link  \n",
       "0        /ivete-sangalo/  \n",
       "1  /chiclete-com-banana/  \n",
       "2            /banda-eva/  \n",
       "3            /e-o-tchan/  \n",
       "4       /claudia-leitte/  "
      ]
     },
     "execution_count": 92,
     "metadata": {},
     "output_type": "execute_result"
    }
   ],
   "source": [
    "artists_data_df.head()"
   ]
  },
  {
   "cell_type": "code",
   "execution_count": 93,
   "metadata": {},
   "outputs": [
    {
     "name": "stdout",
     "output_type": "stream",
     "text": [
      "['Ivete Sangalo' 'Chiclete com Banana' 'Banda Eva'] ['/ivete-sangalo/' '/chiclete-com-banana/' '/banda-eva/']\n"
     ]
    }
   ],
   "source": [
    "A = artists_data_df.Artist.unique()\n",
    "B = artists_data_df.Link.unique()\n",
    "\n",
    "print(A[:3],B[:3])\n",
    "\n",
    "mapping = dict(zip(B, A))"
   ]
  },
  {
   "cell_type": "code",
   "execution_count": 94,
   "metadata": {},
   "outputs": [
    {
     "data": {
      "text/html": [
       "<div>\n",
       "<style scoped>\n",
       "    .dataframe tbody tr th:only-of-type {\n",
       "        vertical-align: middle;\n",
       "    }\n",
       "\n",
       "    .dataframe tbody tr th {\n",
       "        vertical-align: top;\n",
       "    }\n",
       "\n",
       "    .dataframe thead th {\n",
       "        text-align: right;\n",
       "    }\n",
       "</style>\n",
       "<table border=\"1\" class=\"dataframe\">\n",
       "  <thead>\n",
       "    <tr style=\"text-align: right;\">\n",
       "      <th></th>\n",
       "      <th>ALink</th>\n",
       "      <th>SName</th>\n",
       "      <th>SLink</th>\n",
       "      <th>Lyric</th>\n",
       "      <th>language</th>\n",
       "    </tr>\n",
       "  </thead>\n",
       "  <tbody>\n",
       "    <tr>\n",
       "      <th>0</th>\n",
       "      <td>Ivete Sangalo</td>\n",
       "      <td>Arerê</td>\n",
       "      <td>/ivete-sangalo/arere.html</td>\n",
       "      <td>Tudo o que eu quero nessa vida,\\nToda vida, é\\...</td>\n",
       "      <td>pt</td>\n",
       "    </tr>\n",
       "    <tr>\n",
       "      <th>1</th>\n",
       "      <td>Ivete Sangalo</td>\n",
       "      <td>Se Eu Não Te Amasse Tanto Assim</td>\n",
       "      <td>/ivete-sangalo/se-eu-nao-te-amasse-tanto-assim...</td>\n",
       "      <td>Meu coração\\nSem direção\\nVoando só por voar\\n...</td>\n",
       "      <td>pt</td>\n",
       "    </tr>\n",
       "    <tr>\n",
       "      <th>2</th>\n",
       "      <td>Ivete Sangalo</td>\n",
       "      <td>Céu da Boca</td>\n",
       "      <td>/ivete-sangalo/chupa-toda.html</td>\n",
       "      <td>É de babaixá!\\nÉ de balacubaca!\\nÉ de babaixá!...</td>\n",
       "      <td>pt</td>\n",
       "    </tr>\n",
       "    <tr>\n",
       "      <th>3</th>\n",
       "      <td>Ivete Sangalo</td>\n",
       "      <td>Quando A Chuva Passar</td>\n",
       "      <td>/ivete-sangalo/quando-a-chuva-passar.html</td>\n",
       "      <td>Quando a chuva passar\\n\\nPra quê falar\\nSe voc...</td>\n",
       "      <td>pt</td>\n",
       "    </tr>\n",
       "    <tr>\n",
       "      <th>4</th>\n",
       "      <td>Ivete Sangalo</td>\n",
       "      <td>Sorte Grande</td>\n",
       "      <td>/ivete-sangalo/sorte-grande.html</td>\n",
       "      <td>A minha sorte grande foi você cair do céu\\nMin...</td>\n",
       "      <td>pt</td>\n",
       "    </tr>\n",
       "  </tbody>\n",
       "</table>\n",
       "</div>"
      ],
      "text/plain": [
       "           ALink                            SName  \\\n",
       "0  Ivete Sangalo                            Arerê   \n",
       "1  Ivete Sangalo  Se Eu Não Te Amasse Tanto Assim   \n",
       "2  Ivete Sangalo                      Céu da Boca   \n",
       "3  Ivete Sangalo            Quando A Chuva Passar   \n",
       "4  Ivete Sangalo                     Sorte Grande   \n",
       "\n",
       "                                               SLink  \\\n",
       "0                          /ivete-sangalo/arere.html   \n",
       "1  /ivete-sangalo/se-eu-nao-te-amasse-tanto-assim...   \n",
       "2                     /ivete-sangalo/chupa-toda.html   \n",
       "3          /ivete-sangalo/quando-a-chuva-passar.html   \n",
       "4                   /ivete-sangalo/sorte-grande.html   \n",
       "\n",
       "                                               Lyric language  \n",
       "0  Tudo o que eu quero nessa vida,\\nToda vida, é\\...       pt  \n",
       "1  Meu coração\\nSem direção\\nVoando só por voar\\n...       pt  \n",
       "2  É de babaixá!\\nÉ de balacubaca!\\nÉ de babaixá!...       pt  \n",
       "3  Quando a chuva passar\\n\\nPra quê falar\\nSe voc...       pt  \n",
       "4  A minha sorte grande foi você cair do céu\\nMin...       pt  "
      ]
     },
     "execution_count": 94,
     "metadata": {},
     "output_type": "execute_result"
    }
   ],
   "source": [
    "lyrics_data_df['ALink'] = lyrics_data_df['ALink'].map(mapping)\n",
    "lyrics_data_df.head()"
   ]
  },
  {
   "cell_type": "code",
   "execution_count": 95,
   "metadata": {},
   "outputs": [
    {
     "data": {
      "text/html": [
       "<div>\n",
       "<style scoped>\n",
       "    .dataframe tbody tr th:only-of-type {\n",
       "        vertical-align: middle;\n",
       "    }\n",
       "\n",
       "    .dataframe tbody tr th {\n",
       "        vertical-align: top;\n",
       "    }\n",
       "\n",
       "    .dataframe thead th {\n",
       "        text-align: right;\n",
       "    }\n",
       "</style>\n",
       "<table border=\"1\" class=\"dataframe\">\n",
       "  <thead>\n",
       "    <tr style=\"text-align: right;\">\n",
       "      <th></th>\n",
       "      <th>ALink</th>\n",
       "      <th>SName</th>\n",
       "      <th>SLink</th>\n",
       "      <th>Lyric</th>\n",
       "      <th>language</th>\n",
       "      <th>artist_and_song</th>\n",
       "    </tr>\n",
       "  </thead>\n",
       "  <tbody>\n",
       "    <tr>\n",
       "      <th>0</th>\n",
       "      <td>Ivete Sangalo</td>\n",
       "      <td>Arerê</td>\n",
       "      <td>/ivete-sangalo/arere.html</td>\n",
       "      <td>Tudo o que eu quero nessa vida,\\nToda vida, é\\...</td>\n",
       "      <td>pt</td>\n",
       "      <td>ivete sangalo /// arerê</td>\n",
       "    </tr>\n",
       "    <tr>\n",
       "      <th>1</th>\n",
       "      <td>Ivete Sangalo</td>\n",
       "      <td>Se Eu Não Te Amasse Tanto Assim</td>\n",
       "      <td>/ivete-sangalo/se-eu-nao-te-amasse-tanto-assim...</td>\n",
       "      <td>Meu coração\\nSem direção\\nVoando só por voar\\n...</td>\n",
       "      <td>pt</td>\n",
       "      <td>ivete sangalo /// se eu não te amasse tanto assim</td>\n",
       "    </tr>\n",
       "    <tr>\n",
       "      <th>2</th>\n",
       "      <td>Ivete Sangalo</td>\n",
       "      <td>Céu da Boca</td>\n",
       "      <td>/ivete-sangalo/chupa-toda.html</td>\n",
       "      <td>É de babaixá!\\nÉ de balacubaca!\\nÉ de babaixá!...</td>\n",
       "      <td>pt</td>\n",
       "      <td>ivete sangalo /// céu da boca</td>\n",
       "    </tr>\n",
       "    <tr>\n",
       "      <th>3</th>\n",
       "      <td>Ivete Sangalo</td>\n",
       "      <td>Quando A Chuva Passar</td>\n",
       "      <td>/ivete-sangalo/quando-a-chuva-passar.html</td>\n",
       "      <td>Quando a chuva passar\\n\\nPra quê falar\\nSe voc...</td>\n",
       "      <td>pt</td>\n",
       "      <td>ivete sangalo /// quando a chuva passar</td>\n",
       "    </tr>\n",
       "    <tr>\n",
       "      <th>4</th>\n",
       "      <td>Ivete Sangalo</td>\n",
       "      <td>Sorte Grande</td>\n",
       "      <td>/ivete-sangalo/sorte-grande.html</td>\n",
       "      <td>A minha sorte grande foi você cair do céu\\nMin...</td>\n",
       "      <td>pt</td>\n",
       "      <td>ivete sangalo /// sorte grande</td>\n",
       "    </tr>\n",
       "  </tbody>\n",
       "</table>\n",
       "</div>"
      ],
      "text/plain": [
       "           ALink                            SName  \\\n",
       "0  Ivete Sangalo                            Arerê   \n",
       "1  Ivete Sangalo  Se Eu Não Te Amasse Tanto Assim   \n",
       "2  Ivete Sangalo                      Céu da Boca   \n",
       "3  Ivete Sangalo            Quando A Chuva Passar   \n",
       "4  Ivete Sangalo                     Sorte Grande   \n",
       "\n",
       "                                               SLink  \\\n",
       "0                          /ivete-sangalo/arere.html   \n",
       "1  /ivete-sangalo/se-eu-nao-te-amasse-tanto-assim...   \n",
       "2                     /ivete-sangalo/chupa-toda.html   \n",
       "3          /ivete-sangalo/quando-a-chuva-passar.html   \n",
       "4                   /ivete-sangalo/sorte-grande.html   \n",
       "\n",
       "                                               Lyric language  \\\n",
       "0  Tudo o que eu quero nessa vida,\\nToda vida, é\\...       pt   \n",
       "1  Meu coração\\nSem direção\\nVoando só por voar\\n...       pt   \n",
       "2  É de babaixá!\\nÉ de balacubaca!\\nÉ de babaixá!...       pt   \n",
       "3  Quando a chuva passar\\n\\nPra quê falar\\nSe voc...       pt   \n",
       "4  A minha sorte grande foi você cair do céu\\nMin...       pt   \n",
       "\n",
       "                                     artist_and_song  \n",
       "0                            ivete sangalo /// arerê  \n",
       "1  ivete sangalo /// se eu não te amasse tanto assim  \n",
       "2                      ivete sangalo /// céu da boca  \n",
       "3            ivete sangalo /// quando a chuva passar  \n",
       "4                     ivete sangalo /// sorte grande  "
      ]
     },
     "execution_count": 95,
     "metadata": {},
     "output_type": "execute_result"
    }
   ],
   "source": [
    "lyrics_data_df['artist_and_song'] = lyrics_data_df.ALink + ' /// ' + lyrics_data_df.SName\n",
    "lyrics_data_df['artist_and_song'] = lyrics_data_df['artist_and_song'].str.lower()\n",
    "lyrics_raw_1 = lyrics_data_df.copy() #change the variable to make it more readable from now on\n",
    "lyrics_raw_1 = lyrics_raw_1.drop_duplicates(subset='artist_and_song', keep='first') #remove duplicates\n",
    "\n",
    "lyrics_raw_1.head()"
   ]
  },
  {
   "cell_type": "code",
   "execution_count": 96,
   "metadata": {},
   "outputs": [],
   "source": [
    "artists_and_songs_1 = lyrics_raw_1.artist_and_song.unique()\n"
   ]
  },
  {
   "cell_type": "code",
   "execution_count": 97,
   "metadata": {},
   "outputs": [
    {
     "data": {
      "text/html": [
       "<div>\n",
       "<style scoped>\n",
       "    .dataframe tbody tr th:only-of-type {\n",
       "        vertical-align: middle;\n",
       "    }\n",
       "\n",
       "    .dataframe tbody tr th {\n",
       "        vertical-align: top;\n",
       "    }\n",
       "\n",
       "    .dataframe thead th {\n",
       "        text-align: right;\n",
       "    }\n",
       "</style>\n",
       "<table border=\"1\" class=\"dataframe\">\n",
       "  <thead>\n",
       "    <tr style=\"text-align: right;\">\n",
       "      <th></th>\n",
       "      <th>artist</th>\n",
       "      <th>seq</th>\n",
       "      <th>song</th>\n",
       "      <th>label</th>\n",
       "    </tr>\n",
       "  </thead>\n",
       "  <tbody>\n",
       "    <tr>\n",
       "      <th>0</th>\n",
       "      <td>Elijah Blake</td>\n",
       "      <td>No, no\\r\\nI ain't ever trapped out the bando\\r...</td>\n",
       "      <td>Everyday</td>\n",
       "      <td>0.626</td>\n",
       "    </tr>\n",
       "    <tr>\n",
       "      <th>1</th>\n",
       "      <td>Elijah Blake</td>\n",
       "      <td>The drinks go down and smoke goes up, I feel m...</td>\n",
       "      <td>Live Till We Die</td>\n",
       "      <td>0.630</td>\n",
       "    </tr>\n",
       "    <tr>\n",
       "      <th>2</th>\n",
       "      <td>Elijah Blake</td>\n",
       "      <td>She don't live on planet Earth no more\\r\\nShe ...</td>\n",
       "      <td>The Otherside</td>\n",
       "      <td>0.240</td>\n",
       "    </tr>\n",
       "    <tr>\n",
       "      <th>3</th>\n",
       "      <td>Elijah Blake</td>\n",
       "      <td>Trippin' off that Grigio, mobbin', lights low\\...</td>\n",
       "      <td>Pinot</td>\n",
       "      <td>0.536</td>\n",
       "    </tr>\n",
       "    <tr>\n",
       "      <th>4</th>\n",
       "      <td>Elijah Blake</td>\n",
       "      <td>I see a midnight panther, so gallant and so br...</td>\n",
       "      <td>Shadows &amp; Diamonds</td>\n",
       "      <td>0.371</td>\n",
       "    </tr>\n",
       "  </tbody>\n",
       "</table>\n",
       "</div>"
      ],
      "text/plain": [
       "         artist                                                seq  \\\n",
       "0  Elijah Blake  No, no\\r\\nI ain't ever trapped out the bando\\r...   \n",
       "1  Elijah Blake  The drinks go down and smoke goes up, I feel m...   \n",
       "2  Elijah Blake  She don't live on planet Earth no more\\r\\nShe ...   \n",
       "3  Elijah Blake  Trippin' off that Grigio, mobbin', lights low\\...   \n",
       "4  Elijah Blake  I see a midnight panther, so gallant and so br...   \n",
       "\n",
       "                 song  label  \n",
       "0            Everyday  0.626  \n",
       "1    Live Till We Die  0.630  \n",
       "2       The Otherside  0.240  \n",
       "3               Pinot  0.536  \n",
       "4  Shadows & Diamonds  0.371  "
      ]
     },
     "execution_count": 97,
     "metadata": {},
     "output_type": "execute_result"
    }
   ],
   "source": [
    "lyrics_raw_2.head()"
   ]
  },
  {
   "cell_type": "code",
   "execution_count": 98,
   "metadata": {},
   "outputs": [
    {
     "data": {
      "text/html": [
       "<div>\n",
       "<style scoped>\n",
       "    .dataframe tbody tr th:only-of-type {\n",
       "        vertical-align: middle;\n",
       "    }\n",
       "\n",
       "    .dataframe tbody tr th {\n",
       "        vertical-align: top;\n",
       "    }\n",
       "\n",
       "    .dataframe thead th {\n",
       "        text-align: right;\n",
       "    }\n",
       "</style>\n",
       "<table border=\"1\" class=\"dataframe\">\n",
       "  <thead>\n",
       "    <tr style=\"text-align: right;\">\n",
       "      <th></th>\n",
       "      <th>artist</th>\n",
       "      <th>seq</th>\n",
       "      <th>song</th>\n",
       "      <th>label</th>\n",
       "      <th>artist_and_song</th>\n",
       "    </tr>\n",
       "  </thead>\n",
       "  <tbody>\n",
       "    <tr>\n",
       "      <th>0</th>\n",
       "      <td>Elijah Blake</td>\n",
       "      <td>No, no\\r\\nI ain't ever trapped out the bando\\r...</td>\n",
       "      <td>Everyday</td>\n",
       "      <td>0.626</td>\n",
       "      <td>elijah blake /// everyday</td>\n",
       "    </tr>\n",
       "    <tr>\n",
       "      <th>1</th>\n",
       "      <td>Elijah Blake</td>\n",
       "      <td>The drinks go down and smoke goes up, I feel m...</td>\n",
       "      <td>Live Till We Die</td>\n",
       "      <td>0.630</td>\n",
       "      <td>elijah blake /// live till we die</td>\n",
       "    </tr>\n",
       "    <tr>\n",
       "      <th>2</th>\n",
       "      <td>Elijah Blake</td>\n",
       "      <td>She don't live on planet Earth no more\\r\\nShe ...</td>\n",
       "      <td>The Otherside</td>\n",
       "      <td>0.240</td>\n",
       "      <td>elijah blake /// the otherside</td>\n",
       "    </tr>\n",
       "    <tr>\n",
       "      <th>3</th>\n",
       "      <td>Elijah Blake</td>\n",
       "      <td>Trippin' off that Grigio, mobbin', lights low\\...</td>\n",
       "      <td>Pinot</td>\n",
       "      <td>0.536</td>\n",
       "      <td>elijah blake /// pinot</td>\n",
       "    </tr>\n",
       "    <tr>\n",
       "      <th>4</th>\n",
       "      <td>Elijah Blake</td>\n",
       "      <td>I see a midnight panther, so gallant and so br...</td>\n",
       "      <td>Shadows &amp; Diamonds</td>\n",
       "      <td>0.371</td>\n",
       "      <td>elijah blake /// shadows &amp; diamonds</td>\n",
       "    </tr>\n",
       "  </tbody>\n",
       "</table>\n",
       "</div>"
      ],
      "text/plain": [
       "         artist                                                seq  \\\n",
       "0  Elijah Blake  No, no\\r\\nI ain't ever trapped out the bando\\r...   \n",
       "1  Elijah Blake  The drinks go down and smoke goes up, I feel m...   \n",
       "2  Elijah Blake  She don't live on planet Earth no more\\r\\nShe ...   \n",
       "3  Elijah Blake  Trippin' off that Grigio, mobbin', lights low\\...   \n",
       "4  Elijah Blake  I see a midnight panther, so gallant and so br...   \n",
       "\n",
       "                 song  label                      artist_and_song  \n",
       "0            Everyday  0.626            elijah blake /// everyday  \n",
       "1    Live Till We Die  0.630    elijah blake /// live till we die  \n",
       "2       The Otherside  0.240       elijah blake /// the otherside  \n",
       "3               Pinot  0.536               elijah blake /// pinot  \n",
       "4  Shadows & Diamonds  0.371  elijah blake /// shadows & diamonds  "
      ]
     },
     "execution_count": 98,
     "metadata": {},
     "output_type": "execute_result"
    }
   ],
   "source": [
    "lyrics_raw_2['artist_and_song'] = lyrics_raw_2.artist + ' /// ' + lyrics_raw_2.song\n",
    "lyrics_raw_2['artist_and_song'] = lyrics_raw_2.artist_and_song.str.lower() \n",
    "lyrics_raw_2 = lyrics_raw_2.drop_duplicates(subset='artist_and_song', keep='first') #remove duplicates\n",
    "\n",
    "lyrics_raw_2.head()"
   ]
  },
  {
   "cell_type": "code",
   "execution_count": 99,
   "metadata": {},
   "outputs": [
    {
     "name": "stdout",
     "output_type": "stream",
     "text": [
      "158311\n"
     ]
    }
   ],
   "source": [
    "artists_and_songs_2 = lyrics_raw_2.artist_and_song.unique()\n",
    "print(len(artists_and_songs_2))"
   ]
  },
  {
   "cell_type": "code",
   "execution_count": 100,
   "metadata": {},
   "outputs": [],
   "source": [
    "audio_text_raw_1 = audio_raw.loc[audio_raw.artist_and_song.isin(artists_and_songs_1)]\n",
    "audio_text_raw_2 = audio_raw.loc[audio_raw.artist_and_song.isin(artists_and_songs_2)]"
   ]
  },
  {
   "cell_type": "code",
   "execution_count": 101,
   "metadata": {},
   "outputs": [
    {
     "data": {
      "text/plain": [
       "Rock                3743\n",
       "Dance               3261\n",
       "Alternative         3158\n",
       "Pop                 3059\n",
       "Children’s Music    2991\n",
       "Folk                2060\n",
       "Rap                 2000\n",
       "R&B                 1574\n",
       "Blues               1551\n",
       "Indie               1551\n",
       "Hip-Hop             1464\n",
       "Ska                 1395\n",
       "Country             1297\n",
       "Soul                1203\n",
       "Electronic           956\n",
       "Reggae               856\n",
       "Jazz                 661\n",
       "World                538\n",
       "Reggaeton            457\n",
       "Classical            243\n",
       "Anime                236\n",
       "Comedy                26\n",
       "Movie                 19\n",
       "Soundtrack            18\n",
       "Opera                  8\n",
       "Children's Music       1\n",
       "Name: genre, dtype: int64"
      ]
     },
     "execution_count": 101,
     "metadata": {},
     "output_type": "execute_result"
    }
   ],
   "source": [
    "audio_text_raw_1.genre.value_counts()"
   ]
  },
  {
   "cell_type": "code",
   "execution_count": 102,
   "metadata": {},
   "outputs": [
    {
     "data": {
      "text/plain": [
       "Country             1626\n",
       "Rock                1603\n",
       "Alternative         1581\n",
       "Children’s Music    1570\n",
       "Folk                1369\n",
       "Blues               1183\n",
       "Dance               1117\n",
       "Pop                  989\n",
       "Indie                982\n",
       "R&B                  928\n",
       "Soul                 914\n",
       "Rap                  848\n",
       "Ska                  787\n",
       "Hip-Hop              631\n",
       "Jazz                 581\n",
       "Electronic           385\n",
       "Reggae               248\n",
       "World                223\n",
       "Movie                148\n",
       "Children's Music      61\n",
       "Classical             48\n",
       "Comedy                35\n",
       "Soundtrack            32\n",
       "Opera                 17\n",
       "Reggaeton             16\n",
       "Anime                 11\n",
       "A Capella              7\n",
       "Name: genre, dtype: int64"
      ]
     },
     "execution_count": 102,
     "metadata": {},
     "output_type": "execute_result"
    }
   ],
   "source": [
    "audio_text_raw_2.genre.value_counts()"
   ]
  },
  {
   "cell_type": "code",
   "execution_count": 103,
   "metadata": {},
   "outputs": [
    {
     "data": {
      "text/plain": [
       "Rock                4425\n",
       "Alternative         3778\n",
       "Dance               3750\n",
       "Children’s Music    3621\n",
       "Pop                 3530\n",
       "Folk                2818\n",
       "Country             2434\n",
       "Rap                 2391\n",
       "Blues               2334\n",
       "R&B                 2155\n",
       "Indie               2070\n",
       "Hip-Hop             1840\n",
       "Ska                 1835\n",
       "Soul                1830\n",
       "Electronic          1182\n",
       "Jazz                1061\n",
       "Reggae              1044\n",
       "World                675\n",
       "Reggaeton            465\n",
       "Classical            266\n",
       "Anime                242\n",
       "Movie                153\n",
       "Children's Music      62\n",
       "Comedy                43\n",
       "Soundtrack            43\n",
       "Opera                 24\n",
       "A Capella              7\n",
       "Name: genre, dtype: int64"
      ]
     },
     "execution_count": 103,
     "metadata": {},
     "output_type": "execute_result"
    }
   ],
   "source": [
    "audio_text_raw = audio_raw.loc[\n",
    "    (audio_raw.artist_and_song.isin(artists_and_songs_1)) | (audio_raw.artist_and_song.isin(artists_and_songs_2))\n",
    "    ]\n",
    "audio_text_raw.genre.value_counts()"
   ]
  },
  {
   "cell_type": "markdown",
   "metadata": {},
   "source": [
    "### Data Analysis"
   ]
  },
  {
   "cell_type": "markdown",
   "metadata": {},
   "source": [
    "Okay it seemed to work. We found some overlapping datapoints from the audio features dataset with the lyrics datasets. Even though the amount may not be sufficient for a state of the art genre classifier, it should be enough to suffice the goal of this project!"
   ]
  },
  {
   "cell_type": "markdown",
   "metadata": {},
   "source": [
    "Let us already remove the genres that really is not a music genre or that have less datapoints in the lyricsdatasets. I will remove everything below World for now. Even though the lyrical classifier may have a better time identyfying Reggaeton and World because of their nature (they are often in other languages than english). I may come back and change this later if time allows. \n",
    "\n",
    "Fewer labels also makes the analysing a bit easier."
   ]
  },
  {
   "cell_type": "code",
   "execution_count": 115,
   "metadata": {},
   "outputs": [
    {
     "data": {
      "text/plain": [
       "Rock                4425\n",
       "Alternative         3778\n",
       "Dance               3750\n",
       "Children’s Music    3621\n",
       "Pop                 3530\n",
       "Folk                2818\n",
       "Country             2434\n",
       "Rap                 2391\n",
       "Blues               2334\n",
       "R&B                 2155\n",
       "Indie               2070\n",
       "Hip-Hop             1840\n",
       "Ska                 1835\n",
       "Soul                1830\n",
       "Electronic          1182\n",
       "Jazz                1061\n",
       "Reggae              1044\n",
       "Name: genre, dtype: int64"
      ]
     },
     "execution_count": 115,
     "metadata": {},
     "output_type": "execute_result"
    }
   ],
   "source": [
    "audio_text_raw = audio_text_raw[\n",
    "    ~audio_text_raw.genre.isin( \n",
    "        ['Children\\'s Music', 'A Capella', 'Soundtrack', 'Movie', 'Classical',\n",
    "         'Anime', 'Comedy', 'Opera', 'Reggaeton', 'World'\n",
    "        ])] \n",
    "# I also removed the smaller Children's Music class, because of the duplicate genre label\n",
    "# (maybe some error when the person who made the dataset scraped the songs)\n",
    "\n",
    "audio_text_raw.genre.value_counts()\n"
   ]
  },
  {
   "cell_type": "code",
   "execution_count": 105,
   "metadata": {},
   "outputs": [
    {
     "name": "stdout",
     "output_type": "stream",
     "text": [
      " datapoints:  43238 \n",
      " unique artist_songs:  24953\n"
     ]
    }
   ],
   "source": [
    "print(' datapoints: ', len(audio_text_raw) , '\\n unique artist_songs: ' ,len(audio_text_raw.artist_and_song.unique()))"
   ]
  },
  {
   "cell_type": "markdown",
   "metadata": {},
   "source": [
    "We may have many songs with multiple genres as labels in our audio features dataset."
   ]
  },
  {
   "cell_type": "code",
   "execution_count": 106,
   "metadata": {},
   "outputs": [
    {
     "name": "stdout",
     "output_type": "stream",
     "text": [
      " unique artist_songs in lyrics dataset 1:  378951 \n",
      " unique lyrics in lyrics dataset 1:  370268\n",
      " unique artist_songs in lyrics dataset 2:  158311 \n",
      " unique lyrics in lyrics dataset 2:  135965\n"
     ]
    }
   ],
   "source": [
    "lyrics_1 = lyrics_raw_1.Lyric.unique()\n",
    "print(' unique artist_songs in lyrics dataset 1: ', len(artists_and_songs_1), \n",
    "            '\\n unique lyrics in lyrics dataset 1: ', len(lyrics_1))\n",
    "\n",
    "lyrics_2 = lyrics_raw_2.seq.unique()\n",
    "print(' unique artist_songs in lyrics dataset 2: ', len(artists_and_songs_2), \n",
    "            '\\n unique lyrics in lyrics dataset 2: ', len(lyrics_2))"
   ]
  },
  {
   "cell_type": "markdown",
   "metadata": {},
   "source": [
    "We can see that some song lyrics are the same even though the artist_song differ. This means that we have covers included in the dataset that we need to take care of. Unfortunatly songs with covers are most likely popular/famous songs that has a joint datapoint with the audio features dataset, but since there is not a way to know which song that is the original or which genre it was meant to be when the lyrics were written, I will remove ALL artist_songs that have duplicate lyrics (including the original artist_song)"
   ]
  },
  {
   "cell_type": "code",
   "execution_count": 107,
   "metadata": {},
   "outputs": [
    {
     "name": "stdout",
     "output_type": "stream",
     "text": [
      " unique artist_songs in lyrics dataset 1:  366137 \n",
      " unique lyrics in lyrics dataset 1:  366137\n",
      " unique artist_songs in lyrics dataset 2:  130031 \n",
      " unique lyrics in lyrics dataset 2:  130031\n"
     ]
    }
   ],
   "source": [
    "lyrics_raw_1 = lyrics_raw_1.drop_duplicates(subset='Lyric', keep=False)\n",
    "lyrics_raw_2 = lyrics_raw_2.drop_duplicates(subset='seq', keep=False)\n",
    "#print(len(lyrics_raw_2))\n",
    "\n",
    "lyrics_1 = lyrics_raw_1.Lyric.unique()\n",
    "artists_and_songs_1 = lyrics_raw_1.artist_and_song.unique()\n",
    "print(' unique artist_songs in lyrics dataset 1: ', len(artists_and_songs_1), \n",
    "            '\\n unique lyrics in lyrics dataset 1: ', len(lyrics_1))\n",
    "\n",
    "lyrics_2 = lyrics_raw_2.seq.unique()\n",
    "artists_and_songs_2 = lyrics_raw_2.artist_and_song.unique()\n",
    "print(' unique artist_songs in lyrics dataset 2: ', len(artists_and_songs_2), \n",
    "            '\\n unique lyrics in lyrics dataset 2: ', len(lyrics_2))"
   ]
  },
  {
   "cell_type": "code",
   "execution_count": 108,
   "metadata": {},
   "outputs": [
    {
     "data": {
      "text/html": [
       "<div>\n",
       "<style scoped>\n",
       "    .dataframe tbody tr th:only-of-type {\n",
       "        vertical-align: middle;\n",
       "    }\n",
       "\n",
       "    .dataframe tbody tr th {\n",
       "        vertical-align: top;\n",
       "    }\n",
       "\n",
       "    .dataframe thead th {\n",
       "        text-align: right;\n",
       "    }\n",
       "</style>\n",
       "<table border=\"1\" class=\"dataframe\">\n",
       "  <thead>\n",
       "    <tr style=\"text-align: right;\">\n",
       "      <th></th>\n",
       "      <th>artist_and_song</th>\n",
       "      <th>genre</th>\n",
       "    </tr>\n",
       "  </thead>\n",
       "  <tbody>\n",
       "    <tr>\n",
       "      <th>0</th>\n",
       "      <td>*nsync /// bye bye bye</td>\n",
       "      <td>2</td>\n",
       "    </tr>\n",
       "    <tr>\n",
       "      <th>4</th>\n",
       "      <td>*nsync /// it's gonna be me</td>\n",
       "      <td>2</td>\n",
       "    </tr>\n",
       "    <tr>\n",
       "      <th>6</th>\n",
       "      <td>*nsync /// merry christmas, happy holidays</td>\n",
       "      <td>2</td>\n",
       "    </tr>\n",
       "    <tr>\n",
       "      <th>8</th>\n",
       "      <td>*nsync /// pop</td>\n",
       "      <td>2</td>\n",
       "    </tr>\n",
       "    <tr>\n",
       "      <th>10</th>\n",
       "      <td>*nsync /// this i promise you</td>\n",
       "      <td>2</td>\n",
       "    </tr>\n",
       "  </tbody>\n",
       "</table>\n",
       "</div>"
      ],
      "text/plain": [
       "                               artist_and_song  genre\n",
       "0                       *nsync /// bye bye bye      2\n",
       "4                  *nsync /// it's gonna be me      2\n",
       "6   *nsync /// merry christmas, happy holidays      2\n",
       "8                               *nsync /// pop      2\n",
       "10               *nsync /// this i promise you      2"
      ]
     },
     "execution_count": 108,
     "metadata": {},
     "output_type": "execute_result"
    }
   ],
   "source": [
    "temp = audio_text_raw[['artist_and_song', 'genre' ]].groupby('artist_and_song').count().reset_index()\n",
    "df_multiples = temp.loc[temp['genre'] > 1]\n",
    "df_uniques = temp.loc[temp['genre'] == 1]\n",
    "df_multiples.head()"
   ]
  },
  {
   "cell_type": "code",
   "execution_count": 109,
   "metadata": {},
   "outputs": [
    {
     "name": "stdout",
     "output_type": "stream",
     "text": [
      "unique songs with multiple genre labels:  10721\n",
      "unique songs with only one genre label:  14232\n"
     ]
    }
   ],
   "source": [
    "print('unique songs with multiple genre labels: ' ,len(df_multiples))\n",
    "print('unique songs with only one genre label: ', len(df_uniques))"
   ]
  },
  {
   "cell_type": "markdown",
   "metadata": {},
   "source": [
    "Almost half of the joint-dataset has multiple labels. So I will have to further investigate how  distributions of overlap between genres look like."
   ]
  },
  {
   "cell_type": "code",
   "execution_count": 110,
   "metadata": {},
   "outputs": [
    {
     "data": {
      "text/plain": [
       "array(['R&B', 'Alternative', 'Country', 'Dance', 'Electronic', 'Folk',\n",
       "       'Blues', 'Hip-Hop', 'Children’s Music', 'Rap', 'Indie', 'Pop',\n",
       "       'Reggae', 'Reggaeton', 'Jazz', 'Rock', 'Ska', 'Soul', 'World'],\n",
       "      dtype=object)"
      ]
     },
     "execution_count": 110,
     "metadata": {},
     "output_type": "execute_result"
    }
   ],
   "source": [
    "genres = audio_text_raw.genre.unique()\n",
    "genres"
   ]
  },
  {
   "cell_type": "code",
   "execution_count": 111,
   "metadata": {},
   "outputs": [],
   "source": [
    "overlap_values = np.zeros(len(genres))\n",
    "stats = {genre : overlap_values for genre in genres}\n",
    "\n",
    "for artist_song in audio_text_raw.artist_and_song.unique():\n",
    "        \n",
    "    mini_df = audio_text_raw.loc[audio_text_raw.artist_and_song == artist_song]\n",
    "    mini_genre_list = mini_df.genre.unique()\n",
    "    overlap_values = np.in1d(genres, mini_genre_list) * 1\n",
    "    for mini_genre in mini_genre_list:\n",
    "        old_val = stats[mini_genre]\n",
    "        stats[mini_genre] = (overlap_values + old_val)\n",
    "\n",
    "#stats #here you can plot the stats also"
   ]
  },
  {
   "cell_type": "code",
   "execution_count": 112,
   "metadata": {},
   "outputs": [
    {
     "data": {
      "image/png": "[encoded data removed]",
      "text/plain": [
       "<Figure size 432x288 with 1 Axes>"
      ]
     },
     "metadata": {
      "needs_background": "light"
     },
     "output_type": "display_data"
    },
    {
     "data": {
      "text/plain": [
       "<Figure size 432x288 with 0 Axes>"
      ]
     },
     "metadata": {},
     "output_type": "display_data"
    },
    {
     "data": {
      "image/png": "[encoded data removed]",
      "text/plain": [
       "<Figure size 432x288 with 1 Axes>"
      ]
     },
     "metadata": {
      "needs_background": "light"
     },
     "output_type": "display_data"
    },
    {
     "data": {
      "text/plain": [
       "<Figure size 432x288 with 0 Axes>"
      ]
     },
     "metadata": {},
     "output_type": "display_data"
    },
    {
     "data": {
      "image/png": "[encoded data removed]",
      "text/plain": [
       "<Figure size 432x288 with 1 Axes>"
      ]
     },
     "metadata": {
      "needs_background": "light"
     },
     "output_type": "display_data"
    },
    {
     "data": {
      "text/plain": [
       "<Figure size 432x288 with 0 Axes>"
      ]
     },
     "metadata": {},
     "output_type": "display_data"
    },
    {
     "data": {
      "image/png": "[encoded data removed]",
      "text/plain": [
       "<Figure size 432x288 with 1 Axes>"
      ]
     },
     "metadata": {
      "needs_background": "light"
     },
     "output_type": "display_data"
    },
    {
     "data": {
      "text/plain": [
       "<Figure size 432x288 with 0 Axes>"
      ]
     },
     "metadata": {},
     "output_type": "display_data"
    },
    {
     "data": {
      "image/png": "[encoded data removed]",
      "text/plain": [
       "<Figure size 432x288 with 1 Axes>"
      ]
     },
     "metadata": {
      "needs_background": "light"
     },
     "output_type": "display_data"
    },
    {
     "data": {
      "text/plain": [
       "<Figure size 432x288 with 0 Axes>"
      ]
     },
     "metadata": {},
     "output_type": "display_data"
    },
    {
     "data": {
      "image/png": "[encoded data removed]",
      "text/plain": [
       "<Figure size 432x288 with 1 Axes>"
      ]
     },
     "metadata": {
      "needs_background": "light"
     },
     "output_type": "display_data"
    },
    {
     "data": {
      "text/plain": [
       "<Figure size 432x288 with 0 Axes>"
      ]
     },
     "metadata": {},
     "output_type": "display_data"
    },
    {
     "data": {
      "image/png": "[encoded data removed]",
      "text/plain": [
       "<Figure size 432x288 with 1 Axes>"
      ]
     },
     "metadata": {
      "needs_background": "light"
     },
     "output_type": "display_data"
    },
    {
     "data": {
      "text/plain": [
       "<Figure size 432x288 with 0 Axes>"
      ]
     },
     "metadata": {},
     "output_type": "display_data"
    },
    {
     "data": {
      "image/png": "[encoded data removed]",
      "text/plain": [
       "<Figure size 432x288 with 1 Axes>"
      ]
     },
     "metadata": {
      "needs_background": "light"
     },
     "output_type": "display_data"
    },
    {
     "data": {
      "text/plain": [
       "<Figure size 432x288 with 0 Axes>"
      ]
     },
     "metadata": {},
     "output_type": "display_data"
    },
    {
     "data": {
      "image/png": "[encoded data removed]",
      "text/plain": [
       "<Figure size 432x288 with 1 Axes>"
      ]
     },
     "metadata": {
      "needs_background": "light"
     },
     "output_type": "display_data"
    },
    {
     "data": {
      "text/plain": [
       "<Figure size 432x288 with 0 Axes>"
      ]
     },
     "metadata": {},
     "output_type": "display_data"
    },
    {
     "data": {
      "image/png": "[encoded data removed]",
      "text/plain": [
       "<Figure size 432x288 with 1 Axes>"
      ]
     },
     "metadata": {
      "needs_background": "light"
     },
     "output_type": "display_data"
    },
    {
     "data": {
      "text/plain": [
       "<Figure size 432x288 with 0 Axes>"
      ]
     },
     "metadata": {},
     "output_type": "display_data"
    },
    {
     "data": {
      "image/png": "[encoded data removed]",
      "text/plain": [
       "<Figure size 432x288 with 1 Axes>"
      ]
     },
     "metadata": {
      "needs_background": "light"
     },
     "output_type": "display_data"
    },
    {
     "data": {
      "text/plain": [
       "<Figure size 432x288 with 0 Axes>"
      ]
     },
     "metadata": {},
     "output_type": "display_data"
    },
    {
     "data": {
      "image/png": "[encoded data removed]",
      "text/plain": [
       "<Figure size 432x288 with 1 Axes>"
      ]
     },
     "metadata": {
      "needs_background": "light"
     },
     "output_type": "display_data"
    },
    {
     "data": {
      "text/plain": [
       "<Figure size 432x288 with 0 Axes>"
      ]
     },
     "metadata": {},
     "output_type": "display_data"
    },
    {
     "data": {
      "image/png": "[encoded data removed]",
      "text/plain": [
       "<Figure size 432x288 with 1 Axes>"
      ]
     },
     "metadata": {
      "needs_background": "light"
     },
     "output_type": "display_data"
    },
    {
     "data": {
      "text/plain": [
       "<Figure size 432x288 with 0 Axes>"
      ]
     },
     "metadata": {},
     "output_type": "display_data"
    },
    {
     "data": {
      "image/png": "[encoded data removed]",
      "text/plain": [
       "<Figure size 432x288 with 1 Axes>"
      ]
     },
     "metadata": {
      "needs_background": "light"
     },
     "output_type": "display_data"
    },
    {
     "data": {
      "text/plain": [
       "<Figure size 432x288 with 0 Axes>"
      ]
     },
     "metadata": {},
     "output_type": "display_data"
    },
    {
     "data": {
      "image/png": "[encoded data removed]",
      "text/plain": [
       "<Figure size 432x288 with 1 Axes>"
      ]
     },
     "metadata": {
      "needs_background": "light"
     },
     "output_type": "display_data"
    },
    {
     "data": {
      "text/plain": [
       "<Figure size 432x288 with 0 Axes>"
      ]
     },
     "metadata": {},
     "output_type": "display_data"
    },
    {
     "data": {
      "image/png": "[encoded data removed]",
      "text/plain": [
       "<Figure size 432x288 with 1 Axes>"
      ]
     },
     "metadata": {
      "needs_background": "light"
     },
     "output_type": "display_data"
    },
    {
     "data": {
      "text/plain": [
       "<Figure size 432x288 with 0 Axes>"
      ]
     },
     "metadata": {},
     "output_type": "display_data"
    },
    {
     "data": {
      "image/png": "[encoded data removed]",
      "text/plain": [
       "<Figure size 432x288 with 1 Axes>"
      ]
     },
     "metadata": {
      "needs_background": "light"
     },
     "output_type": "display_data"
    },
    {
     "data": {
      "text/plain": [
       "<Figure size 432x288 with 0 Axes>"
      ]
     },
     "metadata": {},
     "output_type": "display_data"
    },
    {
     "data": {
      "image/png": "[encoded data removed]",
      "text/plain": [
       "<Figure size 432x288 with 1 Axes>"
      ]
     },
     "metadata": {
      "needs_background": "light"
     },
     "output_type": "display_data"
    },
    {
     "data": {
      "text/plain": [
       "<Figure size 432x288 with 0 Axes>"
      ]
     },
     "metadata": {},
     "output_type": "display_data"
    },
    {
     "data": {
      "image/png": "[encoded data removed]",
      "text/plain": [
       "<Figure size 432x288 with 1 Axes>"
      ]
     },
     "metadata": {
      "needs_background": "light"
     },
     "output_type": "display_data"
    },
    {
     "data": {
      "text/plain": [
       "<Figure size 432x288 with 0 Axes>"
      ]
     },
     "metadata": {},
     "output_type": "display_data"
    },
    {
     "data": {
      "text/plain": [
       "<Figure size 432x288 with 0 Axes>"
      ]
     },
     "metadata": {},
     "output_type": "display_data"
    }
   ],
   "source": [
    "for genre in genres:\n",
    "\n",
    "    # Plot the sizes as a bar plot\n",
    "    plt.bar(genres, stats[genre])\n",
    "\n",
    "    #plt.legend(genres, bbox_to_anchor=(1.05, 1), loc='upper left', borderaxespad=0.)\n",
    "    plt.legend([genre])\n",
    "\n",
    "    plt.xticks(rotation=90)\n",
    "    plt.show()\n",
    "    display(plt.gcf())\n",
    "    plt.clf()\n"
   ]
  },
  {
   "cell_type": "markdown",
   "metadata": {},
   "source": [
    "Above I have plotted how many songs and which genres that have common target label. The chosen genre for every plot also has itself as a bar in the plot which shows the total number of datapoints that genre has.\n",
    "\n",
    "As we can see Alternative and Children's music have a lot of overlap and should maybe considered as one class. I will therefore remove Alternative because it seems to be used as an umberella term instead of the actual Alternative music genre (it is not usually Children's music that you call Alternative I realised after google:ing)\n",
    "\n",
    "There is big correlation between Hip Hop and Rap but they can still be considered two be separate classes. (Most likely that a lot of Hip Hop uses Rap, but not every Rap song is Hip Hop given my previous biases and knowledge)"
   ]
  },
  {
   "cell_type": "markdown",
   "metadata": {},
   "source": [
    "Some takeaways from the plots:\n",
    "\n",
    "- Alternative and Children's music have a lot of overlap\n",
    "- A lot of classes that seem to have much less overlap such as World, Ska and Jazz for example. \n",
    "- There is big correlation between Hip Hop and Rap. \n",
    "- The bigger classes such as Rock, Indie and Pop has a lot of overlaps with other genres."
   ]
  },
  {
   "cell_type": "markdown",
   "metadata": {},
   "source": [
    "My conclusion is that I have to keep the multilabels and I will construct a scoring system appropriately or multilabel classification."
   ]
  },
  {
   "cell_type": "markdown",
   "metadata": {},
   "source": [
    "### Building the Final Dataset ###"
   ]
  },
  {
   "cell_type": "code",
   "execution_count": 123,
   "metadata": {},
   "outputs": [],
   "source": [
    "audio_text_raw = audio_text_raw[\n",
    "    ~audio_text_raw.genre.isin( \n",
    "        ['Alternative',\n",
    "        ])]\n"
   ]
  },
  {
   "cell_type": "code",
   "execution_count": 169,
   "metadata": {},
   "outputs": [
    {
     "data": {
      "text/plain": [
       "count                                 38320\n",
       "unique                                23548\n",
       "top       todd rundgren /// i saw the light\n",
       "freq                                      8\n",
       "Name: artist_and_song, dtype: object"
      ]
     },
     "execution_count": 169,
     "metadata": {},
     "output_type": "execute_result"
    }
   ],
   "source": [
    "genres = audio_text_raw.genre.unique() #update variable\n",
    "audio_text_raw.artist_and_song.describe()"
   ]
  },
  {
   "cell_type": "markdown",
   "metadata": {},
   "source": [
    "I will remove the popularity column since it is not an audiofeature and some songs had multiple datapoints with different popularity values even though it was the same song."
   ]
  },
  {
   "cell_type": "code",
   "execution_count": 145,
   "metadata": {},
   "outputs": [
    {
     "data": {
      "text/plain": [
       "count                                        23799\n",
       "unique                                       23548\n",
       "top       the black crowes /// she talks to angels\n",
       "freq                                             3\n",
       "Name: artist_and_song, dtype: object"
      ]
     },
     "execution_count": 145,
     "metadata": {},
     "output_type": "execute_result"
    }
   ],
   "source": [
    "df = audio_text_raw.copy()\n",
    "cols = df.columns.tolist()\n",
    "cols.remove('genre')\n",
    "cols.remove('popularity')\n",
    "df = df.groupby(cols)['genre'].apply(lambda x: [i for i in x])\n",
    "df = df.reset_index()\n",
    "df.rename(columns={0: \"genre\"}, inplace=True)\n",
    "df.head()\n",
    "audio_text_df = df.drop(['track_id', 'track_name', 'artist_name'], axis=1)\n",
    "\n",
    "audio_text_df.artist_and_song.describe()"
   ]
  },
  {
   "cell_type": "code",
   "execution_count": 146,
   "metadata": {},
   "outputs": [
    {
     "data": {
      "text/html": [
       "<div>\n",
       "<style scoped>\n",
       "    .dataframe tbody tr th:only-of-type {\n",
       "        vertical-align: middle;\n",
       "    }\n",
       "\n",
       "    .dataframe tbody tr th {\n",
       "        vertical-align: top;\n",
       "    }\n",
       "\n",
       "    .dataframe thead th {\n",
       "        text-align: right;\n",
       "    }\n",
       "</style>\n",
       "<table border=\"1\" class=\"dataframe\">\n",
       "  <thead>\n",
       "    <tr style=\"text-align: right;\">\n",
       "      <th></th>\n",
       "      <th>acousticness</th>\n",
       "      <th>danceability</th>\n",
       "      <th>duration_ms</th>\n",
       "      <th>energy</th>\n",
       "      <th>instrumentalness</th>\n",
       "      <th>key</th>\n",
       "      <th>liveness</th>\n",
       "      <th>loudness</th>\n",
       "      <th>mode</th>\n",
       "      <th>speechiness</th>\n",
       "      <th>tempo</th>\n",
       "      <th>time_signature</th>\n",
       "      <th>valence</th>\n",
       "      <th>artist_and_song</th>\n",
       "      <th>genre</th>\n",
       "    </tr>\n",
       "  </thead>\n",
       "  <tbody>\n",
       "    <tr>\n",
       "      <th>20069</th>\n",
       "      <td>0.0600</td>\n",
       "      <td>0.584</td>\n",
       "      <td>329400</td>\n",
       "      <td>0.521</td>\n",
       "      <td>0.000076</td>\n",
       "      <td>E</td>\n",
       "      <td>0.220</td>\n",
       "      <td>-5.782</td>\n",
       "      <td>Major</td>\n",
       "      <td>0.0295</td>\n",
       "      <td>160.058</td>\n",
       "      <td>4/4</td>\n",
       "      <td>0.317</td>\n",
       "      <td>the black crowes /// she talks to angels</td>\n",
       "      <td>[Blues]</td>\n",
       "    </tr>\n",
       "    <tr>\n",
       "      <th>20070</th>\n",
       "      <td>0.0553</td>\n",
       "      <td>0.586</td>\n",
       "      <td>329600</td>\n",
       "      <td>0.514</td>\n",
       "      <td>0.000050</td>\n",
       "      <td>E</td>\n",
       "      <td>0.202</td>\n",
       "      <td>-5.772</td>\n",
       "      <td>Major</td>\n",
       "      <td>0.0283</td>\n",
       "      <td>160.094</td>\n",
       "      <td>4/4</td>\n",
       "      <td>0.334</td>\n",
       "      <td>the black crowes /// she talks to angels</td>\n",
       "      <td>[Children’s Music, Rock]</td>\n",
       "    </tr>\n",
       "    <tr>\n",
       "      <th>20071</th>\n",
       "      <td>0.2530</td>\n",
       "      <td>0.380</td>\n",
       "      <td>376960</td>\n",
       "      <td>0.340</td>\n",
       "      <td>0.001780</td>\n",
       "      <td>E</td>\n",
       "      <td>0.305</td>\n",
       "      <td>-12.599</td>\n",
       "      <td>Major</td>\n",
       "      <td>0.0307</td>\n",
       "      <td>145.990</td>\n",
       "      <td>4/4</td>\n",
       "      <td>0.182</td>\n",
       "      <td>the black crowes /// she talks to angels</td>\n",
       "      <td>[Blues]</td>\n",
       "    </tr>\n",
       "  </tbody>\n",
       "</table>\n",
       "</div>"
      ],
      "text/plain": [
       "       acousticness  danceability  duration_ms  energy  instrumentalness key  \\\n",
       "20069        0.0600         0.584       329400   0.521          0.000076   E   \n",
       "20070        0.0553         0.586       329600   0.514          0.000050   E   \n",
       "20071        0.2530         0.380       376960   0.340          0.001780   E   \n",
       "\n",
       "       liveness  loudness   mode  speechiness    tempo time_signature  \\\n",
       "20069     0.220    -5.782  Major       0.0295  160.058            4/4   \n",
       "20070     0.202    -5.772  Major       0.0283  160.094            4/4   \n",
       "20071     0.305   -12.599  Major       0.0307  145.990            4/4   \n",
       "\n",
       "       valence                           artist_and_song  \\\n",
       "20069    0.317  the black crowes /// she talks to angels   \n",
       "20070    0.334  the black crowes /// she talks to angels   \n",
       "20071    0.182  the black crowes /// she talks to angels   \n",
       "\n",
       "                          genre  \n",
       "20069                   [Blues]  \n",
       "20070  [Children’s Music, Rock]  \n",
       "20071                   [Blues]  "
      ]
     },
     "execution_count": 146,
     "metadata": {},
     "output_type": "execute_result"
    }
   ],
   "source": [
    "audio_text_df.loc[audio_text_df.artist_and_song=='the black crowes /// she talks to angels']"
   ]
  },
  {
   "cell_type": "markdown",
   "metadata": {},
   "source": [
    "We can see that some some artist_and_song values are the same but contain different audio features. (Maybe different versions or something.)\n",
    "Since these datapoints are very few I will remove them altoghether."
   ]
  },
  {
   "cell_type": "code",
   "execution_count": 167,
   "metadata": {},
   "outputs": [
    {
     "data": {
      "text/plain": [
       "count     23303\n",
       "unique    23303\n",
       "Name: artist_and_song, dtype: object"
      ]
     },
     "execution_count": 167,
     "metadata": {},
     "output_type": "execute_result"
    }
   ],
   "source": [
    "audio_text_df = audio_text_df.drop_duplicates(subset='artist_and_song', keep=False)\n",
    "audio_text_df.artist_and_song.describe()[:2]"
   ]
  },
  {
   "cell_type": "code",
   "execution_count": 166,
   "metadata": {},
   "outputs": [
    {
     "data": {
      "text/plain": [
       "count     465998\n",
       "unique    465998\n",
       "Name: artist_and_song, dtype: object"
      ]
     },
     "execution_count": 166,
     "metadata": {},
     "output_type": "execute_result"
    }
   ],
   "source": [
    "lyrics_df = lyrics_raw_1[['artist_and_song', 'Lyric']].append(lyrics_raw_2[['artist_and_song', 'seq']].rename(columns = {'seq':'Lyric'} ) )\n",
    "lyrics_df = lyrics_df.drop_duplicates(subset='artist_and_song', keep='first')\n",
    "lyrics_df.artist_and_song.describe()[:2]"
   ]
  },
  {
   "cell_type": "code",
   "execution_count": 158,
   "metadata": {},
   "outputs": [],
   "source": [
    "artist_song_lyrics_mapping = dict(zip(lyrics_df.artist_and_song, lyrics_df.Lyric))"
   ]
  },
  {
   "cell_type": "code",
   "execution_count": 168,
   "metadata": {},
   "outputs": [
    {
     "data": {
      "text/html": [
       "<div>\n",
       "<style scoped>\n",
       "    .dataframe tbody tr th:only-of-type {\n",
       "        vertical-align: middle;\n",
       "    }\n",
       "\n",
       "    .dataframe tbody tr th {\n",
       "        vertical-align: top;\n",
       "    }\n",
       "\n",
       "    .dataframe thead th {\n",
       "        text-align: right;\n",
       "    }\n",
       "</style>\n",
       "<table border=\"1\" class=\"dataframe\">\n",
       "  <thead>\n",
       "    <tr style=\"text-align: right;\">\n",
       "      <th></th>\n",
       "      <th>acousticness</th>\n",
       "      <th>danceability</th>\n",
       "      <th>duration_ms</th>\n",
       "      <th>energy</th>\n",
       "      <th>instrumentalness</th>\n",
       "      <th>key</th>\n",
       "      <th>liveness</th>\n",
       "      <th>loudness</th>\n",
       "      <th>mode</th>\n",
       "      <th>speechiness</th>\n",
       "      <th>tempo</th>\n",
       "      <th>time_signature</th>\n",
       "      <th>valence</th>\n",
       "      <th>artist_and_song</th>\n",
       "      <th>genre</th>\n",
       "      <th>Lyrics</th>\n",
       "    </tr>\n",
       "  </thead>\n",
       "  <tbody>\n",
       "    <tr>\n",
       "      <th>0</th>\n",
       "      <td>0.03100</td>\n",
       "      <td>0.610</td>\n",
       "      <td>200400</td>\n",
       "      <td>0.926</td>\n",
       "      <td>0.001200</td>\n",
       "      <td>G#</td>\n",
       "      <td>0.0821</td>\n",
       "      <td>-4.843</td>\n",
       "      <td>Minor</td>\n",
       "      <td>0.0479</td>\n",
       "      <td>172.638</td>\n",
       "      <td>4/4</td>\n",
       "      <td>0.861</td>\n",
       "      <td>*nsync /// bye bye bye</td>\n",
       "      <td>[Dance, Pop]</td>\n",
       "      <td>(Hey, Hey)\\nBye, Bye, Bye\\nBye, Bye\\nBye, Bye\\...</td>\n",
       "    </tr>\n",
       "    <tr>\n",
       "      <th>1</th>\n",
       "      <td>0.08660</td>\n",
       "      <td>0.748</td>\n",
       "      <td>253600</td>\n",
       "      <td>0.811</td>\n",
       "      <td>0.000015</td>\n",
       "      <td>C</td>\n",
       "      <td>0.0282</td>\n",
       "      <td>-5.213</td>\n",
       "      <td>Minor</td>\n",
       "      <td>0.0907</td>\n",
       "      <td>93.963</td>\n",
       "      <td>4/4</td>\n",
       "      <td>0.862</td>\n",
       "      <td>*nsync /// girlfriend</td>\n",
       "      <td>[Dance]</td>\n",
       "      <td>Would you be my girlfriend?\\nWould you be my g...</td>\n",
       "    </tr>\n",
       "    <tr>\n",
       "      <th>2</th>\n",
       "      <td>0.43000</td>\n",
       "      <td>0.704</td>\n",
       "      <td>292000</td>\n",
       "      <td>0.409</td>\n",
       "      <td>0.000000</td>\n",
       "      <td>B</td>\n",
       "      <td>0.1090</td>\n",
       "      <td>-8.581</td>\n",
       "      <td>Minor</td>\n",
       "      <td>0.0597</td>\n",
       "      <td>113.863</td>\n",
       "      <td>4/4</td>\n",
       "      <td>0.495</td>\n",
       "      <td>*nsync /// gone</td>\n",
       "      <td>[Dance]</td>\n",
       "      <td>There's a thousand words that I could say,\\nTo...</td>\n",
       "    </tr>\n",
       "    <tr>\n",
       "      <th>3</th>\n",
       "      <td>0.00993</td>\n",
       "      <td>0.810</td>\n",
       "      <td>206333</td>\n",
       "      <td>0.857</td>\n",
       "      <td>0.000011</td>\n",
       "      <td>E</td>\n",
       "      <td>0.0528</td>\n",
       "      <td>-4.658</td>\n",
       "      <td>Minor</td>\n",
       "      <td>0.0881</td>\n",
       "      <td>104.502</td>\n",
       "      <td>4/4</td>\n",
       "      <td>0.646</td>\n",
       "      <td>*nsync /// it makes me ill</td>\n",
       "      <td>[Dance]</td>\n",
       "      <td>Justin:\\nI was hanging with the fellas\\nSaw yo...</td>\n",
       "    </tr>\n",
       "    <tr>\n",
       "      <th>4</th>\n",
       "      <td>0.04070</td>\n",
       "      <td>0.636</td>\n",
       "      <td>192427</td>\n",
       "      <td>0.873</td>\n",
       "      <td>0.000001</td>\n",
       "      <td>C</td>\n",
       "      <td>0.0372</td>\n",
       "      <td>-4.672</td>\n",
       "      <td>Minor</td>\n",
       "      <td>0.0710</td>\n",
       "      <td>165.071</td>\n",
       "      <td>4/4</td>\n",
       "      <td>0.908</td>\n",
       "      <td>*nsync /// it's gonna be me</td>\n",
       "      <td>[Dance, Pop]</td>\n",
       "      <td>You might be hurt babe\\nThat ain't no lie\\nYou...</td>\n",
       "    </tr>\n",
       "  </tbody>\n",
       "</table>\n",
       "</div>"
      ],
      "text/plain": [
       "   acousticness  danceability  duration_ms  energy  instrumentalness key  \\\n",
       "0       0.03100         0.610       200400   0.926          0.001200  G#   \n",
       "1       0.08660         0.748       253600   0.811          0.000015   C   \n",
       "2       0.43000         0.704       292000   0.409          0.000000   B   \n",
       "3       0.00993         0.810       206333   0.857          0.000011   E   \n",
       "4       0.04070         0.636       192427   0.873          0.000001   C   \n",
       "\n",
       "   liveness  loudness   mode  speechiness    tempo time_signature  valence  \\\n",
       "0    0.0821    -4.843  Minor       0.0479  172.638            4/4    0.861   \n",
       "1    0.0282    -5.213  Minor       0.0907   93.963            4/4    0.862   \n",
       "2    0.1090    -8.581  Minor       0.0597  113.863            4/4    0.495   \n",
       "3    0.0528    -4.658  Minor       0.0881  104.502            4/4    0.646   \n",
       "4    0.0372    -4.672  Minor       0.0710  165.071            4/4    0.908   \n",
       "\n",
       "               artist_and_song         genre  \\\n",
       "0       *nsync /// bye bye bye  [Dance, Pop]   \n",
       "1        *nsync /// girlfriend       [Dance]   \n",
       "2              *nsync /// gone       [Dance]   \n",
       "3   *nsync /// it makes me ill       [Dance]   \n",
       "4  *nsync /// it's gonna be me  [Dance, Pop]   \n",
       "\n",
       "                                              Lyrics  \n",
       "0  (Hey, Hey)\\nBye, Bye, Bye\\nBye, Bye\\nBye, Bye\\...  \n",
       "1  Would you be my girlfriend?\\nWould you be my g...  \n",
       "2  There's a thousand words that I could say,\\nTo...  \n",
       "3  Justin:\\nI was hanging with the fellas\\nSaw yo...  \n",
       "4  You might be hurt babe\\nThat ain't no lie\\nYou...  "
      ]
     },
     "execution_count": 168,
     "metadata": {},
     "output_type": "execute_result"
    }
   ],
   "source": [
    "audio_text_df['Lyrics'] = audio_text_df.artist_and_song.map(artist_song_lyrics_mapping)\n",
    "audio_text_df.head()"
   ]
  },
  {
   "cell_type": "markdown",
   "metadata": {},
   "source": [
    "Lastly fix the key, mode and time_signature columns to have numbers instead of strings and we can start on our multiclass classifier!"
   ]
  },
  {
   "cell_type": "code",
   "execution_count": 170,
   "metadata": {},
   "outputs": [
    {
     "name": "stdout",
     "output_type": "stream",
     "text": [
      "['G#', 'C', 'B', 'E', 'F', 'G', 'A', 'D', 'C#', 'A#', 'D#', 'F#']\n",
      "['Minor', 'Major']\n",
      "['4/4', '3/4', '5/4', '1/4', '0/4']\n",
      "acousticness        float64\n",
      "danceability        float64\n",
      "duration_ms           int64\n",
      "energy              float64\n",
      "instrumentalness    float64\n",
      "key                 float64\n",
      "liveness            float64\n",
      "loudness            float64\n",
      "mode                float64\n",
      "speechiness         float64\n",
      "tempo               float64\n",
      "time_signature      float64\n",
      "valence             float64\n",
      "artist_and_song      object\n",
      "genre                object\n",
      "Lyrics               object\n",
      "dtype: object\n"
     ]
    },
    {
     "data": {
      "text/html": [
       "<div>\n",
       "<style scoped>\n",
       "    .dataframe tbody tr th:only-of-type {\n",
       "        vertical-align: middle;\n",
       "    }\n",
       "\n",
       "    .dataframe tbody tr th {\n",
       "        vertical-align: top;\n",
       "    }\n",
       "\n",
       "    .dataframe thead th {\n",
       "        text-align: right;\n",
       "    }\n",
       "</style>\n",
       "<table border=\"1\" class=\"dataframe\">\n",
       "  <thead>\n",
       "    <tr style=\"text-align: right;\">\n",
       "      <th></th>\n",
       "      <th>acousticness</th>\n",
       "      <th>danceability</th>\n",
       "      <th>duration_ms</th>\n",
       "      <th>energy</th>\n",
       "      <th>instrumentalness</th>\n",
       "      <th>key</th>\n",
       "      <th>liveness</th>\n",
       "      <th>loudness</th>\n",
       "      <th>mode</th>\n",
       "      <th>speechiness</th>\n",
       "      <th>tempo</th>\n",
       "      <th>time_signature</th>\n",
       "      <th>valence</th>\n",
       "      <th>artist_and_song</th>\n",
       "      <th>genre</th>\n",
       "      <th>Lyrics</th>\n",
       "    </tr>\n",
       "  </thead>\n",
       "  <tbody>\n",
       "    <tr>\n",
       "      <th>0</th>\n",
       "      <td>0.03100</td>\n",
       "      <td>0.610</td>\n",
       "      <td>200400</td>\n",
       "      <td>0.926</td>\n",
       "      <td>0.001200</td>\n",
       "      <td>0.000000</td>\n",
       "      <td>0.0821</td>\n",
       "      <td>-4.843</td>\n",
       "      <td>0.0</td>\n",
       "      <td>0.0479</td>\n",
       "      <td>172.638</td>\n",
       "      <td>0.0</td>\n",
       "      <td>0.861</td>\n",
       "      <td>*nsync /// bye bye bye</td>\n",
       "      <td>[Dance, Pop]</td>\n",
       "      <td>(Hey, Hey)\\nBye, Bye, Bye\\nBye, Bye\\nBye, Bye\\...</td>\n",
       "    </tr>\n",
       "    <tr>\n",
       "      <th>1</th>\n",
       "      <td>0.08660</td>\n",
       "      <td>0.748</td>\n",
       "      <td>253600</td>\n",
       "      <td>0.811</td>\n",
       "      <td>0.000015</td>\n",
       "      <td>0.083333</td>\n",
       "      <td>0.0282</td>\n",
       "      <td>-5.213</td>\n",
       "      <td>0.0</td>\n",
       "      <td>0.0907</td>\n",
       "      <td>93.963</td>\n",
       "      <td>0.0</td>\n",
       "      <td>0.862</td>\n",
       "      <td>*nsync /// girlfriend</td>\n",
       "      <td>[Dance]</td>\n",
       "      <td>Would you be my girlfriend?\\nWould you be my g...</td>\n",
       "    </tr>\n",
       "    <tr>\n",
       "      <th>2</th>\n",
       "      <td>0.43000</td>\n",
       "      <td>0.704</td>\n",
       "      <td>292000</td>\n",
       "      <td>0.409</td>\n",
       "      <td>0.000000</td>\n",
       "      <td>0.166667</td>\n",
       "      <td>0.1090</td>\n",
       "      <td>-8.581</td>\n",
       "      <td>0.0</td>\n",
       "      <td>0.0597</td>\n",
       "      <td>113.863</td>\n",
       "      <td>0.0</td>\n",
       "      <td>0.495</td>\n",
       "      <td>*nsync /// gone</td>\n",
       "      <td>[Dance]</td>\n",
       "      <td>There's a thousand words that I could say,\\nTo...</td>\n",
       "    </tr>\n",
       "    <tr>\n",
       "      <th>3</th>\n",
       "      <td>0.00993</td>\n",
       "      <td>0.810</td>\n",
       "      <td>206333</td>\n",
       "      <td>0.857</td>\n",
       "      <td>0.000011</td>\n",
       "      <td>0.250000</td>\n",
       "      <td>0.0528</td>\n",
       "      <td>-4.658</td>\n",
       "      <td>0.0</td>\n",
       "      <td>0.0881</td>\n",
       "      <td>104.502</td>\n",
       "      <td>0.0</td>\n",
       "      <td>0.646</td>\n",
       "      <td>*nsync /// it makes me ill</td>\n",
       "      <td>[Dance]</td>\n",
       "      <td>Justin:\\nI was hanging with the fellas\\nSaw yo...</td>\n",
       "    </tr>\n",
       "    <tr>\n",
       "      <th>4</th>\n",
       "      <td>0.04070</td>\n",
       "      <td>0.636</td>\n",
       "      <td>192427</td>\n",
       "      <td>0.873</td>\n",
       "      <td>0.000001</td>\n",
       "      <td>0.083333</td>\n",
       "      <td>0.0372</td>\n",
       "      <td>-4.672</td>\n",
       "      <td>0.0</td>\n",
       "      <td>0.0710</td>\n",
       "      <td>165.071</td>\n",
       "      <td>0.0</td>\n",
       "      <td>0.908</td>\n",
       "      <td>*nsync /// it's gonna be me</td>\n",
       "      <td>[Dance, Pop]</td>\n",
       "      <td>You might be hurt babe\\nThat ain't no lie\\nYou...</td>\n",
       "    </tr>\n",
       "  </tbody>\n",
       "</table>\n",
       "</div>"
      ],
      "text/plain": [
       "   acousticness  danceability  duration_ms  energy  instrumentalness  \\\n",
       "0       0.03100         0.610       200400   0.926          0.001200   \n",
       "1       0.08660         0.748       253600   0.811          0.000015   \n",
       "2       0.43000         0.704       292000   0.409          0.000000   \n",
       "3       0.00993         0.810       206333   0.857          0.000011   \n",
       "4       0.04070         0.636       192427   0.873          0.000001   \n",
       "\n",
       "        key  liveness  loudness  mode  speechiness    tempo  time_signature  \\\n",
       "0  0.000000    0.0821    -4.843   0.0       0.0479  172.638             0.0   \n",
       "1  0.083333    0.0282    -5.213   0.0       0.0907   93.963             0.0   \n",
       "2  0.166667    0.1090    -8.581   0.0       0.0597  113.863             0.0   \n",
       "3  0.250000    0.0528    -4.658   0.0       0.0881  104.502             0.0   \n",
       "4  0.083333    0.0372    -4.672   0.0       0.0710  165.071             0.0   \n",
       "\n",
       "   valence              artist_and_song         genre  \\\n",
       "0    0.861       *nsync /// bye bye bye  [Dance, Pop]   \n",
       "1    0.862        *nsync /// girlfriend       [Dance]   \n",
       "2    0.495              *nsync /// gone       [Dance]   \n",
       "3    0.646   *nsync /// it makes me ill       [Dance]   \n",
       "4    0.908  *nsync /// it's gonna be me  [Dance, Pop]   \n",
       "\n",
       "                                              Lyrics  \n",
       "0  (Hey, Hey)\\nBye, Bye, Bye\\nBye, Bye\\nBye, Bye\\...  \n",
       "1  Would you be my girlfriend?\\nWould you be my g...  \n",
       "2  There's a thousand words that I could say,\\nTo...  \n",
       "3  Justin:\\nI was hanging with the fellas\\nSaw yo...  \n",
       "4  You might be hurt babe\\nThat ain't no lie\\nYou...  "
      ]
     },
     "execution_count": 170,
     "metadata": {},
     "output_type": "execute_result"
    }
   ],
   "source": [
    "for col in ['key', 'mode', 'time_signature']:\n",
    "    unique_values = list(audio_text_df[col].unique())\n",
    "    print(unique_values)\n",
    "    audio_text_df[col] = audio_text_df[col].map(lambda x: unique_values.index(x) / len(unique_values))\n",
    "\n",
    "print(audio_text_df.dtypes)\n",
    "print\n",
    "audio_text_df.head()"
   ]
  },
  {
   "cell_type": "markdown",
   "metadata": {},
   "source": [
    "WE MAY NEED TO DO SOME LYRICS DATA CLEANING LATER ALSO"
   ]
  },
  {
   "cell_type": "markdown",
   "metadata": {},
   "source": [
    "Lets save this to a CSV-file and continue on a new notebook!"
   ]
  },
  {
   "cell_type": "code",
   "execution_count": 171,
   "metadata": {},
   "outputs": [],
   "source": [
    "audio_text_df.to_csv('./DATASETS/Project_dataset.csv', index = False)"
   ]
  }
 ],
 "metadata": {
  "interpreter": {
   "hash": "b2576a6d18678760ed6536f546e22b496d0bed3c16ff3f1d390fa8bfc056e9f3"
  },
  "kernelspec": {
   "display_name": "Python 3.8.8 ('base')",
   "language": "python",
   "name": "python3"
  },
  "language_info": {
   "codemirror_mode": {
    "name": "ipython",
    "version": 3
   },
   "file_extension": ".py",
   "mimetype": "text/x-python",
   "name": "python",
   "nbconvert_exporter": "python",
   "pygments_lexer": "ipython3",
   "version": "3.8.8"
  },
  "orig_nbformat": 4
 },
 "nbformat": 4,
 "nbformat_minor": 2
}
