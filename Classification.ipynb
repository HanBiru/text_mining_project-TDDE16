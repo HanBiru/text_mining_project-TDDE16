{
 "cells": [
  {
   "attachments": {},
   "cell_type": "markdown",
   "metadata": {},
   "source": [
    "## Summary and Explanations. ##"
   ]
  },
  {
   "attachments": {},
   "cell_type": "markdown",
   "metadata": {},
   "source": [
    "Title: Improving Music Genre Classification using Text Lyrics. \n",
    "\n",
    "Hypothesis: Lyrics does contain important information not shown in the audio itself that can improve audio classifiers.\n",
    "\n",
    "Dataset: Custom built data set combining \n",
    "- source 1\n",
    "- source 2"
   ]
  },
  {
   "attachments": {},
   "cell_type": "markdown",
   "metadata": {},
   "source": [
    "## Imports and load custom data-set. ##"
   ]
  },
  {
   "cell_type": "code",
   "execution_count": 11,
   "metadata": {},
   "outputs": [],
   "source": [
    "import pandas as pd\n",
    "import numpy as np\n",
    "\n",
    "from sklearn.neural_network import MLPClassifier\n",
    "from sklearn.naive_bayes import GaussianNB\n",
    "\n",
    "from sklearn.preprocessing import StandardScaler\n",
    "from sklearn.model_selection import train_test_split\n",
    "from sklearn.preprocessing import LabelEncoder\n",
    "from sklearn.metrics import classification_report\n",
    "\n",
    "data = pd.read_csv('DATASETS/Project_dataset.csv')"
   ]
  },
  {
   "attachments": {},
   "cell_type": "markdown",
   "metadata": {},
   "source": [
    "## Minor changes and some anysis ##"
   ]
  },
  {
   "cell_type": "code",
   "execution_count": 12,
   "metadata": {},
   "outputs": [
    {
     "data": {
      "text/plain": [
       "12440"
      ]
     },
     "execution_count": 12,
     "metadata": {},
     "output_type": "execute_result"
    }
   ],
   "source": [
    "len(data)"
   ]
  },
  {
   "cell_type": "code",
   "execution_count": 13,
   "metadata": {},
   "outputs": [
    {
     "data": {
      "text/plain": [
       "genre\n",
       "Country             1738\n",
       "Ska                 1687\n",
       "Blues               1469\n",
       "Folk                1144\n",
       "Dance                995\n",
       "Rock                 917\n",
       "Electronic           911\n",
       "Reggae               864\n",
       "Soul                 804\n",
       "R&B                  469\n",
       "Jazz                 431\n",
       "Pop                  387\n",
       "Hip-Hop              234\n",
       "Indie                152\n",
       "Children’s Music     122\n",
       "Rap                  116\n",
       "Name: count, dtype: int64"
      ]
     },
     "execution_count": 13,
     "metadata": {},
     "output_type": "execute_result"
    }
   ],
   "source": [
    "data.genre.value_counts()"
   ]
  },
  {
   "cell_type": "code",
   "execution_count": 14,
   "metadata": {},
   "outputs": [
    {
     "name": "stdout",
     "output_type": "stream",
     "text": [
      "Dummy accuracy: 14 %\n"
     ]
    }
   ],
   "source": [
    "print('Dummy accuracy:', round(100 * 1738 / len(data)), '%')"
   ]
  },
  {
   "cell_type": "code",
   "execution_count": 70,
   "metadata": {},
   "outputs": [
    {
     "data": {
      "text/html": [
       "<div>\n",
       "<style scoped>\n",
       "    .dataframe tbody tr th:only-of-type {\n",
       "        vertical-align: middle;\n",
       "    }\n",
       "\n",
       "    .dataframe tbody tr th {\n",
       "        vertical-align: top;\n",
       "    }\n",
       "\n",
       "    .dataframe thead th {\n",
       "        text-align: right;\n",
       "    }\n",
       "</style>\n",
       "<table border=\"1\" class=\"dataframe\">\n",
       "  <thead>\n",
       "    <tr style=\"text-align: right;\">\n",
       "      <th></th>\n",
       "      <th>genre</th>\n",
       "      <th>acousticness</th>\n",
       "      <th>danceability</th>\n",
       "      <th>duration_ms</th>\n",
       "      <th>energy</th>\n",
       "      <th>instrumentalness</th>\n",
       "      <th>key</th>\n",
       "      <th>liveness</th>\n",
       "      <th>loudness</th>\n",
       "      <th>mode</th>\n",
       "      <th>speechiness</th>\n",
       "      <th>tempo</th>\n",
       "      <th>time_signature</th>\n",
       "      <th>valence</th>\n",
       "      <th>artist_and_song</th>\n",
       "      <th>Lyrics</th>\n",
       "    </tr>\n",
       "  </thead>\n",
       "  <tbody>\n",
       "    <tr>\n",
       "      <th>0</th>\n",
       "      <td>2</td>\n",
       "      <td>0.0293</td>\n",
       "      <td>0.387</td>\n",
       "      <td>234307</td>\n",
       "      <td>0.874</td>\n",
       "      <td>0.000017</td>\n",
       "      <td>3</td>\n",
       "      <td>0.1710</td>\n",
       "      <td>-4.528</td>\n",
       "      <td>0</td>\n",
       "      <td>0.0530</td>\n",
       "      <td>168.105</td>\n",
       "      <td>2</td>\n",
       "      <td>0.674</td>\n",
       "      <td>gary allan /// get off on the pain</td>\n",
       "      <td>I don't know why I love women\\r\\nThat love to ...</td>\n",
       "    </tr>\n",
       "    <tr>\n",
       "      <th>1</th>\n",
       "      <td>2</td>\n",
       "      <td>0.1730</td>\n",
       "      <td>0.633</td>\n",
       "      <td>183600</td>\n",
       "      <td>0.444</td>\n",
       "      <td>0.000003</td>\n",
       "      <td>5</td>\n",
       "      <td>0.0821</td>\n",
       "      <td>-14.090</td>\n",
       "      <td>0</td>\n",
       "      <td>0.0264</td>\n",
       "      <td>106.111</td>\n",
       "      <td>1</td>\n",
       "      <td>0.450</td>\n",
       "      <td>hank williams, jr. /// old habits</td>\n",
       "      <td>I kicked the habit, of smoking back some time ...</td>\n",
       "    </tr>\n",
       "    <tr>\n",
       "      <th>2</th>\n",
       "      <td>2</td>\n",
       "      <td>0.0600</td>\n",
       "      <td>0.493</td>\n",
       "      <td>262720</td>\n",
       "      <td>0.780</td>\n",
       "      <td>0.000248</td>\n",
       "      <td>3</td>\n",
       "      <td>0.1920</td>\n",
       "      <td>-4.127</td>\n",
       "      <td>0</td>\n",
       "      <td>0.0485</td>\n",
       "      <td>119.996</td>\n",
       "      <td>2</td>\n",
       "      <td>0.190</td>\n",
       "      <td>carrie underwood /// chaser</td>\n",
       "      <td>I need something strong tonight\\nI'm needing m...</td>\n",
       "    </tr>\n",
       "    <tr>\n",
       "      <th>3</th>\n",
       "      <td>2</td>\n",
       "      <td>0.7730</td>\n",
       "      <td>0.687</td>\n",
       "      <td>320040</td>\n",
       "      <td>0.543</td>\n",
       "      <td>0.000002</td>\n",
       "      <td>10</td>\n",
       "      <td>0.7050</td>\n",
       "      <td>-10.151</td>\n",
       "      <td>0</td>\n",
       "      <td>0.0521</td>\n",
       "      <td>129.296</td>\n",
       "      <td>3</td>\n",
       "      <td>0.807</td>\n",
       "      <td>bobby bare /// the winner</td>\n",
       "      <td>The hulk of a man with a beer in his hand he l...</td>\n",
       "    </tr>\n",
       "    <tr>\n",
       "      <th>4</th>\n",
       "      <td>2</td>\n",
       "      <td>0.0655</td>\n",
       "      <td>0.618</td>\n",
       "      <td>226187</td>\n",
       "      <td>0.790</td>\n",
       "      <td>0.006410</td>\n",
       "      <td>9</td>\n",
       "      <td>0.1100</td>\n",
       "      <td>-4.973</td>\n",
       "      <td>0</td>\n",
       "      <td>0.0445</td>\n",
       "      <td>119.987</td>\n",
       "      <td>2</td>\n",
       "      <td>0.545</td>\n",
       "      <td>brooks &amp; dunn /// proud of the house we built</td>\n",
       "      <td>I dropped to my knees in that field on your da...</td>\n",
       "    </tr>\n",
       "  </tbody>\n",
       "</table>\n",
       "</div>"
      ],
      "text/plain": [
       "  genre  acousticness  danceability  duration_ms  energy  instrumentalness  \\\n",
       "0     2        0.0293         0.387       234307   0.874          0.000017   \n",
       "1     2        0.1730         0.633       183600   0.444          0.000003   \n",
       "2     2        0.0600         0.493       262720   0.780          0.000248   \n",
       "3     2        0.7730         0.687       320040   0.543          0.000002   \n",
       "4     2        0.0655         0.618       226187   0.790          0.006410   \n",
       "\n",
       "  key  liveness  loudness mode  speechiness    tempo time_signature  valence  \\\n",
       "0   3    0.1710    -4.528    0       0.0530  168.105              2    0.674   \n",
       "1   5    0.0821   -14.090    0       0.0264  106.111              1    0.450   \n",
       "2   3    0.1920    -4.127    0       0.0485  119.996              2    0.190   \n",
       "3  10    0.7050   -10.151    0       0.0521  129.296              3    0.807   \n",
       "4   9    0.1100    -4.973    0       0.0445  119.987              2    0.545   \n",
       "\n",
       "                                 artist_and_song  \\\n",
       "0             gary allan /// get off on the pain   \n",
       "1              hank williams, jr. /// old habits   \n",
       "2                    carrie underwood /// chaser   \n",
       "3                      bobby bare /// the winner   \n",
       "4  brooks & dunn /// proud of the house we built   \n",
       "\n",
       "                                              Lyrics  \n",
       "0  I don't know why I love women\\r\\nThat love to ...  \n",
       "1  I kicked the habit, of smoking back some time ...  \n",
       "2  I need something strong tonight\\nI'm needing m...  \n",
       "3  The hulk of a man with a beer in his hand he l...  \n",
       "4  I dropped to my knees in that field on your da...  "
      ]
     },
     "execution_count": 70,
     "metadata": {},
     "output_type": "execute_result"
    }
   ],
   "source": [
    "# Encode the categorical data\n",
    "from sklearn.preprocessing import LabelEncoder\n",
    "\n",
    "le = LabelEncoder()\n",
    "for col in data.columns:\n",
    "    if col in ['genre', 'key', 'mode', 'time_signature']:\n",
    "\n",
    "        data[col] = le.fit_transform(data[col])\n",
    "        data[col] = data[col].astype(\"category\")\n",
    "\n",
    "data.head()\n",
    "\n",
    "# for col in audio_data.columns:\n",
    "#     if col in categorical_columns:\n",
    "#         audio_data[col] = audio_data[col].astype(\"category\")"
   ]
  },
  {
   "cell_type": "code",
   "execution_count": 52,
   "metadata": {},
   "outputs": [
    {
     "data": {
      "text/plain": [
       "2     1738\n",
       "14    1687\n",
       "0     1469\n",
       "5     1144\n",
       "3      995\n",
       "13     917\n",
       "4      911\n",
       "12     864\n",
       "15     804\n",
       "10     469\n",
       "8      431\n",
       "9      387\n",
       "6      234\n",
       "7      152\n",
       "1      122\n",
       "11     116\n",
       "Name: genre, dtype: int64"
      ]
     },
     "execution_count": 52,
     "metadata": {},
     "output_type": "execute_result"
    }
   ],
   "source": [
    "data.genre.value_counts()"
   ]
  },
  {
   "attachments": {},
   "cell_type": "markdown",
   "metadata": {},
   "source": [
    "### Audio Baseline"
   ]
  },
  {
   "cell_type": "code",
   "execution_count": 71,
   "metadata": {},
   "outputs": [],
   "source": [
    "# Load the data\n",
    "labels = data.genre\n",
    "\n",
    "#print(labels)\n",
    "data_audio = data.drop(columns=['genre', 'artist_and_song', 'Lyrics'])\n",
    "\n",
    "# Split the data into train and test sets\n",
    "X_train, X_test, y_train, y_test = train_test_split(data_audio, labels, test_size=0.2,random_state=42)\n",
    "\n",
    "# Scale the data\n",
    "scaler = StandardScaler()\n",
    "X_train = scaler.fit_transform(X_train)\n",
    "X_test = scaler.transform(X_test)\n"
   ]
  },
  {
   "cell_type": "code",
   "execution_count": 54,
   "metadata": {},
   "outputs": [
    {
     "name": "stdout",
     "output_type": "stream",
     "text": [
      "              precision    recall  f1-score   support\n",
      "\n",
      "           0       0.29      0.29      0.29       305\n",
      "           1       0.05      0.05      0.05        22\n",
      "           2       0.44      0.48      0.46       345\n",
      "           3       0.22      0.22      0.22       205\n",
      "           4       0.45      0.41      0.43       186\n",
      "           5       0.19      0.21      0.20       223\n",
      "           6       0.17      0.20      0.18        41\n",
      "           7       0.00      0.00      0.00        26\n",
      "           8       0.33      0.22      0.26        90\n",
      "           9       0.11      0.16      0.13        69\n",
      "          10       0.12      0.08      0.10       107\n",
      "          11       0.00      0.00      0.00        22\n",
      "          12       0.37      0.32      0.35       176\n",
      "          13       0.16      0.15      0.15       165\n",
      "          14       0.65      0.73      0.69       342\n",
      "          15       0.21      0.19      0.20       164\n",
      "\n",
      "    accuracy                           0.34      2488\n",
      "   macro avg       0.23      0.23      0.23      2488\n",
      "weighted avg       0.33      0.34      0.33      2488\n",
      "\n"
     ]
    },
    {
     "name": "stderr",
     "output_type": "stream",
     "text": [
      "/home/hanbiru/anaconda3/lib/python3.8/site-packages/sklearn/neural_network/_multilayer_perceptron.py:686: ConvergenceWarning: Stochastic Optimizer: Maximum iterations (200) reached and the optimization hasn't converged yet.\n",
      "  warnings.warn(\n"
     ]
    }
   ],
   "source": [
    "# Initialize the model\n",
    "clf = MLPClassifier()#hidden_layer_sizes=(256,128,64), max_iter=200)\n",
    "\n",
    "# Train the model\n",
    "clf.fit(X_train, y_train)\n",
    "y_pred = clf.predict(X_test)\n",
    "\n",
    "# Calculate the classification report for this fold\n",
    "report = classification_report(y_test, y_pred)\n",
    "print(report)\n"
   ]
  },
  {
   "cell_type": "code",
   "execution_count": 55,
   "metadata": {},
   "outputs": [
    {
     "name": "stdout",
     "output_type": "stream",
     "text": [
      "              precision    recall  f1-score   support\n",
      "\n",
      "           0       0.42      0.05      0.08       305\n",
      "           1       0.00      0.00      0.00        22\n",
      "           2       0.31      0.76      0.44       345\n",
      "           3       0.24      0.34      0.29       205\n",
      "           4       0.58      0.42      0.49       186\n",
      "           5       0.27      0.32      0.30       223\n",
      "           6       0.27      0.29      0.28        41\n",
      "           7       0.00      0.00      0.00        26\n",
      "           8       0.31      0.14      0.20        90\n",
      "           9       0.00      0.00      0.00        69\n",
      "          10       0.19      0.05      0.08       107\n",
      "          11       0.07      0.05      0.06        22\n",
      "          12       0.35      0.46      0.40       176\n",
      "          13       0.20      0.10      0.13       165\n",
      "          14       0.59      0.69      0.64       342\n",
      "          15       0.21      0.10      0.13       164\n",
      "\n",
      "    accuracy                           0.35      2488\n",
      "   macro avg       0.25      0.24      0.22      2488\n",
      "weighted avg       0.34      0.35      0.31      2488\n",
      "\n"
     ]
    },
    {
     "name": "stderr",
     "output_type": "stream",
     "text": [
      "/home/hanbiru/anaconda3/lib/python3.8/site-packages/sklearn/metrics/_classification.py:1344: UndefinedMetricWarning: Precision and F-score are ill-defined and being set to 0.0 in labels with no predicted samples. Use `zero_division` parameter to control this behavior.\n",
      "  _warn_prf(average, modifier, msg_start, len(result))\n",
      "/home/hanbiru/anaconda3/lib/python3.8/site-packages/sklearn/metrics/_classification.py:1344: UndefinedMetricWarning: Precision and F-score are ill-defined and being set to 0.0 in labels with no predicted samples. Use `zero_division` parameter to control this behavior.\n",
      "  _warn_prf(average, modifier, msg_start, len(result))\n",
      "/home/hanbiru/anaconda3/lib/python3.8/site-packages/sklearn/metrics/_classification.py:1344: UndefinedMetricWarning: Precision and F-score are ill-defined and being set to 0.0 in labels with no predicted samples. Use `zero_division` parameter to control this behavior.\n",
      "  _warn_prf(average, modifier, msg_start, len(result))\n"
     ]
    }
   ],
   "source": [
    "naive_clf = GaussianNB()\n",
    "naive_clf.fit(X_train, y_train)\n",
    "\n",
    "naive_y_pred = naive_clf.predict(X_test)\n",
    "\n",
    "# Calculate the classification report for this fold\n",
    "naive_report = classification_report(y_test, naive_y_pred)\n",
    "print(naive_report)"
   ]
  },
  {
   "cell_type": "code",
   "execution_count": 56,
   "metadata": {},
   "outputs": [],
   "source": [
    "# !pip install pytorch-tabnet"
   ]
  },
  {
   "cell_type": "code",
   "execution_count": 57,
   "metadata": {},
   "outputs": [
    {
     "name": "stderr",
     "output_type": "stream",
     "text": [
      "/home/hanbiru/anaconda3/lib/python3.8/site-packages/pytorch_tabnet/abstract_model.py:75: UserWarning: Device used : cpu\n",
      "  warnings.warn(f\"Device used : {self.device}\")\n",
      "/home/hanbiru/anaconda3/lib/python3.8/site-packages/pytorch_tabnet/abstract_model.py:651: UserWarning: No early stopping will be performed, last training weights will be used.\n",
      "  warnings.warn(wrn_msg)\n"
     ]
    },
    {
     "name": "stdout",
     "output_type": "stream",
     "text": [
      "epoch 0  | loss: 2.96258 |  0:00:00s\n",
      "epoch 1  | loss: 2.55152 |  0:00:00s\n",
      "epoch 2  | loss: 2.42532 |  0:00:01s\n",
      "epoch 3  | loss: 2.33411 |  0:00:01s\n",
      "epoch 4  | loss: 2.26141 |  0:00:02s\n",
      "epoch 5  | loss: 2.20928 |  0:00:02s\n",
      "epoch 6  | loss: 2.17707 |  0:00:03s\n",
      "epoch 7  | loss: 2.13826 |  0:00:03s\n",
      "epoch 8  | loss: 2.12476 |  0:00:03s\n",
      "epoch 9  | loss: 2.09715 |  0:00:04s\n",
      "epoch 10 | loss: 2.07454 |  0:00:04s\n",
      "epoch 11 | loss: 2.03398 |  0:00:05s\n",
      "epoch 12 | loss: 2.01713 |  0:00:05s\n",
      "epoch 13 | loss: 1.98747 |  0:00:06s\n",
      "epoch 14 | loss: 1.99352 |  0:00:06s\n",
      "epoch 15 | loss: 1.9777  |  0:00:06s\n",
      "epoch 16 | loss: 1.96594 |  0:00:07s\n",
      "epoch 17 | loss: 1.94915 |  0:00:07s\n",
      "epoch 18 | loss: 1.95693 |  0:00:08s\n",
      "epoch 19 | loss: 1.94656 |  0:00:08s\n",
      "epoch 20 | loss: 1.93674 |  0:00:08s\n",
      "epoch 21 | loss: 1.91979 |  0:00:09s\n",
      "epoch 22 | loss: 1.91188 |  0:00:09s\n",
      "epoch 23 | loss: 1.91787 |  0:00:09s\n",
      "epoch 24 | loss: 1.91271 |  0:00:10s\n",
      "epoch 25 | loss: 1.90021 |  0:00:10s\n",
      "epoch 26 | loss: 1.89786 |  0:00:11s\n",
      "epoch 27 | loss: 1.88691 |  0:00:11s\n",
      "epoch 28 | loss: 1.88589 |  0:00:12s\n",
      "epoch 29 | loss: 1.88588 |  0:00:12s\n",
      "epoch 30 | loss: 1.87891 |  0:00:13s\n",
      "epoch 31 | loss: 1.87367 |  0:00:13s\n",
      "epoch 32 | loss: 1.87379 |  0:00:13s\n",
      "epoch 33 | loss: 1.86751 |  0:00:14s\n",
      "epoch 34 | loss: 1.86446 |  0:00:14s\n",
      "epoch 35 | loss: 1.86148 |  0:00:15s\n",
      "epoch 36 | loss: 1.85903 |  0:00:15s\n",
      "epoch 37 | loss: 1.86238 |  0:00:16s\n",
      "epoch 38 | loss: 1.85978 |  0:00:16s\n",
      "epoch 39 | loss: 1.85912 |  0:00:16s\n",
      "epoch 40 | loss: 1.85719 |  0:00:17s\n",
      "epoch 41 | loss: 1.84557 |  0:00:17s\n",
      "epoch 42 | loss: 1.85099 |  0:00:18s\n",
      "epoch 43 | loss: 1.8414  |  0:00:18s\n",
      "epoch 44 | loss: 1.83595 |  0:00:18s\n",
      "epoch 45 | loss: 1.83415 |  0:00:19s\n",
      "epoch 46 | loss: 1.8314  |  0:00:19s\n",
      "epoch 47 | loss: 1.82655 |  0:00:20s\n",
      "epoch 48 | loss: 1.82217 |  0:00:20s\n",
      "epoch 49 | loss: 1.82501 |  0:00:21s\n",
      "epoch 50 | loss: 1.82731 |  0:00:21s\n",
      "epoch 51 | loss: 1.82377 |  0:00:21s\n",
      "epoch 52 | loss: 1.82661 |  0:00:22s\n",
      "epoch 53 | loss: 1.8149  |  0:00:22s\n",
      "epoch 54 | loss: 1.82223 |  0:00:23s\n",
      "epoch 55 | loss: 1.8248  |  0:00:23s\n",
      "epoch 56 | loss: 1.8176  |  0:00:23s\n",
      "epoch 57 | loss: 1.82969 |  0:00:24s\n",
      "epoch 58 | loss: 1.81603 |  0:00:24s\n",
      "epoch 59 | loss: 1.81876 |  0:00:25s\n",
      "epoch 60 | loss: 1.81507 |  0:00:25s\n",
      "epoch 61 | loss: 1.80169 |  0:00:26s\n",
      "epoch 62 | loss: 1.80399 |  0:00:26s\n",
      "epoch 63 | loss: 1.80985 |  0:00:26s\n",
      "epoch 64 | loss: 1.80103 |  0:00:27s\n",
      "epoch 65 | loss: 1.79431 |  0:00:27s\n",
      "epoch 66 | loss: 1.79271 |  0:00:28s\n",
      "epoch 67 | loss: 1.80141 |  0:00:28s\n",
      "epoch 68 | loss: 1.79446 |  0:00:29s\n",
      "epoch 69 | loss: 1.78383 |  0:00:29s\n",
      "epoch 70 | loss: 1.79263 |  0:00:30s\n",
      "epoch 71 | loss: 1.78982 |  0:00:30s\n",
      "epoch 72 | loss: 1.7866  |  0:00:30s\n",
      "epoch 73 | loss: 1.79027 |  0:00:31s\n",
      "epoch 74 | loss: 1.78868 |  0:00:31s\n",
      "epoch 75 | loss: 1.80004 |  0:00:32s\n",
      "epoch 76 | loss: 1.78807 |  0:00:32s\n",
      "epoch 77 | loss: 1.7868  |  0:00:33s\n",
      "epoch 78 | loss: 1.78454 |  0:00:33s\n",
      "epoch 79 | loss: 1.77932 |  0:00:33s\n",
      "epoch 80 | loss: 1.78148 |  0:00:34s\n",
      "epoch 81 | loss: 1.77926 |  0:00:34s\n",
      "epoch 82 | loss: 1.78225 |  0:00:35s\n",
      "epoch 83 | loss: 1.776   |  0:00:35s\n",
      "epoch 84 | loss: 1.78156 |  0:00:36s\n",
      "epoch 85 | loss: 1.77533 |  0:00:36s\n",
      "epoch 86 | loss: 1.77419 |  0:00:37s\n",
      "epoch 87 | loss: 1.76377 |  0:00:37s\n",
      "epoch 88 | loss: 1.76724 |  0:00:38s\n",
      "epoch 89 | loss: 1.76403 |  0:00:38s\n",
      "epoch 90 | loss: 1.77388 |  0:00:39s\n",
      "epoch 91 | loss: 1.76446 |  0:00:39s\n",
      "epoch 92 | loss: 1.76499 |  0:00:40s\n",
      "epoch 93 | loss: 1.7575  |  0:00:40s\n",
      "epoch 94 | loss: 1.77532 |  0:00:41s\n",
      "epoch 95 | loss: 1.75745 |  0:00:41s\n",
      "epoch 96 | loss: 1.75358 |  0:00:42s\n",
      "epoch 97 | loss: 1.75275 |  0:00:42s\n",
      "epoch 98 | loss: 1.75469 |  0:00:42s\n",
      "epoch 99 | loss: 1.75915 |  0:00:43s\n"
     ]
    }
   ],
   "source": [
    "from pytorch_tabnet.tab_model import TabNetClassifier\n",
    "\n",
    "tabnet_clf = TabNetClassifier()\n",
    "tabnet_clf.fit(X_train, y_train)"
   ]
  },
  {
   "cell_type": "code",
   "execution_count": 58,
   "metadata": {},
   "outputs": [
    {
     "name": "stdout",
     "output_type": "stream",
     "text": [
      "              precision    recall  f1-score   support\n",
      "\n",
      "           0       0.34      0.40      0.37       305\n",
      "           1       0.00      0.00      0.00        22\n",
      "           2       0.42      0.70      0.53       345\n",
      "           3       0.32      0.29      0.30       205\n",
      "           4       0.59      0.51      0.55       186\n",
      "           5       0.31      0.29      0.30       223\n",
      "           6       0.26      0.37      0.30        41\n",
      "           7       0.00      0.00      0.00        26\n",
      "           8       0.30      0.22      0.26        90\n",
      "           9       0.17      0.01      0.03        69\n",
      "          10       0.23      0.09      0.13       107\n",
      "          11       0.14      0.05      0.07        22\n",
      "          12       0.39      0.45      0.42       176\n",
      "          13       0.21      0.12      0.15       165\n",
      "          14       0.72      0.71      0.71       342\n",
      "          15       0.22      0.24      0.23       164\n",
      "\n",
      "    accuracy                           0.41      2488\n",
      "   macro avg       0.29      0.28      0.27      2488\n",
      "weighted avg       0.38      0.41      0.38      2488\n",
      "\n"
     ]
    },
    {
     "name": "stderr",
     "output_type": "stream",
     "text": [
      "/home/hanbiru/anaconda3/lib/python3.8/site-packages/sklearn/metrics/_classification.py:1344: UndefinedMetricWarning: Precision and F-score are ill-defined and being set to 0.0 in labels with no predicted samples. Use `zero_division` parameter to control this behavior.\n",
      "  _warn_prf(average, modifier, msg_start, len(result))\n",
      "/home/hanbiru/anaconda3/lib/python3.8/site-packages/sklearn/metrics/_classification.py:1344: UndefinedMetricWarning: Precision and F-score are ill-defined and being set to 0.0 in labels with no predicted samples. Use `zero_division` parameter to control this behavior.\n",
      "  _warn_prf(average, modifier, msg_start, len(result))\n",
      "/home/hanbiru/anaconda3/lib/python3.8/site-packages/sklearn/metrics/_classification.py:1344: UndefinedMetricWarning: Precision and F-score are ill-defined and being set to 0.0 in labels with no predicted samples. Use `zero_division` parameter to control this behavior.\n",
      "  _warn_prf(average, modifier, msg_start, len(result))\n"
     ]
    }
   ],
   "source": [
    "tabnet_y_pred = tabnet_clf.predict(X_test)\n",
    "tabnet_report = classification_report(y_test, tabnet_y_pred)\n",
    "print(tabnet_report)"
   ]
  },
  {
   "cell_type": "code",
   "execution_count": 59,
   "metadata": {},
   "outputs": [],
   "source": [
    "# !pip install xgboost"
   ]
  },
  {
   "cell_type": "code",
   "execution_count": 60,
   "metadata": {},
   "outputs": [
    {
     "data": {
      "text/html": [
       "<style>#sk-container-id-1 {color: black;background-color: white;}#sk-container-id-1 pre{padding: 0;}#sk-container-id-1 div.sk-toggleable {background-color: white;}#sk-container-id-1 label.sk-toggleable__label {cursor: pointer;display: block;width: 100%;margin-bottom: 0;padding: 0.3em;box-sizing: border-box;text-align: center;}#sk-container-id-1 label.sk-toggleable__label-arrow:before {content: \"▸\";float: left;margin-right: 0.25em;color: #696969;}#sk-container-id-1 label.sk-toggleable__label-arrow:hover:before {color: black;}#sk-container-id-1 div.sk-estimator:hover label.sk-toggleable__label-arrow:before {color: black;}#sk-container-id-1 div.sk-toggleable__content {max-height: 0;max-width: 0;overflow: hidden;text-align: left;background-color: #f0f8ff;}#sk-container-id-1 div.sk-toggleable__content pre {margin: 0.2em;color: black;border-radius: 0.25em;background-color: #f0f8ff;}#sk-container-id-1 input.sk-toggleable__control:checked~div.sk-toggleable__content {max-height: 200px;max-width: 100%;overflow: auto;}#sk-container-id-1 input.sk-toggleable__control:checked~label.sk-toggleable__label-arrow:before {content: \"▾\";}#sk-container-id-1 div.sk-estimator input.sk-toggleable__control:checked~label.sk-toggleable__label {background-color: #d4ebff;}#sk-container-id-1 div.sk-label input.sk-toggleable__control:checked~label.sk-toggleable__label {background-color: #d4ebff;}#sk-container-id-1 input.sk-hidden--visually {border: 0;clip: rect(1px 1px 1px 1px);clip: rect(1px, 1px, 1px, 1px);height: 1px;margin: -1px;overflow: hidden;padding: 0;position: absolute;width: 1px;}#sk-container-id-1 div.sk-estimator {font-family: monospace;background-color: #f0f8ff;border: 1px dotted black;border-radius: 0.25em;box-sizing: border-box;margin-bottom: 0.5em;}#sk-container-id-1 div.sk-estimator:hover {background-color: #d4ebff;}#sk-container-id-1 div.sk-parallel-item::after {content: \"\";width: 100%;border-bottom: 1px solid gray;flex-grow: 1;}#sk-container-id-1 div.sk-label:hover label.sk-toggleable__label {background-color: #d4ebff;}#sk-container-id-1 div.sk-serial::before {content: \"\";position: absolute;border-left: 1px solid gray;box-sizing: border-box;top: 0;bottom: 0;left: 50%;z-index: 0;}#sk-container-id-1 div.sk-serial {display: flex;flex-direction: column;align-items: center;background-color: white;padding-right: 0.2em;padding-left: 0.2em;position: relative;}#sk-container-id-1 div.sk-item {position: relative;z-index: 1;}#sk-container-id-1 div.sk-parallel {display: flex;align-items: stretch;justify-content: center;background-color: white;position: relative;}#sk-container-id-1 div.sk-item::before, #sk-container-id-1 div.sk-parallel-item::before {content: \"\";position: absolute;border-left: 1px solid gray;box-sizing: border-box;top: 0;bottom: 0;left: 50%;z-index: -1;}#sk-container-id-1 div.sk-parallel-item {display: flex;flex-direction: column;z-index: 1;position: relative;background-color: white;}#sk-container-id-1 div.sk-parallel-item:first-child::after {align-self: flex-end;width: 50%;}#sk-container-id-1 div.sk-parallel-item:last-child::after {align-self: flex-start;width: 50%;}#sk-container-id-1 div.sk-parallel-item:only-child::after {width: 0;}#sk-container-id-1 div.sk-dashed-wrapped {border: 1px dashed gray;margin: 0 0.4em 0.5em 0.4em;box-sizing: border-box;padding-bottom: 0.4em;background-color: white;}#sk-container-id-1 div.sk-label label {font-family: monospace;font-weight: bold;display: inline-block;line-height: 1.2em;}#sk-container-id-1 div.sk-label-container {text-align: center;}#sk-container-id-1 div.sk-container {/* jupyter's `normalize.less` sets `[hidden] { display: none; }` but bootstrap.min.css set `[hidden] { display: none !important; }` so we also need the `!important` here to be able to override the default hidden behavior on the sphinx rendered scikit-learn.org. See: https://github.com/scikit-learn/scikit-learn/issues/21755 */display: inline-block !important;position: relative;}#sk-container-id-1 div.sk-text-repr-fallback {display: none;}</style><div id=\"sk-container-id-1\" class=\"sk-top-container\"><div class=\"sk-text-repr-fallback\"><pre>XGBClassifier(base_score=None, booster=None, callbacks=None,\n",
       "              colsample_bylevel=None, colsample_bynode=None,\n",
       "              colsample_bytree=None, early_stopping_rounds=None,\n",
       "              enable_categorical=False, eval_metric=None, feature_types=None,\n",
       "              gamma=None, gpu_id=None, grow_policy=None, importance_type=None,\n",
       "              interaction_constraints=None, learning_rate=None, max_bin=None,\n",
       "              max_cat_threshold=None, max_cat_to_onehot=None,\n",
       "              max_delta_step=None, max_depth=None, max_leaves=None,\n",
       "              min_child_weight=None, missing=nan, monotone_constraints=None,\n",
       "              n_estimators=100, n_jobs=None, num_parallel_tree=None,\n",
       "              objective=&#x27;multi:softprob&#x27;, predictor=None, ...)</pre><b>In a Jupyter environment, please rerun this cell to show the HTML representation or trust the notebook. <br />On GitHub, the HTML representation is unable to render, please try loading this page with nbviewer.org.</b></div><div class=\"sk-container\" hidden><div class=\"sk-item\"><div class=\"sk-estimator sk-toggleable\"><input class=\"sk-toggleable__control sk-hidden--visually\" id=\"sk-estimator-id-1\" type=\"checkbox\" checked><label for=\"sk-estimator-id-1\" class=\"sk-toggleable__label sk-toggleable__label-arrow\">XGBClassifier</label><div class=\"sk-toggleable__content\"><pre>XGBClassifier(base_score=None, booster=None, callbacks=None,\n",
       "              colsample_bylevel=None, colsample_bynode=None,\n",
       "              colsample_bytree=None, early_stopping_rounds=None,\n",
       "              enable_categorical=False, eval_metric=None, feature_types=None,\n",
       "              gamma=None, gpu_id=None, grow_policy=None, importance_type=None,\n",
       "              interaction_constraints=None, learning_rate=None, max_bin=None,\n",
       "              max_cat_threshold=None, max_cat_to_onehot=None,\n",
       "              max_delta_step=None, max_depth=None, max_leaves=None,\n",
       "              min_child_weight=None, missing=nan, monotone_constraints=None,\n",
       "              n_estimators=100, n_jobs=None, num_parallel_tree=None,\n",
       "              objective=&#x27;multi:softprob&#x27;, predictor=None, ...)</pre></div></div></div></div></div>"
      ],
      "text/plain": [
       "XGBClassifier(base_score=None, booster=None, callbacks=None,\n",
       "              colsample_bylevel=None, colsample_bynode=None,\n",
       "              colsample_bytree=None, early_stopping_rounds=None,\n",
       "              enable_categorical=False, eval_metric=None, feature_types=None,\n",
       "              gamma=None, gpu_id=None, grow_policy=None, importance_type=None,\n",
       "              interaction_constraints=None, learning_rate=None, max_bin=None,\n",
       "              max_cat_threshold=None, max_cat_to_onehot=None,\n",
       "              max_delta_step=None, max_depth=None, max_leaves=None,\n",
       "              min_child_weight=None, missing=nan, monotone_constraints=None,\n",
       "              n_estimators=100, n_jobs=None, num_parallel_tree=None,\n",
       "              objective='multi:softprob', predictor=None, ...)"
      ]
     },
     "execution_count": 60,
     "metadata": {},
     "output_type": "execute_result"
    }
   ],
   "source": [
    "import xgboost as xgb\n",
    "xgb_clf = xgb.XGBClassifier()\n",
    "                            # tree_method=\"gpu_hist\",\n",
    "                            # early_stopping_rounds=20,\n",
    "                            # eval_metric=['mlogloss'],\n",
    "                            # enable_categorical=True,\n",
    "                            # seed=42)\n",
    "\n",
    "\n",
    "# classes_weights = class_weight.compute_sample_weight(\n",
    "#     class_weight='balanced',\n",
    "#     y=audio_data['genre'])\n",
    "\n",
    "xgb_clf.fit(X_train, y_train)"
   ]
  },
  {
   "cell_type": "code",
   "execution_count": 61,
   "metadata": {},
   "outputs": [
    {
     "name": "stdout",
     "output_type": "stream",
     "text": [
      "              precision    recall  f1-score   support\n",
      "\n",
      "           0       0.41      0.43      0.42       305\n",
      "           1       0.25      0.05      0.08        22\n",
      "           2       0.46      0.63      0.53       345\n",
      "           3       0.27      0.30      0.28       205\n",
      "           4       0.57      0.59      0.58       186\n",
      "           5       0.30      0.35      0.33       223\n",
      "           6       0.30      0.27      0.28        41\n",
      "           7       0.00      0.00      0.00        26\n",
      "           8       0.43      0.22      0.29        90\n",
      "           9       0.19      0.07      0.11        69\n",
      "          10       0.24      0.11      0.15       107\n",
      "          11       0.17      0.05      0.07        22\n",
      "          12       0.46      0.51      0.48       176\n",
      "          13       0.17      0.15      0.16       165\n",
      "          14       0.69      0.75      0.72       342\n",
      "          15       0.23      0.20      0.21       164\n",
      "\n",
      "    accuracy                           0.42      2488\n",
      "   macro avg       0.32      0.29      0.29      2488\n",
      "weighted avg       0.40      0.42      0.40      2488\n",
      "\n"
     ]
    },
    {
     "name": "stderr",
     "output_type": "stream",
     "text": [
      "/home/hanbiru/anaconda3/lib/python3.8/site-packages/sklearn/metrics/_classification.py:1344: UndefinedMetricWarning: Precision and F-score are ill-defined and being set to 0.0 in labels with no predicted samples. Use `zero_division` parameter to control this behavior.\n",
      "  _warn_prf(average, modifier, msg_start, len(result))\n",
      "/home/hanbiru/anaconda3/lib/python3.8/site-packages/sklearn/metrics/_classification.py:1344: UndefinedMetricWarning: Precision and F-score are ill-defined and being set to 0.0 in labels with no predicted samples. Use `zero_division` parameter to control this behavior.\n",
      "  _warn_prf(average, modifier, msg_start, len(result))\n",
      "/home/hanbiru/anaconda3/lib/python3.8/site-packages/sklearn/metrics/_classification.py:1344: UndefinedMetricWarning: Precision and F-score are ill-defined and being set to 0.0 in labels with no predicted samples. Use `zero_division` parameter to control this behavior.\n",
      "  _warn_prf(average, modifier, msg_start, len(result))\n"
     ]
    }
   ],
   "source": [
    "xgb_y_pred = xgb_clf.predict(X_test)\n",
    "xgb_report = classification_report(y_test, xgb_y_pred)\n",
    "print(xgb_report)"
   ]
  },
  {
   "cell_type": "code",
   "execution_count": 74,
   "metadata": {},
   "outputs": [
    {
     "data": {
      "text/html": [
       "<style>#sk-container-id-5 {color: black;background-color: white;}#sk-container-id-5 pre{padding: 0;}#sk-container-id-5 div.sk-toggleable {background-color: white;}#sk-container-id-5 label.sk-toggleable__label {cursor: pointer;display: block;width: 100%;margin-bottom: 0;padding: 0.3em;box-sizing: border-box;text-align: center;}#sk-container-id-5 label.sk-toggleable__label-arrow:before {content: \"▸\";float: left;margin-right: 0.25em;color: #696969;}#sk-container-id-5 label.sk-toggleable__label-arrow:hover:before {color: black;}#sk-container-id-5 div.sk-estimator:hover label.sk-toggleable__label-arrow:before {color: black;}#sk-container-id-5 div.sk-toggleable__content {max-height: 0;max-width: 0;overflow: hidden;text-align: left;background-color: #f0f8ff;}#sk-container-id-5 div.sk-toggleable__content pre {margin: 0.2em;color: black;border-radius: 0.25em;background-color: #f0f8ff;}#sk-container-id-5 input.sk-toggleable__control:checked~div.sk-toggleable__content {max-height: 200px;max-width: 100%;overflow: auto;}#sk-container-id-5 input.sk-toggleable__control:checked~label.sk-toggleable__label-arrow:before {content: \"▾\";}#sk-container-id-5 div.sk-estimator input.sk-toggleable__control:checked~label.sk-toggleable__label {background-color: #d4ebff;}#sk-container-id-5 div.sk-label input.sk-toggleable__control:checked~label.sk-toggleable__label {background-color: #d4ebff;}#sk-container-id-5 input.sk-hidden--visually {border: 0;clip: rect(1px 1px 1px 1px);clip: rect(1px, 1px, 1px, 1px);height: 1px;margin: -1px;overflow: hidden;padding: 0;position: absolute;width: 1px;}#sk-container-id-5 div.sk-estimator {font-family: monospace;background-color: #f0f8ff;border: 1px dotted black;border-radius: 0.25em;box-sizing: border-box;margin-bottom: 0.5em;}#sk-container-id-5 div.sk-estimator:hover {background-color: #d4ebff;}#sk-container-id-5 div.sk-parallel-item::after {content: \"\";width: 100%;border-bottom: 1px solid gray;flex-grow: 1;}#sk-container-id-5 div.sk-label:hover label.sk-toggleable__label {background-color: #d4ebff;}#sk-container-id-5 div.sk-serial::before {content: \"\";position: absolute;border-left: 1px solid gray;box-sizing: border-box;top: 0;bottom: 0;left: 50%;z-index: 0;}#sk-container-id-5 div.sk-serial {display: flex;flex-direction: column;align-items: center;background-color: white;padding-right: 0.2em;padding-left: 0.2em;position: relative;}#sk-container-id-5 div.sk-item {position: relative;z-index: 1;}#sk-container-id-5 div.sk-parallel {display: flex;align-items: stretch;justify-content: center;background-color: white;position: relative;}#sk-container-id-5 div.sk-item::before, #sk-container-id-5 div.sk-parallel-item::before {content: \"\";position: absolute;border-left: 1px solid gray;box-sizing: border-box;top: 0;bottom: 0;left: 50%;z-index: -1;}#sk-container-id-5 div.sk-parallel-item {display: flex;flex-direction: column;z-index: 1;position: relative;background-color: white;}#sk-container-id-5 div.sk-parallel-item:first-child::after {align-self: flex-end;width: 50%;}#sk-container-id-5 div.sk-parallel-item:last-child::after {align-self: flex-start;width: 50%;}#sk-container-id-5 div.sk-parallel-item:only-child::after {width: 0;}#sk-container-id-5 div.sk-dashed-wrapped {border: 1px dashed gray;margin: 0 0.4em 0.5em 0.4em;box-sizing: border-box;padding-bottom: 0.4em;background-color: white;}#sk-container-id-5 div.sk-label label {font-family: monospace;font-weight: bold;display: inline-block;line-height: 1.2em;}#sk-container-id-5 div.sk-label-container {text-align: center;}#sk-container-id-5 div.sk-container {/* jupyter's `normalize.less` sets `[hidden] { display: none; }` but bootstrap.min.css set `[hidden] { display: none !important; }` so we also need the `!important` here to be able to override the default hidden behavior on the sphinx rendered scikit-learn.org. See: https://github.com/scikit-learn/scikit-learn/issues/21755 */display: inline-block !important;position: relative;}#sk-container-id-5 div.sk-text-repr-fallback {display: none;}</style><div id=\"sk-container-id-5\" class=\"sk-top-container\"><div class=\"sk-text-repr-fallback\"><pre>XGBClassifier(base_score=None, booster=None, callbacks=None,\n",
       "              colsample_bylevel=None, colsample_bynode=None,\n",
       "              colsample_bytree=0.9977007889943236, early_stopping_rounds=None,\n",
       "              enable_categorical=True, eval_metric=None, feature_types=None,\n",
       "              gamma=0.002238238469617126, gpu_id=None, grow_policy=None,\n",
       "              importance_type=None, interaction_constraints=None,\n",
       "              learning_rate=0.03711299495104505, max_bin=None,\n",
       "              max_cat_threshold=None, max_cat_to_onehot=None,\n",
       "              max_delta_step=None, max_depth=4, max_leaves=None,\n",
       "              min_child_weight=10, missing=nan, monotone_constraints=None,\n",
       "              n_estimators=447, n_jobs=None, num_parallel_tree=None,\n",
       "              objective=&#x27;multi:softprob&#x27;, predictor=None, ...)</pre><b>In a Jupyter environment, please rerun this cell to show the HTML representation or trust the notebook. <br />On GitHub, the HTML representation is unable to render, please try loading this page with nbviewer.org.</b></div><div class=\"sk-container\" hidden><div class=\"sk-item\"><div class=\"sk-estimator sk-toggleable\"><input class=\"sk-toggleable__control sk-hidden--visually\" id=\"sk-estimator-id-5\" type=\"checkbox\" checked><label for=\"sk-estimator-id-5\" class=\"sk-toggleable__label sk-toggleable__label-arrow\">XGBClassifier</label><div class=\"sk-toggleable__content\"><pre>XGBClassifier(base_score=None, booster=None, callbacks=None,\n",
       "              colsample_bylevel=None, colsample_bynode=None,\n",
       "              colsample_bytree=0.9977007889943236, early_stopping_rounds=None,\n",
       "              enable_categorical=True, eval_metric=None, feature_types=None,\n",
       "              gamma=0.002238238469617126, gpu_id=None, grow_policy=None,\n",
       "              importance_type=None, interaction_constraints=None,\n",
       "              learning_rate=0.03711299495104505, max_bin=None,\n",
       "              max_cat_threshold=None, max_cat_to_onehot=None,\n",
       "              max_delta_step=None, max_depth=4, max_leaves=None,\n",
       "              min_child_weight=10, missing=nan, monotone_constraints=None,\n",
       "              n_estimators=447, n_jobs=None, num_parallel_tree=None,\n",
       "              objective=&#x27;multi:softprob&#x27;, predictor=None, ...)</pre></div></div></div></div></div>"
      ],
      "text/plain": [
       "XGBClassifier(base_score=None, booster=None, callbacks=None,\n",
       "              colsample_bylevel=None, colsample_bynode=None,\n",
       "              colsample_bytree=0.9977007889943236, early_stopping_rounds=None,\n",
       "              enable_categorical=True, eval_metric=None, feature_types=None,\n",
       "              gamma=0.002238238469617126, gpu_id=None, grow_policy=None,\n",
       "              importance_type=None, interaction_constraints=None,\n",
       "              learning_rate=0.03711299495104505, max_bin=None,\n",
       "              max_cat_threshold=None, max_cat_to_onehot=None,\n",
       "              max_delta_step=None, max_depth=4, max_leaves=None,\n",
       "              min_child_weight=10, missing=nan, monotone_constraints=None,\n",
       "              n_estimators=447, n_jobs=None, num_parallel_tree=None,\n",
       "              objective='multi:softprob', predictor=None, ...)"
      ]
     },
     "execution_count": 74,
     "metadata": {},
     "output_type": "execute_result"
    }
   ],
   "source": [
    "best_XGB_params = {\n",
    "                'max_depth': 4,\n",
    "                'learning_rate': 0.03711299495104505,\n",
    "                'n_estimators': 447,\n",
    "                'min_child_weight': 10,\n",
    "                'gamma': 0.002238238469617126,\n",
    "                'subsample': 0.849826493051354,\n",
    "                'colsample_bytree': 0.9977007889943236,\n",
    "                'reg_alpha': 0.15538382519234734,\n",
    "                'reg_lambda': 7.07955517130104e-07,\n",
    "                'enable_categorical' : True,\n",
    "                'tree_method' : \"hist\"\n",
    "               }\n",
    "\n",
    "xgb2_clf = xgb.XGBClassifier(**best_XGB_params)\n",
    "\n",
    "xgb2_clf.fit(X_train, y_train)"
   ]
  },
  {
   "cell_type": "code",
   "execution_count": 75,
   "metadata": {},
   "outputs": [
    {
     "name": "stdout",
     "output_type": "stream",
     "text": [
      "              precision    recall  f1-score   support\n",
      "\n",
      "           0       0.44      0.48      0.46       305\n",
      "           1       0.40      0.09      0.15        22\n",
      "           2       0.45      0.67      0.54       345\n",
      "           3       0.32      0.34      0.33       205\n",
      "           4       0.55      0.61      0.58       186\n",
      "           5       0.29      0.32      0.31       223\n",
      "           6       0.30      0.34      0.32        41\n",
      "           7       0.00      0.00      0.00        26\n",
      "           8       0.50      0.24      0.33        90\n",
      "           9       0.06      0.01      0.02        69\n",
      "          10       0.20      0.10      0.14       107\n",
      "          11       0.18      0.09      0.12        22\n",
      "          12       0.46      0.52      0.49       176\n",
      "          13       0.20      0.13      0.16       165\n",
      "          14       0.72      0.77      0.75       342\n",
      "          15       0.28      0.21      0.24       164\n",
      "\n",
      "    accuracy                           0.44      2488\n",
      "   macro avg       0.33      0.31      0.31      2488\n",
      "weighted avg       0.41      0.44      0.42      2488\n",
      "\n"
     ]
    },
    {
     "name": "stderr",
     "output_type": "stream",
     "text": [
      "/home/hanbiru/anaconda3/lib/python3.8/site-packages/sklearn/metrics/_classification.py:1344: UndefinedMetricWarning: Precision and F-score are ill-defined and being set to 0.0 in labels with no predicted samples. Use `zero_division` parameter to control this behavior.\n",
      "  _warn_prf(average, modifier, msg_start, len(result))\n",
      "/home/hanbiru/anaconda3/lib/python3.8/site-packages/sklearn/metrics/_classification.py:1344: UndefinedMetricWarning: Precision and F-score are ill-defined and being set to 0.0 in labels with no predicted samples. Use `zero_division` parameter to control this behavior.\n",
      "  _warn_prf(average, modifier, msg_start, len(result))\n",
      "/home/hanbiru/anaconda3/lib/python3.8/site-packages/sklearn/metrics/_classification.py:1344: UndefinedMetricWarning: Precision and F-score are ill-defined and being set to 0.0 in labels with no predicted samples. Use `zero_division` parameter to control this behavior.\n",
      "  _warn_prf(average, modifier, msg_start, len(result))\n"
     ]
    }
   ],
   "source": [
    "xgb2_y_pred = xgb2_clf.predict(X_test)\n",
    "xgb2_report = classification_report(y_test, xgb2_y_pred)\n",
    "print(xgb2_report)"
   ]
  },
  {
   "cell_type": "code",
   "execution_count": 64,
   "metadata": {},
   "outputs": [
    {
     "name": "stdout",
     "output_type": "stream",
     "text": [
      "Requirement already satisfied: imbalanced-learn==0.7.0 in /home/hanbiru/anaconda3/lib/python3.8/site-packages (0.7.0)\n",
      "Requirement already satisfied: scikit-learn>=0.23 in /home/hanbiru/anaconda3/lib/python3.8/site-packages (from imbalanced-learn==0.7.0) (1.2.2)\n",
      "Requirement already satisfied: numpy>=1.13.3 in /home/hanbiru/anaconda3/lib/python3.8/site-packages (from imbalanced-learn==0.7.0) (1.20.1)\n",
      "Requirement already satisfied: joblib>=0.11 in /home/hanbiru/anaconda3/lib/python3.8/site-packages (from imbalanced-learn==0.7.0) (1.2.0)\n",
      "Requirement already satisfied: scipy>=0.19.1 in /home/hanbiru/anaconda3/lib/python3.8/site-packages (from imbalanced-learn==0.7.0) (1.6.2)\n",
      "Requirement already satisfied: threadpoolctl>=2.0.0 in /home/hanbiru/anaconda3/lib/python3.8/site-packages (from scikit-learn>=0.23->imbalanced-learn==0.7.0) (2.1.0)\n"
     ]
    }
   ],
   "source": [
    "#!pip install imbalanced-learn==0.7.0"
   ]
  },
  {
   "cell_type": "code",
   "execution_count": 76,
   "metadata": {},
   "outputs": [
    {
     "data": {
      "text/html": [
       "<style>#sk-container-id-6 {color: black;background-color: white;}#sk-container-id-6 pre{padding: 0;}#sk-container-id-6 div.sk-toggleable {background-color: white;}#sk-container-id-6 label.sk-toggleable__label {cursor: pointer;display: block;width: 100%;margin-bottom: 0;padding: 0.3em;box-sizing: border-box;text-align: center;}#sk-container-id-6 label.sk-toggleable__label-arrow:before {content: \"▸\";float: left;margin-right: 0.25em;color: #696969;}#sk-container-id-6 label.sk-toggleable__label-arrow:hover:before {color: black;}#sk-container-id-6 div.sk-estimator:hover label.sk-toggleable__label-arrow:before {color: black;}#sk-container-id-6 div.sk-toggleable__content {max-height: 0;max-width: 0;overflow: hidden;text-align: left;background-color: #f0f8ff;}#sk-container-id-6 div.sk-toggleable__content pre {margin: 0.2em;color: black;border-radius: 0.25em;background-color: #f0f8ff;}#sk-container-id-6 input.sk-toggleable__control:checked~div.sk-toggleable__content {max-height: 200px;max-width: 100%;overflow: auto;}#sk-container-id-6 input.sk-toggleable__control:checked~label.sk-toggleable__label-arrow:before {content: \"▾\";}#sk-container-id-6 div.sk-estimator input.sk-toggleable__control:checked~label.sk-toggleable__label {background-color: #d4ebff;}#sk-container-id-6 div.sk-label input.sk-toggleable__control:checked~label.sk-toggleable__label {background-color: #d4ebff;}#sk-container-id-6 input.sk-hidden--visually {border: 0;clip: rect(1px 1px 1px 1px);clip: rect(1px, 1px, 1px, 1px);height: 1px;margin: -1px;overflow: hidden;padding: 0;position: absolute;width: 1px;}#sk-container-id-6 div.sk-estimator {font-family: monospace;background-color: #f0f8ff;border: 1px dotted black;border-radius: 0.25em;box-sizing: border-box;margin-bottom: 0.5em;}#sk-container-id-6 div.sk-estimator:hover {background-color: #d4ebff;}#sk-container-id-6 div.sk-parallel-item::after {content: \"\";width: 100%;border-bottom: 1px solid gray;flex-grow: 1;}#sk-container-id-6 div.sk-label:hover label.sk-toggleable__label {background-color: #d4ebff;}#sk-container-id-6 div.sk-serial::before {content: \"\";position: absolute;border-left: 1px solid gray;box-sizing: border-box;top: 0;bottom: 0;left: 50%;z-index: 0;}#sk-container-id-6 div.sk-serial {display: flex;flex-direction: column;align-items: center;background-color: white;padding-right: 0.2em;padding-left: 0.2em;position: relative;}#sk-container-id-6 div.sk-item {position: relative;z-index: 1;}#sk-container-id-6 div.sk-parallel {display: flex;align-items: stretch;justify-content: center;background-color: white;position: relative;}#sk-container-id-6 div.sk-item::before, #sk-container-id-6 div.sk-parallel-item::before {content: \"\";position: absolute;border-left: 1px solid gray;box-sizing: border-box;top: 0;bottom: 0;left: 50%;z-index: -1;}#sk-container-id-6 div.sk-parallel-item {display: flex;flex-direction: column;z-index: 1;position: relative;background-color: white;}#sk-container-id-6 div.sk-parallel-item:first-child::after {align-self: flex-end;width: 50%;}#sk-container-id-6 div.sk-parallel-item:last-child::after {align-self: flex-start;width: 50%;}#sk-container-id-6 div.sk-parallel-item:only-child::after {width: 0;}#sk-container-id-6 div.sk-dashed-wrapped {border: 1px dashed gray;margin: 0 0.4em 0.5em 0.4em;box-sizing: border-box;padding-bottom: 0.4em;background-color: white;}#sk-container-id-6 div.sk-label label {font-family: monospace;font-weight: bold;display: inline-block;line-height: 1.2em;}#sk-container-id-6 div.sk-label-container {text-align: center;}#sk-container-id-6 div.sk-container {/* jupyter's `normalize.less` sets `[hidden] { display: none; }` but bootstrap.min.css set `[hidden] { display: none !important; }` so we also need the `!important` here to be able to override the default hidden behavior on the sphinx rendered scikit-learn.org. See: https://github.com/scikit-learn/scikit-learn/issues/21755 */display: inline-block !important;position: relative;}#sk-container-id-6 div.sk-text-repr-fallback {display: none;}</style><div id=\"sk-container-id-6\" class=\"sk-top-container\"><div class=\"sk-text-repr-fallback\"><pre>XGBClassifier(base_score=None, booster=None, callbacks=None,\n",
       "              colsample_bylevel=None, colsample_bynode=None,\n",
       "              colsample_bytree=None, early_stopping_rounds=None,\n",
       "              enable_categorical=False, eval_metric=None, feature_types=None,\n",
       "              gamma=None, gpu_id=None, grow_policy=None, importance_type=None,\n",
       "              interaction_constraints=None, learning_rate=None, max_bin=None,\n",
       "              max_cat_threshold=None, max_cat_to_onehot=None,\n",
       "              max_delta_step=None, max_depth=None, max_leaves=None,\n",
       "              min_child_weight=None, missing=nan, monotone_constraints=None,\n",
       "              n_estimators=100, n_jobs=None, num_parallel_tree=None,\n",
       "              objective=&#x27;multi:softprob&#x27;, predictor=None, ...)</pre><b>In a Jupyter environment, please rerun this cell to show the HTML representation or trust the notebook. <br />On GitHub, the HTML representation is unable to render, please try loading this page with nbviewer.org.</b></div><div class=\"sk-container\" hidden><div class=\"sk-item\"><div class=\"sk-estimator sk-toggleable\"><input class=\"sk-toggleable__control sk-hidden--visually\" id=\"sk-estimator-id-6\" type=\"checkbox\" checked><label for=\"sk-estimator-id-6\" class=\"sk-toggleable__label sk-toggleable__label-arrow\">XGBClassifier</label><div class=\"sk-toggleable__content\"><pre>XGBClassifier(base_score=None, booster=None, callbacks=None,\n",
       "              colsample_bylevel=None, colsample_bynode=None,\n",
       "              colsample_bytree=None, early_stopping_rounds=None,\n",
       "              enable_categorical=False, eval_metric=None, feature_types=None,\n",
       "              gamma=None, gpu_id=None, grow_policy=None, importance_type=None,\n",
       "              interaction_constraints=None, learning_rate=None, max_bin=None,\n",
       "              max_cat_threshold=None, max_cat_to_onehot=None,\n",
       "              max_delta_step=None, max_depth=None, max_leaves=None,\n",
       "              min_child_weight=None, missing=nan, monotone_constraints=None,\n",
       "              n_estimators=100, n_jobs=None, num_parallel_tree=None,\n",
       "              objective=&#x27;multi:softprob&#x27;, predictor=None, ...)</pre></div></div></div></div></div>"
      ],
      "text/plain": [
       "XGBClassifier(base_score=None, booster=None, callbacks=None,\n",
       "              colsample_bylevel=None, colsample_bynode=None,\n",
       "              colsample_bytree=None, early_stopping_rounds=None,\n",
       "              enable_categorical=False, eval_metric=None, feature_types=None,\n",
       "              gamma=None, gpu_id=None, grow_policy=None, importance_type=None,\n",
       "              interaction_constraints=None, learning_rate=None, max_bin=None,\n",
       "              max_cat_threshold=None, max_cat_to_onehot=None,\n",
       "              max_delta_step=None, max_depth=None, max_leaves=None,\n",
       "              min_child_weight=None, missing=nan, monotone_constraints=None,\n",
       "              n_estimators=100, n_jobs=None, num_parallel_tree=None,\n",
       "              objective='multi:softprob', predictor=None, ...)"
      ]
     },
     "execution_count": 76,
     "metadata": {},
     "output_type": "execute_result"
    }
   ],
   "source": [
    "from imblearn.over_sampling import SMOTE\n",
    "\n",
    "sm = SMOTE(random_state=42)\n",
    "\n",
    "X_res, y_res = sm.fit_resample(X_train, y_train)\n",
    "\n",
    "xgb3_clf = xgb.XGBClassifier()#**best_XGB_params)\n",
    "\n",
    "xgb3_clf.fit(X_res, y_res)"
   ]
  },
  {
   "cell_type": "code",
   "execution_count": 77,
   "metadata": {},
   "outputs": [
    {
     "name": "stdout",
     "output_type": "stream",
     "text": [
      "              precision    recall  f1-score   support\n",
      "\n",
      "           0       0.46      0.38      0.42       305\n",
      "           1       0.13      0.18      0.15        22\n",
      "           2       0.48      0.53      0.50       345\n",
      "           3       0.29      0.27      0.28       205\n",
      "           4       0.53      0.55      0.54       186\n",
      "           5       0.25      0.26      0.25       223\n",
      "           6       0.22      0.34      0.27        41\n",
      "           7       0.00      0.00      0.00        26\n",
      "           8       0.33      0.29      0.31        90\n",
      "           9       0.07      0.07      0.07        69\n",
      "          10       0.24      0.21      0.22       107\n",
      "          11       0.09      0.09      0.09        22\n",
      "          12       0.45      0.49      0.47       176\n",
      "          13       0.21      0.19      0.20       165\n",
      "          14       0.74      0.71      0.72       342\n",
      "          15       0.19      0.20      0.20       164\n",
      "\n",
      "    accuracy                           0.39      2488\n",
      "   macro avg       0.29      0.30      0.29      2488\n",
      "weighted avg       0.40      0.39      0.40      2488\n",
      "\n"
     ]
    }
   ],
   "source": [
    "xgb3_y_pred = xgb3_clf.predict(X_test)\n",
    "xgb3_report = classification_report(y_test, xgb3_y_pred)\n",
    "print(xgb3_report)"
   ]
  },
  {
   "cell_type": "code",
   "execution_count": 78,
   "metadata": {},
   "outputs": [
    {
     "name": "stderr",
     "output_type": "stream",
     "text": [
      "/home/hanbiru/anaconda3/lib/python3.8/site-packages/pytorch_tabnet/abstract_model.py:75: UserWarning: Device used : cpu\n",
      "  warnings.warn(f\"Device used : {self.device}\")\n",
      "/home/hanbiru/anaconda3/lib/python3.8/site-packages/pytorch_tabnet/abstract_model.py:651: UserWarning: No early stopping will be performed, last training weights will be used.\n",
      "  warnings.warn(wrn_msg)\n"
     ]
    },
    {
     "name": "stdout",
     "output_type": "stream",
     "text": [
      "epoch 0  | loss: 2.79921 |  0:00:01s\n",
      "epoch 1  | loss: 2.48069 |  0:00:01s\n",
      "epoch 2  | loss: 2.31711 |  0:00:02s\n",
      "epoch 3  | loss: 2.23823 |  0:00:03s\n",
      "epoch 4  | loss: 2.17958 |  0:00:04s\n",
      "epoch 5  | loss: 2.13947 |  0:00:05s\n",
      "epoch 6  | loss: 2.10044 |  0:00:06s\n",
      "epoch 7  | loss: 2.07707 |  0:00:07s\n",
      "epoch 8  | loss: 2.05519 |  0:00:08s\n",
      "epoch 9  | loss: 2.04709 |  0:00:09s\n",
      "epoch 10 | loss: 2.03045 |  0:00:09s\n",
      "epoch 11 | loss: 2.01601 |  0:00:11s\n",
      "epoch 12 | loss: 2.00572 |  0:00:12s\n",
      "epoch 13 | loss: 1.99207 |  0:00:12s\n",
      "epoch 14 | loss: 1.98351 |  0:00:13s\n",
      "epoch 15 | loss: 1.96179 |  0:00:14s\n",
      "epoch 16 | loss: 1.94959 |  0:00:15s\n",
      "epoch 17 | loss: 1.93701 |  0:00:16s\n",
      "epoch 18 | loss: 1.93451 |  0:00:17s\n",
      "epoch 19 | loss: 1.93144 |  0:00:18s\n",
      "epoch 20 | loss: 1.91482 |  0:00:19s\n",
      "epoch 21 | loss: 1.89645 |  0:00:20s\n",
      "epoch 22 | loss: 1.89656 |  0:00:21s\n",
      "epoch 23 | loss: 1.8789  |  0:00:22s\n",
      "epoch 24 | loss: 1.88147 |  0:00:23s\n",
      "epoch 25 | loss: 1.87127 |  0:00:23s\n",
      "epoch 26 | loss: 1.86774 |  0:00:24s\n",
      "epoch 27 | loss: 1.85641 |  0:00:25s\n",
      "epoch 28 | loss: 1.86189 |  0:00:26s\n",
      "epoch 29 | loss: 1.84486 |  0:00:27s\n",
      "epoch 30 | loss: 1.82882 |  0:00:28s\n",
      "epoch 31 | loss: 1.82719 |  0:00:29s\n",
      "epoch 32 | loss: 1.81893 |  0:00:30s\n",
      "epoch 33 | loss: 1.80172 |  0:00:31s\n",
      "epoch 34 | loss: 1.79394 |  0:00:32s\n",
      "epoch 35 | loss: 1.80021 |  0:00:33s\n",
      "epoch 36 | loss: 1.77894 |  0:00:34s\n",
      "epoch 37 | loss: 1.77643 |  0:00:35s\n",
      "epoch 38 | loss: 1.76243 |  0:00:36s\n",
      "epoch 39 | loss: 1.76554 |  0:00:37s\n",
      "epoch 40 | loss: 1.76243 |  0:00:38s\n",
      "epoch 41 | loss: 1.76908 |  0:00:39s\n",
      "epoch 42 | loss: 1.76068 |  0:00:40s\n",
      "epoch 43 | loss: 1.74701 |  0:00:41s\n",
      "epoch 44 | loss: 1.73863 |  0:00:42s\n",
      "epoch 45 | loss: 1.75482 |  0:00:43s\n",
      "epoch 46 | loss: 1.76832 |  0:00:44s\n",
      "epoch 47 | loss: 1.75272 |  0:00:45s\n",
      "epoch 48 | loss: 1.7412  |  0:00:46s\n",
      "epoch 49 | loss: 1.72898 |  0:00:47s\n",
      "epoch 50 | loss: 1.72708 |  0:00:48s\n",
      "epoch 51 | loss: 1.73226 |  0:00:49s\n",
      "epoch 52 | loss: 1.71411 |  0:00:50s\n",
      "epoch 53 | loss: 1.71914 |  0:00:51s\n",
      "epoch 54 | loss: 1.72654 |  0:00:51s\n",
      "epoch 55 | loss: 1.70228 |  0:00:52s\n",
      "epoch 56 | loss: 1.6832  |  0:00:53s\n",
      "epoch 57 | loss: 1.69439 |  0:00:54s\n",
      "epoch 58 | loss: 1.68784 |  0:00:55s\n",
      "epoch 59 | loss: 1.68303 |  0:00:56s\n",
      "epoch 60 | loss: 1.68454 |  0:00:57s\n",
      "epoch 61 | loss: 1.69252 |  0:00:58s\n",
      "epoch 62 | loss: 1.68313 |  0:00:59s\n",
      "epoch 63 | loss: 1.67817 |  0:01:00s\n",
      "epoch 64 | loss: 1.67688 |  0:01:01s\n",
      "epoch 65 | loss: 1.67461 |  0:01:02s\n",
      "epoch 66 | loss: 1.66955 |  0:01:03s\n",
      "epoch 67 | loss: 1.67015 |  0:01:04s\n",
      "epoch 68 | loss: 1.64955 |  0:01:05s\n",
      "epoch 69 | loss: 1.64159 |  0:01:05s\n",
      "epoch 70 | loss: 1.65    |  0:01:06s\n",
      "epoch 71 | loss: 1.64377 |  0:01:08s\n",
      "epoch 72 | loss: 1.64402 |  0:01:09s\n",
      "epoch 73 | loss: 1.63244 |  0:01:10s\n",
      "epoch 74 | loss: 1.63502 |  0:01:11s\n",
      "epoch 75 | loss: 1.63334 |  0:01:12s\n",
      "epoch 76 | loss: 1.65466 |  0:01:13s\n",
      "epoch 77 | loss: 1.67075 |  0:01:14s\n",
      "epoch 78 | loss: 1.65452 |  0:01:15s\n",
      "epoch 79 | loss: 1.63519 |  0:01:16s\n",
      "epoch 80 | loss: 1.63394 |  0:01:17s\n",
      "epoch 81 | loss: 1.62398 |  0:01:18s\n",
      "epoch 82 | loss: 1.65719 |  0:01:19s\n",
      "epoch 83 | loss: 1.64793 |  0:01:20s\n",
      "epoch 84 | loss: 1.64582 |  0:01:21s\n",
      "epoch 85 | loss: 1.65634 |  0:01:22s\n",
      "epoch 86 | loss: 1.63263 |  0:01:23s\n",
      "epoch 87 | loss: 1.62124 |  0:01:24s\n",
      "epoch 88 | loss: 1.64437 |  0:01:26s\n",
      "epoch 89 | loss: 1.62684 |  0:01:27s\n",
      "epoch 90 | loss: 1.61663 |  0:01:28s\n",
      "epoch 91 | loss: 1.61617 |  0:01:29s\n",
      "epoch 92 | loss: 1.6408  |  0:01:30s\n",
      "epoch 93 | loss: 1.60301 |  0:01:31s\n",
      "epoch 94 | loss: 1.58524 |  0:01:32s\n",
      "epoch 95 | loss: 1.59298 |  0:01:33s\n",
      "epoch 96 | loss: 1.5904  |  0:01:34s\n",
      "epoch 97 | loss: 1.59898 |  0:01:35s\n",
      "epoch 98 | loss: 1.58222 |  0:01:36s\n",
      "epoch 99 | loss: 1.58919 |  0:01:37s\n"
     ]
    }
   ],
   "source": [
    "tabnet2_clf = TabNetClassifier()\n",
    "tabnet2_clf.fit(X_res, y_res)"
   ]
  },
  {
   "cell_type": "code",
   "execution_count": 79,
   "metadata": {},
   "outputs": [
    {
     "name": "stdout",
     "output_type": "stream",
     "text": [
      "              precision    recall  f1-score   support\n",
      "\n",
      "           0       0.41      0.28      0.33       305\n",
      "           1       0.01      0.05      0.02        22\n",
      "           2       0.42      0.54      0.48       345\n",
      "           3       0.31      0.18      0.22       205\n",
      "           4       0.60      0.41      0.49       186\n",
      "           5       0.28      0.19      0.23       223\n",
      "           6       0.14      0.41      0.21        41\n",
      "           7       0.05      0.19      0.08        26\n",
      "           8       0.29      0.32      0.31        90\n",
      "           9       0.10      0.32      0.16        69\n",
      "          10       0.25      0.24      0.24       107\n",
      "          11       0.04      0.09      0.06        22\n",
      "          12       0.42      0.28      0.34       176\n",
      "          13       0.20      0.12      0.15       165\n",
      "          14       0.81      0.58      0.68       342\n",
      "          15       0.18      0.22      0.20       164\n",
      "\n",
      "    accuracy                           0.33      2488\n",
      "   macro avg       0.28      0.28      0.26      2488\n",
      "weighted avg       0.40      0.33      0.35      2488\n",
      "\n"
     ]
    }
   ],
   "source": [
    "tabnet2_y_pred = tabnet2_clf.predict(X_test)\n",
    "tabnet2_report = classification_report(y_test, tabnet2_y_pred)\n",
    "print(tabnet2_report)"
   ]
  },
  {
   "cell_type": "code",
   "execution_count": null,
   "metadata": {},
   "outputs": [],
   "source": []
  }
 ],
 "metadata": {
  "interpreter": {
   "hash": "b2576a6d18678760ed6536f546e22b496d0bed3c16ff3f1d390fa8bfc056e9f3"
  },
  "kernelspec": {
   "display_name": "Python 3.8.8 ('base')",
   "language": "python",
   "name": "python3"
  },
  "language_info": {
   "codemirror_mode": {
    "name": "ipython",
    "version": 3
   },
   "file_extension": ".py",
   "mimetype": "text/x-python",
   "name": "python",
   "nbconvert_exporter": "python",
   "pygments_lexer": "ipython3",
   "version": "3.11.4"
  },
  "orig_nbformat": 4
 },
 "nbformat": 4,
 "nbformat_minor": 2
}
